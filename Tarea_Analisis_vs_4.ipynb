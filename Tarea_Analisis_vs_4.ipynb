{
 "cells": [
  {
   "cell_type": "markdown",
   "metadata": {},
   "source": [
    "# ANALISIS VITAMINA D PRE Y DURANTE PANDEMIA EN PACIENTES SANOS SOBRE MUESTRAS REALIZADAS ENTRE 2018 Y 2021 DESDE ARICA A PUERTO MONTT."
   ]
  },
  {
   "cell_type": "markdown",
   "metadata": {},
   "source": [
    "### La vitamina D es un importante regulador del equilibrio del calcio. Además, tiene efectos importantes sobre el sistema inmunitario, induce péptidos antimicrobianos en las superficies mucosas y estudios observacionales anteriores a la pandemia habían encontrado una asociación entre los niveles bajos de este nutriente y un mayor riesgo de infecciones del tracto respiratorio.\n",
    "### Con las medidas de restricción a la circulación que rigieron durante todo 2020 más parte de 2021, y la imposibilidad de las personas de pasar tiempo al aire libre, los valores de vitamina D eran deficientes en la mayoría de la población."
   ]
  },
  {
   "cell_type": "markdown",
   "metadata": {},
   "source": [
    "### En este trabajo buscaremos probar la hipótesis de que la falta de exposición solar provocó un decenso de los niveles totales de Vitamina D en toda la población. Lo que se debiera encontrar acentuado en personas con residencia en el sur, además de estar influido por la estación del año en la que se mida."
   ]
  },
  {
   "cell_type": "code",
   "execution_count": 28,
   "metadata": {
    "id": "ifLwvrb87odf",
    "outputId": "280c7f99-ad6a-4331-f5b5-c97293d40e4a"
   },
   "outputs": [],
   "source": [
    "import numpy as np\n",
    "import pandas as pd\n",
    "import matplotlib.pyplot as plt\n",
    "%matplotlib inline\n",
    "import seaborn as sns\n",
    "\n",
    "import plotly\n",
    "import plotly.graph_objs as go\n",
    "import plotly.express as px\n",
    "import ipywidgets as widgets\n",
    "from plotly.subplots import make_subplots\n",
    "\n",
    "from mpl_toolkits.axes_grid1 import host_subplot\n",
    "import mpl_toolkits.axisartist as AA\n",
    "\n",
    "import warnings\n",
    "warnings.filterwarnings('ignore')\n",
    "\n",
    "#data = pd.read_csv(\"DATOS ADD_VISUALIZACION.CSV\", decimal=',')\n",
    "#data = pd.read_csv('../Visualización/Vitamina_D_Visualizacion_26092022.csv', sep=';', decimal=',')\n",
    "data = pd.read_csv(\"https://raw.githubusercontent.com/wilderhp/VitaminaD/main/Vitamina_D_Visualizacion_26092022.csv\",sep=';', decimal=',')\n",
    "#datahttps://raw.githubusercontent.com/wilderhp/VitaminaD/main/Vitamina_D_Visualizacion_26092022.csv"
   ]
  },
  {
   "cell_type": "code",
   "execution_count": 4,
   "metadata": {},
   "outputs": [
    {
     "data": {
      "text/html": [
       "<div>\n",
       "<style scoped>\n",
       "    .dataframe tbody tr th:only-of-type {\n",
       "        vertical-align: middle;\n",
       "    }\n",
       "\n",
       "    .dataframe tbody tr th {\n",
       "        vertical-align: top;\n",
       "    }\n",
       "\n",
       "    .dataframe thead th {\n",
       "        text-align: right;\n",
       "    }\n",
       "</style>\n",
       "<table border=\"1\" class=\"dataframe\">\n",
       "  <thead>\n",
       "    <tr style=\"text-align: right;\">\n",
       "      <th></th>\n",
       "      <th>FECHA_PETICION</th>\n",
       "      <th>AÑO</th>\n",
       "      <th>LABORATORIO</th>\n",
       "      <th>PETICION</th>\n",
       "      <th>IDENTIFICADOR</th>\n",
       "      <th>SEXO</th>\n",
       "      <th>ADULTO_NIÑO</th>\n",
       "      <th>MACROZONA</th>\n",
       "      <th>ESTACIONES_AÑO</th>\n",
       "      <th>EDAD</th>\n",
       "      <th>VITAMINA D</th>\n",
       "      <th>FOSFORO</th>\n",
       "      <th>CALCIO</th>\n",
       "      <th>CREATININA</th>\n",
       "      <th>COVID-19</th>\n",
       "    </tr>\n",
       "  </thead>\n",
       "  <tbody>\n",
       "    <tr>\n",
       "      <th>0</th>\n",
       "      <td>02/01/2018 8:17</td>\n",
       "      <td>2018</td>\n",
       "      <td>SANTIAGO</td>\n",
       "      <td>1483128</td>\n",
       "      <td>1,12E+13</td>\n",
       "      <td>M</td>\n",
       "      <td>Niño</td>\n",
       "      <td>CENTRO</td>\n",
       "      <td>VERANO</td>\n",
       "      <td>16</td>\n",
       "      <td>22.87</td>\n",
       "      <td>5.5</td>\n",
       "      <td>10.9</td>\n",
       "      <td>0.90</td>\n",
       "      <td>NaN</td>\n",
       "    </tr>\n",
       "    <tr>\n",
       "      <th>1</th>\n",
       "      <td>02/01/2018 8:18</td>\n",
       "      <td>2018</td>\n",
       "      <td>SANTIAGO</td>\n",
       "      <td>1483181</td>\n",
       "      <td>1,13E+13</td>\n",
       "      <td>F</td>\n",
       "      <td>Adulto</td>\n",
       "      <td>CENTRO</td>\n",
       "      <td>VERANO</td>\n",
       "      <td>33</td>\n",
       "      <td>15.04</td>\n",
       "      <td>NaN</td>\n",
       "      <td>NaN</td>\n",
       "      <td>NaN</td>\n",
       "      <td>NaN</td>\n",
       "    </tr>\n",
       "    <tr>\n",
       "      <th>2</th>\n",
       "      <td>02/01/2018 8:24</td>\n",
       "      <td>2018</td>\n",
       "      <td>SANTIAGO</td>\n",
       "      <td>1483186</td>\n",
       "      <td>1,11E+13</td>\n",
       "      <td>M</td>\n",
       "      <td>Adulto</td>\n",
       "      <td>CENTRO</td>\n",
       "      <td>VERANO</td>\n",
       "      <td>45</td>\n",
       "      <td>17.17</td>\n",
       "      <td>4.1</td>\n",
       "      <td>9.6</td>\n",
       "      <td>0.80</td>\n",
       "      <td>NaN</td>\n",
       "    </tr>\n",
       "    <tr>\n",
       "      <th>3</th>\n",
       "      <td>02/01/2018 8:32</td>\n",
       "      <td>2018</td>\n",
       "      <td>SANTIAGO</td>\n",
       "      <td>1483328</td>\n",
       "      <td>1,20E+12</td>\n",
       "      <td>F</td>\n",
       "      <td>Adulto</td>\n",
       "      <td>CENTRO</td>\n",
       "      <td>VERANO</td>\n",
       "      <td>52</td>\n",
       "      <td>14.44</td>\n",
       "      <td>4.3</td>\n",
       "      <td>9.6</td>\n",
       "      <td>0.60</td>\n",
       "      <td>NaN</td>\n",
       "    </tr>\n",
       "    <tr>\n",
       "      <th>4</th>\n",
       "      <td>02/01/2018 8:33</td>\n",
       "      <td>2018</td>\n",
       "      <td>LA SERENA</td>\n",
       "      <td>1483344</td>\n",
       "      <td>1,19E+12</td>\n",
       "      <td>F</td>\n",
       "      <td>Adulto</td>\n",
       "      <td>NORTE</td>\n",
       "      <td>VERANO</td>\n",
       "      <td>52</td>\n",
       "      <td>15.52</td>\n",
       "      <td>NaN</td>\n",
       "      <td>NaN</td>\n",
       "      <td>0.66</td>\n",
       "      <td>NaN</td>\n",
       "    </tr>\n",
       "  </tbody>\n",
       "</table>\n",
       "</div>"
      ],
      "text/plain": [
       "    FECHA_PETICION   AÑO LABORATORIO  PETICION IDENTIFICADOR SEXO ADULTO_NIÑO  \\\n",
       "0  02/01/2018 8:17  2018    SANTIAGO   1483128      1,12E+13    M        Niño   \n",
       "1  02/01/2018 8:18  2018    SANTIAGO   1483181      1,13E+13    F      Adulto   \n",
       "2  02/01/2018 8:24  2018    SANTIAGO   1483186      1,11E+13    M      Adulto   \n",
       "3  02/01/2018 8:32  2018    SANTIAGO   1483328      1,20E+12    F      Adulto   \n",
       "4  02/01/2018 8:33  2018   LA SERENA   1483344      1,19E+12    F      Adulto   \n",
       "\n",
       "  MACROZONA ESTACIONES_AÑO  EDAD  VITAMINA D  FOSFORO  CALCIO  CREATININA  \\\n",
       "0    CENTRO         VERANO    16       22.87      5.5    10.9        0.90   \n",
       "1    CENTRO         VERANO    33       15.04      NaN     NaN         NaN   \n",
       "2    CENTRO         VERANO    45       17.17      4.1     9.6        0.80   \n",
       "3    CENTRO         VERANO    52       14.44      4.3     9.6        0.60   \n",
       "4     NORTE         VERANO    52       15.52      NaN     NaN        0.66   \n",
       "\n",
       "   COVID-19  \n",
       "0       NaN  \n",
       "1       NaN  \n",
       "2       NaN  \n",
       "3       NaN  \n",
       "4       NaN  "
      ]
     },
     "execution_count": 4,
     "metadata": {},
     "output_type": "execute_result"
    }
   ],
   "source": [
    "data.columns = data.columns.str.upper()\n",
    "data.head(5)"
   ]
  },
  {
   "cell_type": "code",
   "execution_count": 5,
   "metadata": {},
   "outputs": [],
   "source": [
    "#data = data[data['VITAMINA D']!='2.402.000.203']\n",
    "#data = data[data['VITAMINA D']!='2.920.002.027']\n",
    "#data = data[data['VITAMINA D']!='2.567.000.204']\n",
    "data['VITAMINA D'] = data['VITAMINA D'].astype(float)"
   ]
  },
  {
   "cell_type": "code",
   "execution_count": 6,
   "metadata": {},
   "outputs": [
    {
     "data": {
      "text/html": [
       "<div>\n",
       "<style scoped>\n",
       "    .dataframe tbody tr th:only-of-type {\n",
       "        vertical-align: middle;\n",
       "    }\n",
       "\n",
       "    .dataframe tbody tr th {\n",
       "        vertical-align: top;\n",
       "    }\n",
       "\n",
       "    .dataframe thead th {\n",
       "        text-align: right;\n",
       "    }\n",
       "</style>\n",
       "<table border=\"1\" class=\"dataframe\">\n",
       "  <thead>\n",
       "    <tr style=\"text-align: right;\">\n",
       "      <th></th>\n",
       "      <th>FECHA_PETICION</th>\n",
       "      <th>AÑO</th>\n",
       "      <th>LABORATORIO</th>\n",
       "      <th>PETICION</th>\n",
       "      <th>IDENTIFICADOR</th>\n",
       "      <th>SEXO</th>\n",
       "      <th>ADULTO_NIÑO</th>\n",
       "      <th>MACROZONA</th>\n",
       "      <th>ESTACIONES_AÑO</th>\n",
       "      <th>EDAD</th>\n",
       "      <th>VITAMINA D</th>\n",
       "      <th>FOSFORO</th>\n",
       "      <th>CALCIO</th>\n",
       "      <th>CREATININA</th>\n",
       "      <th>COVID-19</th>\n",
       "      <th>RESULTADO_VAL</th>\n",
       "      <th>VIT_D_TXT</th>\n",
       "    </tr>\n",
       "  </thead>\n",
       "  <tbody>\n",
       "    <tr>\n",
       "      <th>0</th>\n",
       "      <td>02/01/2018 8:17</td>\n",
       "      <td>2018</td>\n",
       "      <td>SANTIAGO</td>\n",
       "      <td>1483128</td>\n",
       "      <td>1,12E+13</td>\n",
       "      <td>M</td>\n",
       "      <td>Niño</td>\n",
       "      <td>CENTRO</td>\n",
       "      <td>VERANO</td>\n",
       "      <td>16</td>\n",
       "      <td>22.87</td>\n",
       "      <td>5.5</td>\n",
       "      <td>10.9</td>\n",
       "      <td>0.90</td>\n",
       "      <td>NaN</td>\n",
       "      <td>1</td>\n",
       "      <td>Insuficiente</td>\n",
       "    </tr>\n",
       "    <tr>\n",
       "      <th>1</th>\n",
       "      <td>02/01/2018 8:18</td>\n",
       "      <td>2018</td>\n",
       "      <td>SANTIAGO</td>\n",
       "      <td>1483181</td>\n",
       "      <td>1,13E+13</td>\n",
       "      <td>F</td>\n",
       "      <td>Adulto</td>\n",
       "      <td>CENTRO</td>\n",
       "      <td>VERANO</td>\n",
       "      <td>33</td>\n",
       "      <td>15.04</td>\n",
       "      <td>NaN</td>\n",
       "      <td>NaN</td>\n",
       "      <td>NaN</td>\n",
       "      <td>NaN</td>\n",
       "      <td>1</td>\n",
       "      <td>Insuficiente</td>\n",
       "    </tr>\n",
       "    <tr>\n",
       "      <th>2</th>\n",
       "      <td>02/01/2018 8:24</td>\n",
       "      <td>2018</td>\n",
       "      <td>SANTIAGO</td>\n",
       "      <td>1483186</td>\n",
       "      <td>1,11E+13</td>\n",
       "      <td>M</td>\n",
       "      <td>Adulto</td>\n",
       "      <td>CENTRO</td>\n",
       "      <td>VERANO</td>\n",
       "      <td>45</td>\n",
       "      <td>17.17</td>\n",
       "      <td>4.1</td>\n",
       "      <td>9.6</td>\n",
       "      <td>0.80</td>\n",
       "      <td>NaN</td>\n",
       "      <td>1</td>\n",
       "      <td>Insuficiente</td>\n",
       "    </tr>\n",
       "    <tr>\n",
       "      <th>3</th>\n",
       "      <td>02/01/2018 8:32</td>\n",
       "      <td>2018</td>\n",
       "      <td>SANTIAGO</td>\n",
       "      <td>1483328</td>\n",
       "      <td>1,20E+12</td>\n",
       "      <td>F</td>\n",
       "      <td>Adulto</td>\n",
       "      <td>CENTRO</td>\n",
       "      <td>VERANO</td>\n",
       "      <td>52</td>\n",
       "      <td>14.44</td>\n",
       "      <td>4.3</td>\n",
       "      <td>9.6</td>\n",
       "      <td>0.60</td>\n",
       "      <td>NaN</td>\n",
       "      <td>1</td>\n",
       "      <td>Insuficiente</td>\n",
       "    </tr>\n",
       "    <tr>\n",
       "      <th>4</th>\n",
       "      <td>02/01/2018 8:33</td>\n",
       "      <td>2018</td>\n",
       "      <td>LA SERENA</td>\n",
       "      <td>1483344</td>\n",
       "      <td>1,19E+12</td>\n",
       "      <td>F</td>\n",
       "      <td>Adulto</td>\n",
       "      <td>NORTE</td>\n",
       "      <td>VERANO</td>\n",
       "      <td>52</td>\n",
       "      <td>15.52</td>\n",
       "      <td>NaN</td>\n",
       "      <td>NaN</td>\n",
       "      <td>0.66</td>\n",
       "      <td>NaN</td>\n",
       "      <td>1</td>\n",
       "      <td>Insuficiente</td>\n",
       "    </tr>\n",
       "    <tr>\n",
       "      <th>...</th>\n",
       "      <td>...</td>\n",
       "      <td>...</td>\n",
       "      <td>...</td>\n",
       "      <td>...</td>\n",
       "      <td>...</td>\n",
       "      <td>...</td>\n",
       "      <td>...</td>\n",
       "      <td>...</td>\n",
       "      <td>...</td>\n",
       "      <td>...</td>\n",
       "      <td>...</td>\n",
       "      <td>...</td>\n",
       "      <td>...</td>\n",
       "      <td>...</td>\n",
       "      <td>...</td>\n",
       "      <td>...</td>\n",
       "      <td>...</td>\n",
       "    </tr>\n",
       "    <tr>\n",
       "      <th>212521</th>\n",
       "      <td>31/12/2021 12:20</td>\n",
       "      <td>2021</td>\n",
       "      <td>SANTIAGO</td>\n",
       "      <td>6583559</td>\n",
       "      <td>1,11E+13</td>\n",
       "      <td>F</td>\n",
       "      <td>Adulto</td>\n",
       "      <td>CENTRO</td>\n",
       "      <td>PRIMAVERA</td>\n",
       "      <td>41</td>\n",
       "      <td>6.62</td>\n",
       "      <td>NaN</td>\n",
       "      <td>NaN</td>\n",
       "      <td>NaN</td>\n",
       "      <td>NaN</td>\n",
       "      <td>1</td>\n",
       "      <td>Insuficiente</td>\n",
       "    </tr>\n",
       "    <tr>\n",
       "      <th>212522</th>\n",
       "      <td>31/12/2021 12:35</td>\n",
       "      <td>2021</td>\n",
       "      <td>SANTIAGO</td>\n",
       "      <td>6583737</td>\n",
       "      <td>1,18E+12</td>\n",
       "      <td>F</td>\n",
       "      <td>Adulto</td>\n",
       "      <td>CENTRO</td>\n",
       "      <td>PRIMAVERA</td>\n",
       "      <td>63</td>\n",
       "      <td>14.53</td>\n",
       "      <td>NaN</td>\n",
       "      <td>NaN</td>\n",
       "      <td>NaN</td>\n",
       "      <td>NaN</td>\n",
       "      <td>1</td>\n",
       "      <td>Insuficiente</td>\n",
       "    </tr>\n",
       "    <tr>\n",
       "      <th>212523</th>\n",
       "      <td>31/12/2021 13:01</td>\n",
       "      <td>2021</td>\n",
       "      <td>SANTIAGO</td>\n",
       "      <td>6583960</td>\n",
       "      <td>1,13E+13</td>\n",
       "      <td>M</td>\n",
       "      <td>Niño</td>\n",
       "      <td>CENTRO</td>\n",
       "      <td>PRIMAVERA</td>\n",
       "      <td>1</td>\n",
       "      <td>6.61</td>\n",
       "      <td>5.9</td>\n",
       "      <td>9.7</td>\n",
       "      <td>0.31</td>\n",
       "      <td>NaN</td>\n",
       "      <td>1</td>\n",
       "      <td>Insuficiente</td>\n",
       "    </tr>\n",
       "    <tr>\n",
       "      <th>212524</th>\n",
       "      <td>31/12/2021 13:17</td>\n",
       "      <td>2021</td>\n",
       "      <td>SANTIAGO</td>\n",
       "      <td>6584013</td>\n",
       "      <td>1,11E+13</td>\n",
       "      <td>F</td>\n",
       "      <td>Adulto</td>\n",
       "      <td>CENTRO</td>\n",
       "      <td>PRIMAVERA</td>\n",
       "      <td>45</td>\n",
       "      <td>18.50</td>\n",
       "      <td>NaN</td>\n",
       "      <td>NaN</td>\n",
       "      <td>NaN</td>\n",
       "      <td>NaN</td>\n",
       "      <td>1</td>\n",
       "      <td>Insuficiente</td>\n",
       "    </tr>\n",
       "    <tr>\n",
       "      <th>212525</th>\n",
       "      <td>31/12/2021 13:55</td>\n",
       "      <td>2021</td>\n",
       "      <td>SANTIAGO</td>\n",
       "      <td>6584165</td>\n",
       "      <td>1,18E+12</td>\n",
       "      <td>F</td>\n",
       "      <td>Adulto</td>\n",
       "      <td>CENTRO</td>\n",
       "      <td>PRIMAVERA</td>\n",
       "      <td>64</td>\n",
       "      <td>16.91</td>\n",
       "      <td>NaN</td>\n",
       "      <td>NaN</td>\n",
       "      <td>0.90</td>\n",
       "      <td>NaN</td>\n",
       "      <td>1</td>\n",
       "      <td>Insuficiente</td>\n",
       "    </tr>\n",
       "  </tbody>\n",
       "</table>\n",
       "<p>212526 rows × 17 columns</p>\n",
       "</div>"
      ],
      "text/plain": [
       "          FECHA_PETICION   AÑO LABORATORIO  PETICION IDENTIFICADOR SEXO  \\\n",
       "0        02/01/2018 8:17  2018    SANTIAGO   1483128      1,12E+13    M   \n",
       "1        02/01/2018 8:18  2018    SANTIAGO   1483181      1,13E+13    F   \n",
       "2        02/01/2018 8:24  2018    SANTIAGO   1483186      1,11E+13    M   \n",
       "3        02/01/2018 8:32  2018    SANTIAGO   1483328      1,20E+12    F   \n",
       "4        02/01/2018 8:33  2018   LA SERENA   1483344      1,19E+12    F   \n",
       "...                  ...   ...         ...       ...           ...  ...   \n",
       "212521  31/12/2021 12:20  2021    SANTIAGO   6583559      1,11E+13    F   \n",
       "212522  31/12/2021 12:35  2021    SANTIAGO   6583737      1,18E+12    F   \n",
       "212523  31/12/2021 13:01  2021    SANTIAGO   6583960      1,13E+13    M   \n",
       "212524  31/12/2021 13:17  2021    SANTIAGO   6584013      1,11E+13    F   \n",
       "212525  31/12/2021 13:55  2021    SANTIAGO   6584165      1,18E+12    F   \n",
       "\n",
       "       ADULTO_NIÑO MACROZONA ESTACIONES_AÑO  EDAD  VITAMINA D  FOSFORO  \\\n",
       "0             Niño    CENTRO         VERANO    16       22.87      5.5   \n",
       "1           Adulto    CENTRO         VERANO    33       15.04      NaN   \n",
       "2           Adulto    CENTRO         VERANO    45       17.17      4.1   \n",
       "3           Adulto    CENTRO         VERANO    52       14.44      4.3   \n",
       "4           Adulto     NORTE         VERANO    52       15.52      NaN   \n",
       "...            ...       ...            ...   ...         ...      ...   \n",
       "212521      Adulto    CENTRO      PRIMAVERA    41        6.62      NaN   \n",
       "212522      Adulto    CENTRO      PRIMAVERA    63       14.53      NaN   \n",
       "212523        Niño    CENTRO      PRIMAVERA     1        6.61      5.9   \n",
       "212524      Adulto    CENTRO      PRIMAVERA    45       18.50      NaN   \n",
       "212525      Adulto    CENTRO      PRIMAVERA    64       16.91      NaN   \n",
       "\n",
       "        CALCIO  CREATININA  COVID-19  RESULTADO_VAL     VIT_D_TXT  \n",
       "0         10.9        0.90       NaN              1  Insuficiente  \n",
       "1          NaN         NaN       NaN              1  Insuficiente  \n",
       "2          9.6        0.80       NaN              1  Insuficiente  \n",
       "3          9.6        0.60       NaN              1  Insuficiente  \n",
       "4          NaN        0.66       NaN              1  Insuficiente  \n",
       "...        ...         ...       ...            ...           ...  \n",
       "212521     NaN         NaN       NaN              1  Insuficiente  \n",
       "212522     NaN         NaN       NaN              1  Insuficiente  \n",
       "212523     9.7        0.31       NaN              1  Insuficiente  \n",
       "212524     NaN         NaN       NaN              1  Insuficiente  \n",
       "212525     NaN        0.90       NaN              1  Insuficiente  \n",
       "\n",
       "[212526 rows x 17 columns]"
      ]
     },
     "execution_count": 6,
     "metadata": {},
     "output_type": "execute_result"
    }
   ],
   "source": [
    "# Para definir los resultados de la vitamina en base a la tabla en https://tucuerpomehabla.com/la-vitamina-d-clave-en-nuestro-bienestar/\n",
    "def condicion(x):\n",
    "    x=int(x)\n",
    "    if x<30:\n",
    "        return \"Insuficiente\"\n",
    "    else:\n",
    "        return \"Deseable\"\n",
    "    \n",
    "\n",
    "def retornarMes(x):\n",
    "    return mesesDic[str(x)]\n",
    "\n",
    "\n",
    "data['RESULTADO_VAL']= 1\n",
    "\n",
    "data['VIT_D_TXT'] = data['VITAMINA D'].apply(condicion)\n",
    "data\n"
   ]
  },
  {
   "cell_type": "markdown",
   "metadata": {},
   "source": [
    "### Primero revisamos cuál es la unidad de análisis. Cada Petición corresponde a un exámen tomado a un paciente X."
   ]
  },
  {
   "cell_type": "code",
   "execution_count": 7,
   "metadata": {},
   "outputs": [
    {
     "data": {
      "text/plain": [
       "1,12E+13             92977\n",
       "1,11E+13             59086\n",
       "1,19E+12             10702\n",
       "1,17E+12             10110\n",
       "1,18E+12              9585\n",
       "                     ...  \n",
       "11EX235401398796         1\n",
       "11IND353273935619        1\n",
       "11EX235196396857         1\n",
       "11EX235379395159         1\n",
       "11EX235468396709         1\n",
       "Name: IDENTIFICADOR, Length: 391, dtype: int64"
      ]
     },
     "execution_count": 7,
     "metadata": {},
     "output_type": "execute_result"
    }
   ],
   "source": [
    "data['IDENTIFICADOR'].value_counts()"
   ]
  },
  {
   "cell_type": "code",
   "execution_count": 8,
   "metadata": {},
   "outputs": [
    {
     "data": {
      "text/plain": [
       "2208168    1\n",
       "3645272    1\n",
       "5029692    1\n",
       "2588484    1\n",
       "3632966    1\n",
       "          ..\n",
       "3808789    1\n",
       "2754070    1\n",
       "2260505    1\n",
       "4347420    1\n",
       "4313929    1\n",
       "Name: PETICION, Length: 212526, dtype: int64"
      ]
     },
     "execution_count": 8,
     "metadata": {},
     "output_type": "execute_result"
    }
   ],
   "source": [
    "data['PETICION'].value_counts()"
   ]
  },
  {
   "cell_type": "code",
   "execution_count": 9,
   "metadata": {},
   "outputs": [
    {
     "data": {
      "text/plain": [
       "array([' SANTIAGO', ' LA SERENA', ' VALDIVIA', ' ANTOFAGASTA',\n",
       "       ' PUERTO MONTT', ' ILLAPEL', ' RANCAGUA', ' CONCEPCION', ' OVALLE',\n",
       "       ' LOS ANDES', ' VIÑA DEL MAR', ' VALLENAR', ' TEMUCO', ' COPIAPO',\n",
       "       ' ARICA', ' CALAMA', ' IQUIQUE', 'TALCA'], dtype=object)"
      ]
     },
     "execution_count": 9,
     "metadata": {},
     "output_type": "execute_result"
    }
   ],
   "source": [
    "data['LABORATORIO'].unique()"
   ]
  },
  {
   "cell_type": "markdown",
   "metadata": {},
   "source": [
    "### Las variables categóricas también son útiles para predecir resultados, por este motivo se hará un mapeo de las variables que se consideran relevantes para el modelo.\n",
    "### La variable que se quiere predecir es el resultado de un examen bajo ciertas condiciones externas a las que se enfrentan los pacientes y que influyen en la concentración de Vitamina D"
   ]
  },
  {
   "cell_type": "code",
   "execution_count": 10,
   "metadata": {},
   "outputs": [],
   "source": [
    "\n",
    "data['rango_edad'] = data['ADULTO_NIÑO'].map({'Adulto': 1, 'Niño': 0})\n",
    "data['estación'] = data['ESTACIONES_AÑO'].map({'INVIERNO': 0, 'OTOÑO': 1, 'PRIMAVERA': 2, 'VERANO': 3  })\n",
    "data['region_lab']= data['LABORATORIO'].map({\n",
    "   ' SANTIAGO': 13,\n",
    "   ' LA SERENA':4,\n",
    "   ' VALDIVIA': 14,\n",
    "   ' ANTOFAGASTA': 2,\n",
    "   ' PUERTO MONTT': 10,\n",
    "   ' ILLAPEL':4,\n",
    "   ' RANCAGUA':6,\n",
    "   ' CONCEPCION': 8,\n",
    "   ' OVALLE':4,\n",
    "   ' LOS ANDES': 5,\n",
    "   ' VIÑA DEL MAR':5,\n",
    "   ' VALLENAR':3,\n",
    "   ' TEMUCO':9,\n",
    "   ' COPIAPO':3,\n",
    "   ' ARICA':15,\n",
    "   ' CALAMA':2, \n",
    "   ' IQUIQUE':1,\n",
    "   'TALCA': 7\n",
    "})"
   ]
  },
  {
   "cell_type": "code",
   "execution_count": 11,
   "metadata": {},
   "outputs": [],
   "source": [
    "data['resultado']= data['VIT_D_TXT'].map({'Deseable': 1, 'Insuficiente': 0})"
   ]
  },
  {
   "cell_type": "markdown",
   "metadata": {},
   "source": [
    "### Se crearon nuevas variables numéricas denominadas: rango_edad, estación, macro_zona y region_lab. Todas estas variables se consiedaran relevantes puesto que la mayoría de los estudios científicos avalan que la exposicón al sol es relevante en los indicadores de Vitamina D."
   ]
  },
  {
   "cell_type": "code",
   "execution_count": 12,
   "metadata": {},
   "outputs": [
    {
     "data": {
      "text/html": [
       "<div>\n",
       "<style scoped>\n",
       "    .dataframe tbody tr th:only-of-type {\n",
       "        vertical-align: middle;\n",
       "    }\n",
       "\n",
       "    .dataframe tbody tr th {\n",
       "        vertical-align: top;\n",
       "    }\n",
       "\n",
       "    .dataframe thead th {\n",
       "        text-align: right;\n",
       "    }\n",
       "</style>\n",
       "<table border=\"1\" class=\"dataframe\">\n",
       "  <thead>\n",
       "    <tr style=\"text-align: right;\">\n",
       "      <th></th>\n",
       "      <th>FECHA_PETICION</th>\n",
       "      <th>AÑO</th>\n",
       "      <th>LABORATORIO</th>\n",
       "      <th>PETICION</th>\n",
       "      <th>IDENTIFICADOR</th>\n",
       "      <th>SEXO</th>\n",
       "      <th>ADULTO_NIÑO</th>\n",
       "      <th>MACROZONA</th>\n",
       "      <th>ESTACIONES_AÑO</th>\n",
       "      <th>EDAD</th>\n",
       "      <th>...</th>\n",
       "      <th>FOSFORO</th>\n",
       "      <th>CALCIO</th>\n",
       "      <th>CREATININA</th>\n",
       "      <th>COVID-19</th>\n",
       "      <th>RESULTADO_VAL</th>\n",
       "      <th>VIT_D_TXT</th>\n",
       "      <th>rango_edad</th>\n",
       "      <th>estación</th>\n",
       "      <th>region_lab</th>\n",
       "      <th>resultado</th>\n",
       "    </tr>\n",
       "  </thead>\n",
       "  <tbody>\n",
       "    <tr>\n",
       "      <th>0</th>\n",
       "      <td>02/01/2018 8:17</td>\n",
       "      <td>2018</td>\n",
       "      <td>SANTIAGO</td>\n",
       "      <td>1483128</td>\n",
       "      <td>1,12E+13</td>\n",
       "      <td>M</td>\n",
       "      <td>Niño</td>\n",
       "      <td>CENTRO</td>\n",
       "      <td>VERANO</td>\n",
       "      <td>16</td>\n",
       "      <td>...</td>\n",
       "      <td>5.5</td>\n",
       "      <td>10.9</td>\n",
       "      <td>0.90</td>\n",
       "      <td>NaN</td>\n",
       "      <td>1</td>\n",
       "      <td>Insuficiente</td>\n",
       "      <td>0</td>\n",
       "      <td>3</td>\n",
       "      <td>13</td>\n",
       "      <td>0</td>\n",
       "    </tr>\n",
       "    <tr>\n",
       "      <th>1</th>\n",
       "      <td>02/01/2018 8:18</td>\n",
       "      <td>2018</td>\n",
       "      <td>SANTIAGO</td>\n",
       "      <td>1483181</td>\n",
       "      <td>1,13E+13</td>\n",
       "      <td>F</td>\n",
       "      <td>Adulto</td>\n",
       "      <td>CENTRO</td>\n",
       "      <td>VERANO</td>\n",
       "      <td>33</td>\n",
       "      <td>...</td>\n",
       "      <td>NaN</td>\n",
       "      <td>NaN</td>\n",
       "      <td>NaN</td>\n",
       "      <td>NaN</td>\n",
       "      <td>1</td>\n",
       "      <td>Insuficiente</td>\n",
       "      <td>1</td>\n",
       "      <td>3</td>\n",
       "      <td>13</td>\n",
       "      <td>0</td>\n",
       "    </tr>\n",
       "    <tr>\n",
       "      <th>2</th>\n",
       "      <td>02/01/2018 8:24</td>\n",
       "      <td>2018</td>\n",
       "      <td>SANTIAGO</td>\n",
       "      <td>1483186</td>\n",
       "      <td>1,11E+13</td>\n",
       "      <td>M</td>\n",
       "      <td>Adulto</td>\n",
       "      <td>CENTRO</td>\n",
       "      <td>VERANO</td>\n",
       "      <td>45</td>\n",
       "      <td>...</td>\n",
       "      <td>4.1</td>\n",
       "      <td>9.6</td>\n",
       "      <td>0.80</td>\n",
       "      <td>NaN</td>\n",
       "      <td>1</td>\n",
       "      <td>Insuficiente</td>\n",
       "      <td>1</td>\n",
       "      <td>3</td>\n",
       "      <td>13</td>\n",
       "      <td>0</td>\n",
       "    </tr>\n",
       "    <tr>\n",
       "      <th>3</th>\n",
       "      <td>02/01/2018 8:32</td>\n",
       "      <td>2018</td>\n",
       "      <td>SANTIAGO</td>\n",
       "      <td>1483328</td>\n",
       "      <td>1,20E+12</td>\n",
       "      <td>F</td>\n",
       "      <td>Adulto</td>\n",
       "      <td>CENTRO</td>\n",
       "      <td>VERANO</td>\n",
       "      <td>52</td>\n",
       "      <td>...</td>\n",
       "      <td>4.3</td>\n",
       "      <td>9.6</td>\n",
       "      <td>0.60</td>\n",
       "      <td>NaN</td>\n",
       "      <td>1</td>\n",
       "      <td>Insuficiente</td>\n",
       "      <td>1</td>\n",
       "      <td>3</td>\n",
       "      <td>13</td>\n",
       "      <td>0</td>\n",
       "    </tr>\n",
       "    <tr>\n",
       "      <th>4</th>\n",
       "      <td>02/01/2018 8:33</td>\n",
       "      <td>2018</td>\n",
       "      <td>LA SERENA</td>\n",
       "      <td>1483344</td>\n",
       "      <td>1,19E+12</td>\n",
       "      <td>F</td>\n",
       "      <td>Adulto</td>\n",
       "      <td>NORTE</td>\n",
       "      <td>VERANO</td>\n",
       "      <td>52</td>\n",
       "      <td>...</td>\n",
       "      <td>NaN</td>\n",
       "      <td>NaN</td>\n",
       "      <td>0.66</td>\n",
       "      <td>NaN</td>\n",
       "      <td>1</td>\n",
       "      <td>Insuficiente</td>\n",
       "      <td>1</td>\n",
       "      <td>3</td>\n",
       "      <td>4</td>\n",
       "      <td>0</td>\n",
       "    </tr>\n",
       "    <tr>\n",
       "      <th>...</th>\n",
       "      <td>...</td>\n",
       "      <td>...</td>\n",
       "      <td>...</td>\n",
       "      <td>...</td>\n",
       "      <td>...</td>\n",
       "      <td>...</td>\n",
       "      <td>...</td>\n",
       "      <td>...</td>\n",
       "      <td>...</td>\n",
       "      <td>...</td>\n",
       "      <td>...</td>\n",
       "      <td>...</td>\n",
       "      <td>...</td>\n",
       "      <td>...</td>\n",
       "      <td>...</td>\n",
       "      <td>...</td>\n",
       "      <td>...</td>\n",
       "      <td>...</td>\n",
       "      <td>...</td>\n",
       "      <td>...</td>\n",
       "      <td>...</td>\n",
       "    </tr>\n",
       "    <tr>\n",
       "      <th>212521</th>\n",
       "      <td>31/12/2021 12:20</td>\n",
       "      <td>2021</td>\n",
       "      <td>SANTIAGO</td>\n",
       "      <td>6583559</td>\n",
       "      <td>1,11E+13</td>\n",
       "      <td>F</td>\n",
       "      <td>Adulto</td>\n",
       "      <td>CENTRO</td>\n",
       "      <td>PRIMAVERA</td>\n",
       "      <td>41</td>\n",
       "      <td>...</td>\n",
       "      <td>NaN</td>\n",
       "      <td>NaN</td>\n",
       "      <td>NaN</td>\n",
       "      <td>NaN</td>\n",
       "      <td>1</td>\n",
       "      <td>Insuficiente</td>\n",
       "      <td>1</td>\n",
       "      <td>2</td>\n",
       "      <td>13</td>\n",
       "      <td>0</td>\n",
       "    </tr>\n",
       "    <tr>\n",
       "      <th>212522</th>\n",
       "      <td>31/12/2021 12:35</td>\n",
       "      <td>2021</td>\n",
       "      <td>SANTIAGO</td>\n",
       "      <td>6583737</td>\n",
       "      <td>1,18E+12</td>\n",
       "      <td>F</td>\n",
       "      <td>Adulto</td>\n",
       "      <td>CENTRO</td>\n",
       "      <td>PRIMAVERA</td>\n",
       "      <td>63</td>\n",
       "      <td>...</td>\n",
       "      <td>NaN</td>\n",
       "      <td>NaN</td>\n",
       "      <td>NaN</td>\n",
       "      <td>NaN</td>\n",
       "      <td>1</td>\n",
       "      <td>Insuficiente</td>\n",
       "      <td>1</td>\n",
       "      <td>2</td>\n",
       "      <td>13</td>\n",
       "      <td>0</td>\n",
       "    </tr>\n",
       "    <tr>\n",
       "      <th>212523</th>\n",
       "      <td>31/12/2021 13:01</td>\n",
       "      <td>2021</td>\n",
       "      <td>SANTIAGO</td>\n",
       "      <td>6583960</td>\n",
       "      <td>1,13E+13</td>\n",
       "      <td>M</td>\n",
       "      <td>Niño</td>\n",
       "      <td>CENTRO</td>\n",
       "      <td>PRIMAVERA</td>\n",
       "      <td>1</td>\n",
       "      <td>...</td>\n",
       "      <td>5.9</td>\n",
       "      <td>9.7</td>\n",
       "      <td>0.31</td>\n",
       "      <td>NaN</td>\n",
       "      <td>1</td>\n",
       "      <td>Insuficiente</td>\n",
       "      <td>0</td>\n",
       "      <td>2</td>\n",
       "      <td>13</td>\n",
       "      <td>0</td>\n",
       "    </tr>\n",
       "    <tr>\n",
       "      <th>212524</th>\n",
       "      <td>31/12/2021 13:17</td>\n",
       "      <td>2021</td>\n",
       "      <td>SANTIAGO</td>\n",
       "      <td>6584013</td>\n",
       "      <td>1,11E+13</td>\n",
       "      <td>F</td>\n",
       "      <td>Adulto</td>\n",
       "      <td>CENTRO</td>\n",
       "      <td>PRIMAVERA</td>\n",
       "      <td>45</td>\n",
       "      <td>...</td>\n",
       "      <td>NaN</td>\n",
       "      <td>NaN</td>\n",
       "      <td>NaN</td>\n",
       "      <td>NaN</td>\n",
       "      <td>1</td>\n",
       "      <td>Insuficiente</td>\n",
       "      <td>1</td>\n",
       "      <td>2</td>\n",
       "      <td>13</td>\n",
       "      <td>0</td>\n",
       "    </tr>\n",
       "    <tr>\n",
       "      <th>212525</th>\n",
       "      <td>31/12/2021 13:55</td>\n",
       "      <td>2021</td>\n",
       "      <td>SANTIAGO</td>\n",
       "      <td>6584165</td>\n",
       "      <td>1,18E+12</td>\n",
       "      <td>F</td>\n",
       "      <td>Adulto</td>\n",
       "      <td>CENTRO</td>\n",
       "      <td>PRIMAVERA</td>\n",
       "      <td>64</td>\n",
       "      <td>...</td>\n",
       "      <td>NaN</td>\n",
       "      <td>NaN</td>\n",
       "      <td>0.90</td>\n",
       "      <td>NaN</td>\n",
       "      <td>1</td>\n",
       "      <td>Insuficiente</td>\n",
       "      <td>1</td>\n",
       "      <td>2</td>\n",
       "      <td>13</td>\n",
       "      <td>0</td>\n",
       "    </tr>\n",
       "  </tbody>\n",
       "</table>\n",
       "<p>212526 rows × 21 columns</p>\n",
       "</div>"
      ],
      "text/plain": [
       "          FECHA_PETICION   AÑO LABORATORIO  PETICION IDENTIFICADOR SEXO  \\\n",
       "0        02/01/2018 8:17  2018    SANTIAGO   1483128      1,12E+13    M   \n",
       "1        02/01/2018 8:18  2018    SANTIAGO   1483181      1,13E+13    F   \n",
       "2        02/01/2018 8:24  2018    SANTIAGO   1483186      1,11E+13    M   \n",
       "3        02/01/2018 8:32  2018    SANTIAGO   1483328      1,20E+12    F   \n",
       "4        02/01/2018 8:33  2018   LA SERENA   1483344      1,19E+12    F   \n",
       "...                  ...   ...         ...       ...           ...  ...   \n",
       "212521  31/12/2021 12:20  2021    SANTIAGO   6583559      1,11E+13    F   \n",
       "212522  31/12/2021 12:35  2021    SANTIAGO   6583737      1,18E+12    F   \n",
       "212523  31/12/2021 13:01  2021    SANTIAGO   6583960      1,13E+13    M   \n",
       "212524  31/12/2021 13:17  2021    SANTIAGO   6584013      1,11E+13    F   \n",
       "212525  31/12/2021 13:55  2021    SANTIAGO   6584165      1,18E+12    F   \n",
       "\n",
       "       ADULTO_NIÑO MACROZONA ESTACIONES_AÑO  EDAD  ...  FOSFORO  CALCIO  \\\n",
       "0             Niño    CENTRO         VERANO    16  ...      5.5    10.9   \n",
       "1           Adulto    CENTRO         VERANO    33  ...      NaN     NaN   \n",
       "2           Adulto    CENTRO         VERANO    45  ...      4.1     9.6   \n",
       "3           Adulto    CENTRO         VERANO    52  ...      4.3     9.6   \n",
       "4           Adulto     NORTE         VERANO    52  ...      NaN     NaN   \n",
       "...            ...       ...            ...   ...  ...      ...     ...   \n",
       "212521      Adulto    CENTRO      PRIMAVERA    41  ...      NaN     NaN   \n",
       "212522      Adulto    CENTRO      PRIMAVERA    63  ...      NaN     NaN   \n",
       "212523        Niño    CENTRO      PRIMAVERA     1  ...      5.9     9.7   \n",
       "212524      Adulto    CENTRO      PRIMAVERA    45  ...      NaN     NaN   \n",
       "212525      Adulto    CENTRO      PRIMAVERA    64  ...      NaN     NaN   \n",
       "\n",
       "        CREATININA  COVID-19  RESULTADO_VAL     VIT_D_TXT rango_edad  \\\n",
       "0             0.90       NaN              1  Insuficiente          0   \n",
       "1              NaN       NaN              1  Insuficiente          1   \n",
       "2             0.80       NaN              1  Insuficiente          1   \n",
       "3             0.60       NaN              1  Insuficiente          1   \n",
       "4             0.66       NaN              1  Insuficiente          1   \n",
       "...            ...       ...            ...           ...        ...   \n",
       "212521         NaN       NaN              1  Insuficiente          1   \n",
       "212522         NaN       NaN              1  Insuficiente          1   \n",
       "212523        0.31       NaN              1  Insuficiente          0   \n",
       "212524         NaN       NaN              1  Insuficiente          1   \n",
       "212525        0.90       NaN              1  Insuficiente          1   \n",
       "\n",
       "        estación  region_lab  resultado  \n",
       "0              3          13          0  \n",
       "1              3          13          0  \n",
       "2              3          13          0  \n",
       "3              3          13          0  \n",
       "4              3           4          0  \n",
       "...          ...         ...        ...  \n",
       "212521         2          13          0  \n",
       "212522         2          13          0  \n",
       "212523         2          13          0  \n",
       "212524         2          13          0  \n",
       "212525         2          13          0  \n",
       "\n",
       "[212526 rows x 21 columns]"
      ]
     },
     "execution_count": 12,
     "metadata": {},
     "output_type": "execute_result"
    }
   ],
   "source": [
    "data"
   ]
  },
  {
   "cell_type": "code",
   "execution_count": 13,
   "metadata": {},
   "outputs": [
    {
     "data": {
      "text/plain": [
       "0    178921\n",
       "1     33605\n",
       "Name: resultado, dtype: int64"
      ]
     },
     "execution_count": 13,
     "metadata": {},
     "output_type": "execute_result"
    }
   ],
   "source": [
    "data['resultado'].value_counts()"
   ]
  },
  {
   "cell_type": "markdown",
   "metadata": {},
   "source": [
    "### Los resultados de los exámenes muestran que de las 212526 muestras tomadas un 84.18% arrojan resultados insuficientes de Vitamina D."
   ]
  },
  {
   "cell_type": "markdown",
   "metadata": {},
   "source": [
    "### Análisis de la distribución de las variables numéricas"
   ]
  },
  {
   "cell_type": "code",
   "execution_count": 14,
   "metadata": {},
   "outputs": [
    {
     "data": {
      "image/png": "[encoded data removed]",
      "text/plain": [
       "<Figure size 720x720 with 20 Axes>"
      ]
     },
     "metadata": {},
     "output_type": "display_data"
    }
   ],
   "source": [
    "sns.set()\n",
    "cols = ['EDAD','VITAMINA D','CALCIO','FOSFORO']\n",
    "sns.pairplot(data[cols], size = 2.5)\n",
    "plt.show();"
   ]
  },
  {
   "cell_type": "markdown",
   "metadata": {},
   "source": [
    "### Análisis de correlación entre las variables numericas de Edad, VItamina D Calcio y Fósforo"
   ]
  },
  {
   "cell_type": "code",
   "execution_count": 16,
   "metadata": {},
   "outputs": [
    {
     "data": {
      "image/png": "[encoded data removed]",
      "text/plain": [
       "<Figure size 720x360 with 2 Axes>"
      ]
     },
     "metadata": {},
     "output_type": "display_data"
    }
   ],
   "source": [
    "cols = ['EDAD','VITAMINA D','CALCIO','FOSFORO']\n",
    "\n",
    "data_selec=data[cols]\n",
    "plt.figure(figsize=(10,5))\n",
    "sns.heatmap(data_selec.corr(),annot=True,linewidth=0.5,center=0,cmap='coolwarm')\n",
    "plt.show()"
   ]
  },
  {
   "cell_type": "code",
   "execution_count": 18,
   "metadata": {},
   "outputs": [],
   "source": [
    "### Distribución de las variables como Edad, Calcio y Fósforo con respecto a la Vitamina D"
   ]
  },
  {
   "cell_type": "code",
   "execution_count": 17,
   "metadata": {},
   "outputs": [
    {
     "data": {
      "image/png": "[encoded data removed]",
      "text/plain": [
       "<Figure size 615.675x540 with 12 Axes>"
      ]
     },
     "metadata": {},
     "output_type": "display_data"
    }
   ],
   "source": [
    "sns.pairplot(data_selec, hue=\"VITAMINA D\")\n",
    "plt.show()"
   ]
  },
  {
   "cell_type": "markdown",
   "metadata": {},
   "source": [
    "### Comportamiento de la Vitamina D con el Calcio y Fósforo durante los años pre y durante pandemia"
   ]
  },
  {
   "cell_type": "code",
   "execution_count": 21,
   "metadata": {},
   "outputs": [
    {
     "data": {
      "text/html": [
       "<div>\n",
       "<style scoped>\n",
       "    .dataframe tbody tr th:only-of-type {\n",
       "        vertical-align: middle;\n",
       "    }\n",
       "\n",
       "    .dataframe tbody tr th {\n",
       "        vertical-align: top;\n",
       "    }\n",
       "\n",
       "    .dataframe thead th {\n",
       "        text-align: right;\n",
       "    }\n",
       "</style>\n",
       "<table border=\"1\" class=\"dataframe\">\n",
       "  <thead>\n",
       "    <tr style=\"text-align: right;\">\n",
       "      <th></th>\n",
       "      <th>AÑO</th>\n",
       "      <th>VITAMINA D</th>\n",
       "      <th>CALCIO</th>\n",
       "      <th>FOSFORO</th>\n",
       "    </tr>\n",
       "  </thead>\n",
       "  <tbody>\n",
       "    <tr>\n",
       "      <th>0</th>\n",
       "      <td>2018</td>\n",
       "      <td>20.861393</td>\n",
       "      <td>9.631929</td>\n",
       "      <td>4.051145</td>\n",
       "    </tr>\n",
       "    <tr>\n",
       "      <th>1</th>\n",
       "      <td>2019</td>\n",
       "      <td>23.515718</td>\n",
       "      <td>9.666053</td>\n",
       "      <td>4.050896</td>\n",
       "    </tr>\n",
       "    <tr>\n",
       "      <th>2</th>\n",
       "      <td>2020</td>\n",
       "      <td>22.032825</td>\n",
       "      <td>9.320467</td>\n",
       "      <td>3.877068</td>\n",
       "    </tr>\n",
       "    <tr>\n",
       "      <th>3</th>\n",
       "      <td>2021</td>\n",
       "      <td>20.450111</td>\n",
       "      <td>9.285490</td>\n",
       "      <td>3.813380</td>\n",
       "    </tr>\n",
       "  </tbody>\n",
       "</table>\n",
       "</div>"
      ],
      "text/plain": [
       "    AÑO  VITAMINA D    CALCIO   FOSFORO\n",
       "0  2018   20.861393  9.631929  4.051145\n",
       "1  2019   23.515718  9.666053  4.050896\n",
       "2  2020   22.032825  9.320467  3.877068\n",
       "3  2021   20.450111  9.285490  3.813380"
      ]
     },
     "execution_count": 21,
     "metadata": {},
     "output_type": "execute_result"
    }
   ],
   "source": [
    "VitD_Ca=data[['AÑO','VITAMINA D','CALCIO', 'FOSFORO']]\n",
    "VitD_Ca=VitD_Ca.groupby(['AÑO']).agg({'VITAMINA D':'mean','CALCIO':'mean','FOSFORO':'mean'})\n",
    "VitD_Ca=VitD_Ca.reset_index()\n",
    "VitD_Ca"
   ]
  },
  {
   "cell_type": "code",
   "execution_count": 29,
   "metadata": {},
   "outputs": [
    {
     "data": {
      "image/png": "[encoded data removed]",
      "text/plain": [
       "<Figure size 432x288 with 1 Axes>"
      ]
     },
     "metadata": {
      "needs_background": "light"
     },
     "output_type": "display_data"
    }
   ],
   "source": [
    "#from mpl_toolkits.axes_grid1 import host_subplot\n",
    "#import mpl_toolkits.axisartist as AA\n",
    "#import matplotlib.pyplot as plt\n",
    "#fig,ax1=plt.subplots(figsize=(18,10))\n",
    "\n",
    "host = host_subplot(111, axes_class=AA.Axes)\n",
    "plt.subplots_adjust(right=1.6)\n",
    "fontsize=14\n",
    "\n",
    "par1 = host.twinx()\n",
    "par2 = host.twinx()\n",
    "par3 = host.twinx()\n",
    "\n",
    "offset = 60\n",
    "new_fixed_axis = par2.get_grid_helper().new_fixed_axis\n",
    "par2.axis[\"right\"] = new_fixed_axis(loc=\"right\", axes=par2,\n",
    "                                        offset=(offset, 0))\n",
    "\n",
    "par2.axis[\"right\"].toggle(all=True)\n",
    "par1.axis[\"right\"].toggle(all=True)\n",
    "\n",
    "#host.set_xlim(-0.5,3.5)\n",
    "host.set_ylim(18, 26, 4)\n",
    "\n",
    "host.set_xlabel(\"AÑO\")\n",
    "host.set_ylabel(\"VITAMINA D (ng/dL)\")\n",
    "par1.set_ylabel(\"CALCIO (mg/dL)\")\n",
    "par2.set_ylabel(\"FÓSFORO (mg/dL)\")\n",
    "\n",
    "p1, = host.plot(VitD_Ca[\"AÑO\"].tolist(),VitD_Ca[\"VITAMINA D\"].tolist(), label=\"VITAMINA D\")\n",
    "p2, = par1.plot(VitD_Ca[\"AÑO\"].tolist(),VitD_Ca[\"CALCIO\"].tolist(), label=\"CALCIO\")\n",
    "p3, = par2.plot(VitD_Ca[\"AÑO\"].tolist(),VitD_Ca[\"FOSFORO\"].tolist(), label=\"FÓSFORO\")\n",
    "\n",
    "\n",
    "lns = [p1, p2, p3]\n",
    "host.legend(handles=lns, loc='best')\n",
    "\n",
    "#par2.spines['right'].set_position(('outward', 40))\n",
    "\n",
    "\n",
    "par2.xaxis.set_ticks([])\n",
    "\n",
    "#host.axis.label.set_color(p1.get_color())\n",
    "#par1.axis.label.set_color(p2.get_color())\n",
    "#par2.axis.label.set_color(p3.get_color())\n",
    "\n",
    "\n",
    "par1.set_ylim(8.6, 9.8)\n",
    "par2.set_ylim(3.7, 5)\n",
    "\n",
    "\n",
    "\n",
    "host.axis[\"left\"].label.set_color(p1.get_color())\n",
    "par1.axis[\"right\"].label.set_color(p2.get_color())\n",
    "par2.axis[\"right\"].label.set_color(p3.get_color())\n",
    "host.spines['top'].set_visible(False)\n",
    "host.legend()\n",
    "plt.suptitle(\"Disminución de Vitamina D, Calcio y Fósforo entre los años 2018 y 2021 \",\n",
    "             horizontalalignment = 'left', fontsize=12, color ='b')\n",
    "             #3x=1,\n",
    "             #y=2)\n",
    "             #transform=fig.transFigure)\n",
    "plt.draw()\n",
    "fig.tight_layout()\n",
    "plt.show()\n",
    "\n",
    "#plt.savefig(\"Test\")"
   ]
  },
  {
   "cell_type": "markdown",
   "metadata": {},
   "source": [
    "####  Se observa que el descenso de la vitamina D durante los años del 2018 al 2021 estuvo acompañado también de una disminución en la concentración Calcio y Fósforo "
   ]
  },
  {
   "cell_type": "code",
   "execution_count": 12,
   "metadata": {},
   "outputs": [],
   "source": [
    "import statsmodels.api as sm\n",
    "\n",
    "import statsmodels.formula.api as smf"
   ]
  },
  {
   "cell_type": "markdown",
   "metadata": {},
   "source": [
    "## I. Análisis de las variables usando Regresión Múltiple"
   ]
  },
  {
   "cell_type": "markdown",
   "metadata": {},
   "source": [
    "## Estaciónes del año\n",
    "### Primero se revisará cómo se comporta la concentración de Vitamina D en la población a medida que pasa de invierno a verano."
   ]
  },
  {
   "cell_type": "code",
   "execution_count": 13,
   "metadata": {},
   "outputs": [
    {
     "name": "stdout",
     "output_type": "stream",
     "text": [
      "                            OLS Regression Results                            \n",
      "==============================================================================\n",
      "Dep. Variable:              resultado   R-squared:                       0.016\n",
      "Model:                            OLS   Adj. R-squared:                  0.016\n",
      "Method:                 Least Squares   F-statistic:                     3440.\n",
      "Date:                Wed, 05 Oct 2022   Prob (F-statistic):               0.00\n",
      "Time:                        21:30:15   Log-Likelihood:                -85575.\n",
      "No. Observations:              212526   AIC:                         1.712e+05\n",
      "Df Residuals:                  212524   BIC:                         1.712e+05\n",
      "Df Model:                           1                                         \n",
      "Covariance Type:            nonrobust                                         \n",
      "==============================================================================\n",
      "                 coef    std err          t      P>|t|      [0.025      0.975]\n",
      "------------------------------------------------------------------------------\n",
      "Intercept      0.0964      0.001     73.366      0.000       0.094       0.099\n",
      "estación       0.0414      0.001     58.655      0.000       0.040       0.043\n",
      "==============================================================================\n",
      "Omnibus:                    63234.388   Durbin-Watson:                   1.903\n",
      "Prob(Omnibus):                  0.000   Jarque-Bera (JB):           137430.774\n",
      "Skew:                           1.829   Prob(JB):                         0.00\n",
      "Kurtosis:                       4.463   Cond. No.                         3.75\n",
      "==============================================================================\n",
      "\n",
      "Notes:\n",
      "[1] Standard Errors assume that the covariance matrix of the errors is correctly specified.\n"
     ]
    }
   ],
   "source": [
    "mod = smf.ols(formula='resultado ~ estación', data=data)\n",
    "res = mod.fit()\n",
    "print(res.summary())"
   ]
  },
  {
   "cell_type": "code",
   "execution_count": 14,
   "metadata": {},
   "outputs": [
    {
     "name": "stdout",
     "output_type": "stream",
     "text": [
      "Intercept    0.096361\n",
      "estación     0.041359\n",
      "dtype: float64\n"
     ]
    }
   ],
   "source": [
    "params = res.params\n",
    "print(params)"
   ]
  },
  {
   "cell_type": "code",
   "execution_count": 15,
   "metadata": {},
   "outputs": [
    {
     "data": {
      "text/plain": [
       "Text(0.5, 1.0, 'Regresión de resultado en función de la estación')"
      ]
     },
     "execution_count": 15,
     "metadata": {},
     "output_type": "execute_result"
    },
    {
     "data": {
      "image/png": "[encoded data removed]",
      "text/plain": [
       "<Figure size 576x432 with 1 Axes>"
      ]
     },
     "metadata": {
      "needs_background": "light"
     },
     "output_type": "display_data"
    }
   ],
   "source": [
    "import matplotlib.pyplot as plt\n",
    "import numpy as np\n",
    "fig, ax = plt.subplots(figsize=(8, 6))\n",
    "\n",
    "ax.plot(data['estación'], data['resultado'], \"o\", label=\"Data\")\n",
    "ax.plot(data['estación'], params['Intercept']+params['estación']*data['estación']  , \"r-\", label=\"Predicted\")\n",
    "ax.set_ylabel(\"Resultado\")\n",
    "ax.set_xlabel(\"Estación\")\n",
    "ax.set_title(\"Regresión de resultado en función de la estación\")"
   ]
  },
  {
   "cell_type": "markdown",
   "metadata": {},
   "source": [
    "### A medida que la estación se acerca al verano la concentración de Vitamina D aumenta a nivel agregado de la población."
   ]
  },
  {
   "cell_type": "markdown",
   "metadata": {},
   "source": [
    "## Rango edad\n",
    "### Se analiza cómo se comporta la Vitamina D en adultos y niños."
   ]
  },
  {
   "cell_type": "code",
   "execution_count": 16,
   "metadata": {},
   "outputs": [
    {
     "name": "stdout",
     "output_type": "stream",
     "text": [
      "                            OLS Regression Results                            \n",
      "==============================================================================\n",
      "Dep. Variable:              resultado   R-squared:                       0.000\n",
      "Model:                            OLS   Adj. R-squared:                  0.000\n",
      "Method:                 Least Squares   F-statistic:                     15.18\n",
      "Date:                Wed, 05 Oct 2022   Prob (F-statistic):           9.75e-05\n",
      "Time:                        21:30:17   Log-Likelihood:                -87273.\n",
      "No. Observations:              212526   AIC:                         1.746e+05\n",
      "Df Residuals:                  212524   BIC:                         1.746e+05\n",
      "Df Model:                           1                                         \n",
      "Covariance Type:            nonrobust                                         \n",
      "==============================================================================\n",
      "                 coef    std err          t      P>|t|      [0.025      0.975]\n",
      "------------------------------------------------------------------------------\n",
      "Intercept      0.1682      0.003     62.349      0.000       0.163       0.173\n",
      "rango_edad    -0.0110      0.003     -3.897      0.000      -0.017      -0.005\n",
      "==============================================================================\n",
      "Omnibus:                    65150.189   Durbin-Watson:                   1.872\n",
      "Prob(Omnibus):                  0.000   Jarque-Bera (JB):           144615.077\n",
      "Skew:                           1.874   Prob(JB):                         0.00\n",
      "Kurtosis:                       4.512   Cond. No.                         6.67\n",
      "==============================================================================\n",
      "\n",
      "Notes:\n",
      "[1] Standard Errors assume that the covariance matrix of the errors is correctly specified.\n"
     ]
    }
   ],
   "source": [
    "mod2 = smf.ols(formula='resultado ~ rango_edad', data=data)  \n",
    "res2 = mod2.fit()\n",
    "print(res2.summary())"
   ]
  },
  {
   "cell_type": "markdown",
   "metadata": {},
   "source": [
    "### Al analizar cómo se comporta la Vitamina D con respecto al rango de edad arroja un R2 de 0. Esto indica que el modelo no explica ninguna porción de la variabilidad de los datos de respuesta en torno a la media de rango de edad."
   ]
  },
  {
   "cell_type": "code",
   "execution_count": 17,
   "metadata": {},
   "outputs": [
    {
     "name": "stdout",
     "output_type": "stream",
     "text": [
      "Intercept     0.168170\n",
      "rango_edad   -0.010994\n",
      "dtype: float64\n"
     ]
    }
   ],
   "source": [
    "params2 = res2.params\n",
    "print(params2)"
   ]
  },
  {
   "cell_type": "code",
   "execution_count": 18,
   "metadata": {},
   "outputs": [
    {
     "data": {
      "text/plain": [
       "Text(0.5, 1.0, 'Regresión de resultado en función de rango_edad')"
      ]
     },
     "execution_count": 18,
     "metadata": {},
     "output_type": "execute_result"
    },
    {
     "data": {
      "image/png": "[encoded data removed]",
      "text/plain": [
       "<Figure size 576x432 with 1 Axes>"
      ]
     },
     "metadata": {
      "needs_background": "light"
     },
     "output_type": "display_data"
    }
   ],
   "source": [
    "import matplotlib.pyplot as plt\n",
    "import numpy as np\n",
    "fig, ax = plt.subplots(figsize=(8, 6))\n",
    "\n",
    "ax.plot(data['rango_edad'], data['resultado'], \"o\", label=\"Data\")\n",
    "ax.plot(data['rango_edad'], params2['Intercept']+params2['rango_edad']*data['rango_edad']  , \"r-\", label=\"Predicted\")\n",
    "ax.set_ylabel(\"Resultado\")\n",
    "ax.set_xlabel(\"rango_edad\")\n",
    "ax.set_title(\"Regresión de resultado en función de rango_edad\")"
   ]
  },
  {
   "cell_type": "markdown",
   "metadata": {},
   "source": [
    "## Sexo del paciente"
   ]
  },
  {
   "cell_type": "code",
   "execution_count": 19,
   "metadata": {},
   "outputs": [
    {
     "name": "stdout",
     "output_type": "stream",
     "text": [
      "                            OLS Regression Results                            \n",
      "==============================================================================\n",
      "Dep. Variable:              resultado   R-squared:                       0.000\n",
      "Model:                            OLS   Adj. R-squared:                  0.000\n",
      "Method:                 Least Squares   F-statistic:                     64.43\n",
      "Date:                Wed, 05 Oct 2022   Prob (F-statistic):           1.00e-15\n",
      "Time:                        21:30:18   Log-Likelihood:                -87249.\n",
      "No. Observations:              212526   AIC:                         1.745e+05\n",
      "Df Residuals:                  212524   BIC:                         1.745e+05\n",
      "Df Model:                           1                                         \n",
      "Covariance Type:            nonrobust                                         \n",
      "==============================================================================\n",
      "                 coef    std err          t      P>|t|      [0.025      0.975]\n",
      "------------------------------------------------------------------------------\n",
      "Intercept      0.1621      0.001    173.635      0.000       0.160       0.164\n",
      "SEXO[T.M]     -0.0141      0.002     -8.027      0.000      -0.018      -0.011\n",
      "==============================================================================\n",
      "Omnibus:                    65121.584   Durbin-Watson:                   1.873\n",
      "Prob(Omnibus):                  0.000   Jarque-Bera (JB):           144505.895\n",
      "Skew:                           1.873   Prob(JB):                         0.00\n",
      "Kurtosis:                       4.511   Cond. No.                         2.44\n",
      "==============================================================================\n",
      "\n",
      "Notes:\n",
      "[1] Standard Errors assume that the covariance matrix of the errors is correctly specified.\n"
     ]
    }
   ],
   "source": [
    "mod1 = smf.ols(formula='resultado ~ SEXO', data=data)\n",
    "res1 = mod1.fit()\n",
    "print(res1.summary())"
   ]
  },
  {
   "cell_type": "code",
   "execution_count": 20,
   "metadata": {},
   "outputs": [
    {
     "name": "stdout",
     "output_type": "stream",
     "text": [
      "Intercept    0.162098\n",
      "SEXO[T.M]   -0.014124\n",
      "dtype: float64\n"
     ]
    }
   ],
   "source": [
    "params1 = res1.params\n",
    "print(params1)"
   ]
  },
  {
   "cell_type": "markdown",
   "metadata": {},
   "source": [
    "### El sexo del paciente tampoco influye notablemente en los resultados de las muestras de Vitamina D."
   ]
  },
  {
   "cell_type": "markdown",
   "metadata": {},
   "source": [
    "## Regiones desde Arica a Puerto Montt, dada por la variable Laboratorio"
   ]
  },
  {
   "cell_type": "markdown",
   "metadata": {},
   "source": [
    "### Comparamos el resultado con la variable Laboratorio que equivale a la región en que es tomada la Vitamina D."
   ]
  },
  {
   "cell_type": "code",
   "execution_count": 21,
   "metadata": {},
   "outputs": [
    {
     "name": "stdout",
     "output_type": "stream",
     "text": [
      "                            OLS Regression Results                            \n",
      "==============================================================================\n",
      "Dep. Variable:              resultado   R-squared:                       0.003\n",
      "Model:                            OLS   Adj. R-squared:                  0.003\n",
      "Method:                 Least Squares   F-statistic:                     39.48\n",
      "Date:                Wed, 05 Oct 2022   Prob (F-statistic):          1.92e-131\n",
      "Time:                        21:30:20   Log-Likelihood:                -86946.\n",
      "No. Observations:              212526   AIC:                         1.739e+05\n",
      "Df Residuals:                  212508   BIC:                         1.741e+05\n",
      "Df Model:                          17                                         \n",
      "Covariance Type:            nonrobust                                         \n",
      "================================================================================================\n",
      "                                   coef    std err          t      P>|t|      [0.025      0.975]\n",
      "------------------------------------------------------------------------------------------------\n",
      "Intercept                        0.1578      0.005     30.728      0.000       0.148       0.168\n",
      "LABORATORIO[T. ARICA]            0.0007      0.008      0.092      0.927      -0.015       0.016\n",
      "LABORATORIO[T. CALAMA]           0.0231      0.019      1.234      0.217      -0.014       0.060\n",
      "LABORATORIO[T. CONCEPCION]      -0.0375      0.006     -6.230      0.000      -0.049      -0.026\n",
      "LABORATORIO[T. COPIAPO]         -0.0193      0.009     -2.158      0.031      -0.037      -0.002\n",
      "LABORATORIO[T. ILLAPEL]         -0.0498      0.010     -4.921      0.000      -0.070      -0.030\n",
      "LABORATORIO[T. IQUIQUE]         -0.0032      0.013     -0.248      0.804      -0.029       0.022\n",
      "LABORATORIO[T. LA SERENA]       -0.0007      0.006     -0.102      0.919      -0.013       0.012\n",
      "LABORATORIO[T. LOS ANDES]       -0.0064      0.010     -0.641      0.522      -0.026       0.013\n",
      "LABORATORIO[T. OVALLE]          -0.0096      0.010     -0.953      0.341      -0.029       0.010\n",
      "LABORATORIO[T. PUERTO MONTT]    -0.0403      0.006     -6.322      0.000      -0.053      -0.028\n",
      "LABORATORIO[T. RANCAGUA]        -0.0291      0.008     -3.767      0.000      -0.044      -0.014\n",
      "LABORATORIO[T. SANTIAGO]         0.0138      0.005      2.637      0.008       0.004       0.024\n",
      "LABORATORIO[T. TEMUCO]          -0.0297      0.007     -4.239      0.000      -0.043      -0.016\n",
      "LABORATORIO[T. VALDIVIA]        -0.0330      0.007     -4.997      0.000      -0.046      -0.020\n",
      "LABORATORIO[T. VALLENAR]        -0.0075      0.012     -0.632      0.528      -0.031       0.016\n",
      "LABORATORIO[T. VIÑA DEL MAR]    -0.0212      0.008     -2.799      0.005      -0.036      -0.006\n",
      "LABORATORIO[T.TALCA]            -0.0339      0.008     -4.336      0.000      -0.049      -0.019\n",
      "==============================================================================\n",
      "Omnibus:                    64753.222   Durbin-Watson:                   1.876\n",
      "Prob(Omnibus):                  0.000   Jarque-Bera (JB):           143099.587\n",
      "Skew:                           1.865   Prob(JB):                         0.00\n",
      "Kurtosis:                       4.500   Cond. No.                         36.4\n",
      "==============================================================================\n",
      "\n",
      "Notes:\n",
      "[1] Standard Errors assume that the covariance matrix of the errors is correctly specified.\n"
     ]
    }
   ],
   "source": [
    "mod3 = smf.ols(formula='resultado ~ LABORATORIO', data=data)\n",
    "res3 = mod3.fit()\n",
    "print(res3.summary())"
   ]
  },
  {
   "cell_type": "code",
   "execution_count": 22,
   "metadata": {},
   "outputs": [
    {
     "data": {
      "text/plain": [
       " SANTIAGO        136312\n",
       " CONCEPCION       13528\n",
       " PUERTO MONTT      9277\n",
       " LA SERENA         8787\n",
       " VALDIVIA          7737\n",
       " TEMUCO            5883\n",
       " ANTOFAGASTA       5031\n",
       " VIÑA DEL MAR      4289\n",
       " RANCAGUA          4000\n",
       "TALCA              3832\n",
       " ARICA             3595\n",
       " COPIAPO           2483\n",
       " LOS ANDES         1777\n",
       " OVALLE            1761\n",
       " ILLAPEL           1749\n",
       " VALLENAR          1151\n",
       " IQUIQUE            925\n",
       " CALAMA             409\n",
       "Name: LABORATORIO, dtype: int64"
      ]
     },
     "execution_count": 22,
     "metadata": {},
     "output_type": "execute_result"
    }
   ],
   "source": [
    "data['LABORATORIO'].value_counts()"
   ]
  },
  {
   "cell_type": "markdown",
   "metadata": {},
   "source": [
    "### La categoría base que toma es Antofagasta, por defecto usa orden alfabético. Si buscamos el laboratorio con mayor frecuencia encontramos que es Santiago, como era de esperarse."
   ]
  },
  {
   "cell_type": "markdown",
   "metadata": {},
   "source": [
    "### Cambiemos la categoría base por la categoría con mayor frecuencia. Para ello, podemos cambiar el tipo de variable en pandas, o indicar la categoría base al correr el modelo, en este caso se indicará \"13\" que equivale a \"SANTIAGO\". Se usará también la variable dummies creada como region_lab en donde a cada Laboratorio se le asignó el número de región al que pertenece."
   ]
  },
  {
   "cell_type": "code",
   "execution_count": 23,
   "metadata": {},
   "outputs": [
    {
     "name": "stdout",
     "output_type": "stream",
     "text": [
      "                            OLS Regression Results                            \n",
      "==============================================================================\n",
      "Dep. Variable:              resultado   R-squared:                       0.003\n",
      "Model:                            OLS   Adj. R-squared:                  0.003\n",
      "Method:                 Least Squares   F-statistic:                     53.35\n",
      "Date:                Wed, 05 Oct 2022   Prob (F-statistic):          4.39e-129\n",
      "Time:                        21:30:21   Log-Likelihood:                -86961.\n",
      "No. Observations:              212526   AIC:                         1.739e+05\n",
      "Df Residuals:                  212513   BIC:                         1.741e+05\n",
      "Df Model:                          12                                         \n",
      "Covariance Type:            nonrobust                                         \n",
      "================================================================================================================\n",
      "                                                   coef    std err          t      P>|t|      [0.025      0.975]\n",
      "----------------------------------------------------------------------------------------------------------------\n",
      "Intercept                                        0.1716      0.001    173.915      0.000       0.170       0.174\n",
      "C(region_lab, Treatment(reference=13))[T.1]     -0.0170      0.012     -1.416      0.157      -0.041       0.007\n",
      "C(region_lab, Treatment(reference=13))[T.2]     -0.0121      0.005     -2.393      0.017      -0.022      -0.002\n",
      "C(region_lab, Treatment(reference=13))[T.3]     -0.0293      0.006     -4.792      0.000      -0.041      -0.017\n",
      "C(region_lab, Treatment(reference=13))[T.4]     -0.0227      0.003     -6.622      0.000      -0.029      -0.016\n",
      "C(region_lab, Treatment(reference=13))[T.5]     -0.0307      0.005     -6.414      0.000      -0.040      -0.021\n",
      "C(region_lab, Treatment(reference=13))[T.6]     -0.0429      0.006     -7.334      0.000      -0.054      -0.031\n",
      "C(region_lab, Treatment(reference=13))[T.7]     -0.0477      0.006     -7.986      0.000      -0.059      -0.036\n",
      "C(region_lab, Treatment(reference=13))[T.8]     -0.0513      0.003    -15.612      0.000      -0.058      -0.045\n",
      "C(region_lab, Treatment(reference=13))[T.9]     -0.0434      0.005     -8.956      0.000      -0.053      -0.034\n",
      "C(region_lab, Treatment(reference=13))[T.10]    -0.0541      0.004    -13.844      0.000      -0.062      -0.046\n",
      "C(region_lab, Treatment(reference=13))[T.14]    -0.0468      0.004    -10.982      0.000      -0.055      -0.038\n",
      "C(region_lab, Treatment(reference=13))[T.15]    -0.0131      0.006     -2.122      0.034      -0.025      -0.001\n",
      "==============================================================================\n",
      "Omnibus:                    64773.806   Durbin-Watson:                   1.876\n",
      "Prob(Omnibus):                  0.000   Jarque-Bera (JB):           143178.470\n",
      "Skew:                           1.865   Prob(JB):                         0.00\n",
      "Kurtosis:                       4.501   Cond. No.                         15.3\n",
      "==============================================================================\n",
      "\n",
      "Notes:\n",
      "[1] Standard Errors assume that the covariance matrix of the errors is correctly specified.\n"
     ]
    }
   ],
   "source": [
    "mod3a = smf.ols(formula='resultado ~ C(region_lab, Treatment(reference = 13))', data=data)\n",
    "res3a = mod3a.fit()\n",
    "print(res3a.summary())"
   ]
  },
  {
   "cell_type": "code",
   "execution_count": 24,
   "metadata": {},
   "outputs": [],
   "source": [
    "data['LABORATORIO'] = pd.Categorical(data['LABORATORIO'], categories=data['LABORATORIO'].unique())"
   ]
  },
  {
   "cell_type": "code",
   "execution_count": 25,
   "metadata": {},
   "outputs": [
    {
     "data": {
      "text/plain": [
       "count        212526\n",
       "unique           18\n",
       "top        SANTIAGO\n",
       "freq         136312\n",
       "Name: LABORATORIO, dtype: object"
      ]
     },
     "execution_count": 25,
     "metadata": {},
     "output_type": "execute_result"
    }
   ],
   "source": [
    "data['LABORATORIO'].describe()"
   ]
  },
  {
   "cell_type": "markdown",
   "metadata": {},
   "source": [
    "### Revisamos como queda el modelo categorizado por Santiago"
   ]
  },
  {
   "cell_type": "code",
   "execution_count": 26,
   "metadata": {},
   "outputs": [
    {
     "name": "stdout",
     "output_type": "stream",
     "text": [
      "                            OLS Regression Results                            \n",
      "==============================================================================\n",
      "Dep. Variable:              resultado   R-squared:                       0.001\n",
      "Model:                            OLS   Adj. R-squared:                  0.001\n",
      "Method:                 Least Squares   F-statistic:                     192.9\n",
      "Date:                Wed, 05 Oct 2022   Prob (F-statistic):           7.67e-44\n",
      "Time:                        21:30:21   Log-Likelihood:                -87185.\n",
      "No. Observations:              212526   AIC:                         1.744e+05\n",
      "Df Residuals:                  212524   BIC:                         1.744e+05\n",
      "Df Model:                           1                                         \n",
      "Covariance Type:            nonrobust                                         \n",
      "==============================================================================\n",
      "                 coef    std err          t      P>|t|      [0.025      0.975]\n",
      "------------------------------------------------------------------------------\n",
      "Intercept      0.1233      0.003     46.975      0.000       0.118       0.128\n",
      "region_lab     0.0032      0.000     13.889      0.000       0.003       0.004\n",
      "==============================================================================\n",
      "Omnibus:                    65048.270   Durbin-Watson:                   1.874\n",
      "Prob(Omnibus):                  0.000   Jarque-Bera (JB):           144226.404\n",
      "Skew:                           1.871   Prob(JB):                         0.00\n",
      "Kurtosis:                       4.509   Cond. No.                         38.6\n",
      "==============================================================================\n",
      "\n",
      "Notes:\n",
      "[1] Standard Errors assume that the covariance matrix of the errors is correctly specified.\n"
     ]
    }
   ],
   "source": [
    "mod3b = smf.ols(formula='resultado ~ region_lab', data=data)\n",
    "res3b = mod3b.fit()\n",
    "print(res3b.summary())"
   ]
  },
  {
   "cell_type": "code",
   "execution_count": 27,
   "metadata": {},
   "outputs": [
    {
     "name": "stdout",
     "output_type": "stream",
     "text": [
      "Intercept     0.123346\n",
      "region_lab    0.003157\n",
      "dtype: float64\n"
     ]
    }
   ],
   "source": [
    "params3b = res3b.params\n",
    "print(params3b)"
   ]
  },
  {
   "cell_type": "code",
   "execution_count": 28,
   "metadata": {},
   "outputs": [
    {
     "data": {
      "text/plain": [
       "Text(0.5, 1.0, 'Regresión de resultado en función de region_lab')"
      ]
     },
     "execution_count": 28,
     "metadata": {},
     "output_type": "execute_result"
    },
    {
     "data": {
      "image/png": "[encoded data removed]",
      "text/plain": [
       "<Figure size 576x432 with 1 Axes>"
      ]
     },
     "metadata": {
      "needs_background": "light"
     },
     "output_type": "display_data"
    }
   ],
   "source": [
    "fig, ax = plt.subplots(figsize=(8, 6))\n",
    "\n",
    "ax.plot(data['region_lab'], data['resultado'], \"o\", label=\"Data\")\n",
    "ax.plot(data['region_lab'], params3b['Intercept']+params3b['region_lab']*data['region_lab']  , \"r-\", label=\"Predicted\")\n",
    "ax.set_ylabel(\"Resultado\")\n",
    "ax.set_xlabel(\"region_lab\")\n",
    "ax.set_title(\"Regresión de resultado en función de region_lab\")"
   ]
  },
  {
   "cell_type": "markdown",
   "metadata": {},
   "source": [
    "# *** Acá se debiera ordenar las regiones en el eje X de norte a sur** ver cómo se hace eso en el gráfico"
   ]
  },
  {
   "cell_type": "markdown",
   "metadata": {},
   "source": [
    "## Año en que se toma la muestra de Vitamina D"
   ]
  },
  {
   "cell_type": "markdown",
   "metadata": {},
   "source": [
    "### Revisando cómo se comporta el resultado con respecto a los años en que fueron tomadas las muestras de Vitamina D. Se espera que la concentración de Vitamina D baje desde el 2018 al 2021, considerando que el encierro producto de la pandemia provocó mayor deficiencia de esta vitamina."
   ]
  },
  {
   "cell_type": "markdown",
   "metadata": {},
   "source": [
    "### Se espera encontrar un coeficiente de correlación negativo entre Resultado y año, producto de las cuarentenas realizadas en el país en período de pandemia."
   ]
  },
  {
   "cell_type": "code",
   "execution_count": 29,
   "metadata": {},
   "outputs": [
    {
     "name": "stdout",
     "output_type": "stream",
     "text": [
      "                            OLS Regression Results                            \n",
      "==============================================================================\n",
      "Dep. Variable:              resultado   R-squared:                       0.003\n",
      "Model:                            OLS   Adj. R-squared:                  0.003\n",
      "Method:                 Least Squares   F-statistic:                     594.6\n",
      "Date:                Wed, 05 Oct 2022   Prob (F-statistic):          3.85e-131\n",
      "Time:                        21:30:22   Log-Likelihood:                -86984.\n",
      "No. Observations:              212526   AIC:                         1.740e+05\n",
      "Df Residuals:                  212524   BIC:                         1.740e+05\n",
      "Df Model:                           1                                         \n",
      "Covariance Type:            nonrobust                                         \n",
      "==============================================================================\n",
      "                 coef    std err          t      P>|t|      [0.025      0.975]\n",
      "------------------------------------------------------------------------------\n",
      "Intercept     36.0793      1.473     24.491      0.000      33.192      38.967\n",
      "AÑO           -0.0178      0.001    -24.384      0.000      -0.019      -0.016\n",
      "==============================================================================\n",
      "Omnibus:                    64813.918   Durbin-Watson:                   1.878\n",
      "Prob(Omnibus):                  0.000   Jarque-Bera (JB):           143336.962\n",
      "Skew:                           1.866   Prob(JB):                         0.00\n",
      "Kurtosis:                       4.503   Cond. No.                     3.77e+06\n",
      "==============================================================================\n",
      "\n",
      "Notes:\n",
      "[1] Standard Errors assume that the covariance matrix of the errors is correctly specified.\n",
      "[2] The condition number is large, 3.77e+06. This might indicate that there are\n",
      "strong multicollinearity or other numerical problems.\n"
     ]
    }
   ],
   "source": [
    "mod4 = smf.ols(formula='resultado ~ AÑO', data=data)\n",
    "res4 = mod4.fit()\n",
    "print(res4.summary())"
   ]
  },
  {
   "cell_type": "code",
   "execution_count": 30,
   "metadata": {},
   "outputs": [
    {
     "name": "stdout",
     "output_type": "stream",
     "text": [
      "Intercept    36.079258\n",
      "AÑO          -0.017783\n",
      "dtype: float64\n"
     ]
    }
   ],
   "source": [
    "params4 = res4.params\n",
    "print(params4)"
   ]
  },
  {
   "cell_type": "code",
   "execution_count": 31,
   "metadata": {},
   "outputs": [
    {
     "data": {
      "text/plain": [
       "Text(0.5, 1.0, 'Regresión de resultado en función de AÑO')"
      ]
     },
     "execution_count": 31,
     "metadata": {},
     "output_type": "execute_result"
    },
    {
     "data": {
      "image/png": "[encoded data removed]",
      "text/plain": [
       "<Figure size 576x432 with 1 Axes>"
      ]
     },
     "metadata": {
      "needs_background": "light"
     },
     "output_type": "display_data"
    }
   ],
   "source": [
    "\n",
    "fig, ax = plt.subplots(figsize=(8, 6))\n",
    "\n",
    "ax.plot(data['AÑO'], data['resultado'], \"o\", label=\"Data\")\n",
    "ax.plot(data['AÑO'], params4['Intercept']+params4['AÑO']*data['AÑO']  , \"r-\", label=\"Predicted\")\n",
    "ax.set_ylabel(\"Resultado\")\n",
    "ax.set_xlabel(\"AÑO\")\n",
    "ax.set_title(\"Regresión de resultado en función de AÑO\")"
   ]
  },
  {
   "cell_type": "markdown",
   "metadata": {},
   "source": [
    "### El gráfico muestra como fue disminuyendo la concentración de Vitamina D medida en la población entre 2018 y 2021 por la baja exposición solar que hubo producto de las cuarentenas."
   ]
  },
  {
   "cell_type": "markdown",
   "metadata": {},
   "source": [
    "## Fosforo y Calcio\n",
    "### Bajos niveles de Vitamina D están a asociados a bajos niveles de Fósforo y Calcio, por este motivo se revisará el comportamiento de estas variables con respecto al resultado de Vitamina D en la población. "
   ]
  },
  {
   "cell_type": "code",
   "execution_count": 32,
   "metadata": {},
   "outputs": [
    {
     "data": {
      "text/html": [
       "<div>\n",
       "<style scoped>\n",
       "    .dataframe tbody tr th:only-of-type {\n",
       "        vertical-align: middle;\n",
       "    }\n",
       "\n",
       "    .dataframe tbody tr th {\n",
       "        vertical-align: top;\n",
       "    }\n",
       "\n",
       "    .dataframe thead th {\n",
       "        text-align: right;\n",
       "    }\n",
       "</style>\n",
       "<table border=\"1\" class=\"dataframe\">\n",
       "  <thead>\n",
       "    <tr style=\"text-align: right;\">\n",
       "      <th></th>\n",
       "      <th>FECHA_PETICION</th>\n",
       "      <th>AÑO</th>\n",
       "      <th>LABORATORIO</th>\n",
       "      <th>PETICION</th>\n",
       "      <th>IDENTIFICADOR</th>\n",
       "      <th>SEXO</th>\n",
       "      <th>ADULTO_NIÑO</th>\n",
       "      <th>MACROZONA</th>\n",
       "      <th>ESTACIONES_AÑO</th>\n",
       "      <th>EDAD</th>\n",
       "      <th>...</th>\n",
       "      <th>FOSFORO</th>\n",
       "      <th>CALCIO</th>\n",
       "      <th>CREATININA</th>\n",
       "      <th>COVID-19</th>\n",
       "      <th>RESULTADO_VAL</th>\n",
       "      <th>VIT_D_TXT</th>\n",
       "      <th>rango_edad</th>\n",
       "      <th>estación</th>\n",
       "      <th>region_lab</th>\n",
       "      <th>resultado</th>\n",
       "    </tr>\n",
       "  </thead>\n",
       "  <tbody>\n",
       "    <tr>\n",
       "      <th>0</th>\n",
       "      <td>02/01/2018 8:17</td>\n",
       "      <td>2018</td>\n",
       "      <td>SANTIAGO</td>\n",
       "      <td>1483128</td>\n",
       "      <td>1,12E+13</td>\n",
       "      <td>M</td>\n",
       "      <td>Niño</td>\n",
       "      <td>CENTRO</td>\n",
       "      <td>VERANO</td>\n",
       "      <td>16</td>\n",
       "      <td>...</td>\n",
       "      <td>5.5</td>\n",
       "      <td>10.9</td>\n",
       "      <td>0.90</td>\n",
       "      <td>NaN</td>\n",
       "      <td>1</td>\n",
       "      <td>Insuficiente</td>\n",
       "      <td>0</td>\n",
       "      <td>3</td>\n",
       "      <td>13</td>\n",
       "      <td>0</td>\n",
       "    </tr>\n",
       "    <tr>\n",
       "      <th>1</th>\n",
       "      <td>02/01/2018 8:18</td>\n",
       "      <td>2018</td>\n",
       "      <td>SANTIAGO</td>\n",
       "      <td>1483181</td>\n",
       "      <td>1,13E+13</td>\n",
       "      <td>F</td>\n",
       "      <td>Adulto</td>\n",
       "      <td>CENTRO</td>\n",
       "      <td>VERANO</td>\n",
       "      <td>33</td>\n",
       "      <td>...</td>\n",
       "      <td>NaN</td>\n",
       "      <td>NaN</td>\n",
       "      <td>NaN</td>\n",
       "      <td>NaN</td>\n",
       "      <td>1</td>\n",
       "      <td>Insuficiente</td>\n",
       "      <td>1</td>\n",
       "      <td>3</td>\n",
       "      <td>13</td>\n",
       "      <td>0</td>\n",
       "    </tr>\n",
       "    <tr>\n",
       "      <th>2</th>\n",
       "      <td>02/01/2018 8:24</td>\n",
       "      <td>2018</td>\n",
       "      <td>SANTIAGO</td>\n",
       "      <td>1483186</td>\n",
       "      <td>1,11E+13</td>\n",
       "      <td>M</td>\n",
       "      <td>Adulto</td>\n",
       "      <td>CENTRO</td>\n",
       "      <td>VERANO</td>\n",
       "      <td>45</td>\n",
       "      <td>...</td>\n",
       "      <td>4.1</td>\n",
       "      <td>9.6</td>\n",
       "      <td>0.80</td>\n",
       "      <td>NaN</td>\n",
       "      <td>1</td>\n",
       "      <td>Insuficiente</td>\n",
       "      <td>1</td>\n",
       "      <td>3</td>\n",
       "      <td>13</td>\n",
       "      <td>0</td>\n",
       "    </tr>\n",
       "    <tr>\n",
       "      <th>3</th>\n",
       "      <td>02/01/2018 8:32</td>\n",
       "      <td>2018</td>\n",
       "      <td>SANTIAGO</td>\n",
       "      <td>1483328</td>\n",
       "      <td>1,20E+12</td>\n",
       "      <td>F</td>\n",
       "      <td>Adulto</td>\n",
       "      <td>CENTRO</td>\n",
       "      <td>VERANO</td>\n",
       "      <td>52</td>\n",
       "      <td>...</td>\n",
       "      <td>4.3</td>\n",
       "      <td>9.6</td>\n",
       "      <td>0.60</td>\n",
       "      <td>NaN</td>\n",
       "      <td>1</td>\n",
       "      <td>Insuficiente</td>\n",
       "      <td>1</td>\n",
       "      <td>3</td>\n",
       "      <td>13</td>\n",
       "      <td>0</td>\n",
       "    </tr>\n",
       "    <tr>\n",
       "      <th>4</th>\n",
       "      <td>02/01/2018 8:33</td>\n",
       "      <td>2018</td>\n",
       "      <td>LA SERENA</td>\n",
       "      <td>1483344</td>\n",
       "      <td>1,19E+12</td>\n",
       "      <td>F</td>\n",
       "      <td>Adulto</td>\n",
       "      <td>NORTE</td>\n",
       "      <td>VERANO</td>\n",
       "      <td>52</td>\n",
       "      <td>...</td>\n",
       "      <td>NaN</td>\n",
       "      <td>NaN</td>\n",
       "      <td>0.66</td>\n",
       "      <td>NaN</td>\n",
       "      <td>1</td>\n",
       "      <td>Insuficiente</td>\n",
       "      <td>1</td>\n",
       "      <td>3</td>\n",
       "      <td>4</td>\n",
       "      <td>0</td>\n",
       "    </tr>\n",
       "    <tr>\n",
       "      <th>...</th>\n",
       "      <td>...</td>\n",
       "      <td>...</td>\n",
       "      <td>...</td>\n",
       "      <td>...</td>\n",
       "      <td>...</td>\n",
       "      <td>...</td>\n",
       "      <td>...</td>\n",
       "      <td>...</td>\n",
       "      <td>...</td>\n",
       "      <td>...</td>\n",
       "      <td>...</td>\n",
       "      <td>...</td>\n",
       "      <td>...</td>\n",
       "      <td>...</td>\n",
       "      <td>...</td>\n",
       "      <td>...</td>\n",
       "      <td>...</td>\n",
       "      <td>...</td>\n",
       "      <td>...</td>\n",
       "      <td>...</td>\n",
       "      <td>...</td>\n",
       "    </tr>\n",
       "    <tr>\n",
       "      <th>212521</th>\n",
       "      <td>31/12/2021 12:20</td>\n",
       "      <td>2021</td>\n",
       "      <td>SANTIAGO</td>\n",
       "      <td>6583559</td>\n",
       "      <td>1,11E+13</td>\n",
       "      <td>F</td>\n",
       "      <td>Adulto</td>\n",
       "      <td>CENTRO</td>\n",
       "      <td>PRIMAVERA</td>\n",
       "      <td>41</td>\n",
       "      <td>...</td>\n",
       "      <td>NaN</td>\n",
       "      <td>NaN</td>\n",
       "      <td>NaN</td>\n",
       "      <td>NaN</td>\n",
       "      <td>1</td>\n",
       "      <td>Insuficiente</td>\n",
       "      <td>1</td>\n",
       "      <td>2</td>\n",
       "      <td>13</td>\n",
       "      <td>0</td>\n",
       "    </tr>\n",
       "    <tr>\n",
       "      <th>212522</th>\n",
       "      <td>31/12/2021 12:35</td>\n",
       "      <td>2021</td>\n",
       "      <td>SANTIAGO</td>\n",
       "      <td>6583737</td>\n",
       "      <td>1,18E+12</td>\n",
       "      <td>F</td>\n",
       "      <td>Adulto</td>\n",
       "      <td>CENTRO</td>\n",
       "      <td>PRIMAVERA</td>\n",
       "      <td>63</td>\n",
       "      <td>...</td>\n",
       "      <td>NaN</td>\n",
       "      <td>NaN</td>\n",
       "      <td>NaN</td>\n",
       "      <td>NaN</td>\n",
       "      <td>1</td>\n",
       "      <td>Insuficiente</td>\n",
       "      <td>1</td>\n",
       "      <td>2</td>\n",
       "      <td>13</td>\n",
       "      <td>0</td>\n",
       "    </tr>\n",
       "    <tr>\n",
       "      <th>212523</th>\n",
       "      <td>31/12/2021 13:01</td>\n",
       "      <td>2021</td>\n",
       "      <td>SANTIAGO</td>\n",
       "      <td>6583960</td>\n",
       "      <td>1,13E+13</td>\n",
       "      <td>M</td>\n",
       "      <td>Niño</td>\n",
       "      <td>CENTRO</td>\n",
       "      <td>PRIMAVERA</td>\n",
       "      <td>1</td>\n",
       "      <td>...</td>\n",
       "      <td>5.9</td>\n",
       "      <td>9.7</td>\n",
       "      <td>0.31</td>\n",
       "      <td>NaN</td>\n",
       "      <td>1</td>\n",
       "      <td>Insuficiente</td>\n",
       "      <td>0</td>\n",
       "      <td>2</td>\n",
       "      <td>13</td>\n",
       "      <td>0</td>\n",
       "    </tr>\n",
       "    <tr>\n",
       "      <th>212524</th>\n",
       "      <td>31/12/2021 13:17</td>\n",
       "      <td>2021</td>\n",
       "      <td>SANTIAGO</td>\n",
       "      <td>6584013</td>\n",
       "      <td>1,11E+13</td>\n",
       "      <td>F</td>\n",
       "      <td>Adulto</td>\n",
       "      <td>CENTRO</td>\n",
       "      <td>PRIMAVERA</td>\n",
       "      <td>45</td>\n",
       "      <td>...</td>\n",
       "      <td>NaN</td>\n",
       "      <td>NaN</td>\n",
       "      <td>NaN</td>\n",
       "      <td>NaN</td>\n",
       "      <td>1</td>\n",
       "      <td>Insuficiente</td>\n",
       "      <td>1</td>\n",
       "      <td>2</td>\n",
       "      <td>13</td>\n",
       "      <td>0</td>\n",
       "    </tr>\n",
       "    <tr>\n",
       "      <th>212525</th>\n",
       "      <td>31/12/2021 13:55</td>\n",
       "      <td>2021</td>\n",
       "      <td>SANTIAGO</td>\n",
       "      <td>6584165</td>\n",
       "      <td>1,18E+12</td>\n",
       "      <td>F</td>\n",
       "      <td>Adulto</td>\n",
       "      <td>CENTRO</td>\n",
       "      <td>PRIMAVERA</td>\n",
       "      <td>64</td>\n",
       "      <td>...</td>\n",
       "      <td>NaN</td>\n",
       "      <td>NaN</td>\n",
       "      <td>0.90</td>\n",
       "      <td>NaN</td>\n",
       "      <td>1</td>\n",
       "      <td>Insuficiente</td>\n",
       "      <td>1</td>\n",
       "      <td>2</td>\n",
       "      <td>13</td>\n",
       "      <td>0</td>\n",
       "    </tr>\n",
       "  </tbody>\n",
       "</table>\n",
       "<p>212526 rows × 21 columns</p>\n",
       "</div>"
      ],
      "text/plain": [
       "          FECHA_PETICION   AÑO LABORATORIO  PETICION IDENTIFICADOR SEXO  \\\n",
       "0        02/01/2018 8:17  2018    SANTIAGO   1483128      1,12E+13    M   \n",
       "1        02/01/2018 8:18  2018    SANTIAGO   1483181      1,13E+13    F   \n",
       "2        02/01/2018 8:24  2018    SANTIAGO   1483186      1,11E+13    M   \n",
       "3        02/01/2018 8:32  2018    SANTIAGO   1483328      1,20E+12    F   \n",
       "4        02/01/2018 8:33  2018   LA SERENA   1483344      1,19E+12    F   \n",
       "...                  ...   ...         ...       ...           ...  ...   \n",
       "212521  31/12/2021 12:20  2021    SANTIAGO   6583559      1,11E+13    F   \n",
       "212522  31/12/2021 12:35  2021    SANTIAGO   6583737      1,18E+12    F   \n",
       "212523  31/12/2021 13:01  2021    SANTIAGO   6583960      1,13E+13    M   \n",
       "212524  31/12/2021 13:17  2021    SANTIAGO   6584013      1,11E+13    F   \n",
       "212525  31/12/2021 13:55  2021    SANTIAGO   6584165      1,18E+12    F   \n",
       "\n",
       "       ADULTO_NIÑO MACROZONA ESTACIONES_AÑO  EDAD  ...  FOSFORO  CALCIO  \\\n",
       "0             Niño    CENTRO         VERANO    16  ...      5.5    10.9   \n",
       "1           Adulto    CENTRO         VERANO    33  ...      NaN     NaN   \n",
       "2           Adulto    CENTRO         VERANO    45  ...      4.1     9.6   \n",
       "3           Adulto    CENTRO         VERANO    52  ...      4.3     9.6   \n",
       "4           Adulto     NORTE         VERANO    52  ...      NaN     NaN   \n",
       "...            ...       ...            ...   ...  ...      ...     ...   \n",
       "212521      Adulto    CENTRO      PRIMAVERA    41  ...      NaN     NaN   \n",
       "212522      Adulto    CENTRO      PRIMAVERA    63  ...      NaN     NaN   \n",
       "212523        Niño    CENTRO      PRIMAVERA     1  ...      5.9     9.7   \n",
       "212524      Adulto    CENTRO      PRIMAVERA    45  ...      NaN     NaN   \n",
       "212525      Adulto    CENTRO      PRIMAVERA    64  ...      NaN     NaN   \n",
       "\n",
       "        CREATININA  COVID-19  RESULTADO_VAL     VIT_D_TXT rango_edad  \\\n",
       "0             0.90       NaN              1  Insuficiente          0   \n",
       "1              NaN       NaN              1  Insuficiente          1   \n",
       "2             0.80       NaN              1  Insuficiente          1   \n",
       "3             0.60       NaN              1  Insuficiente          1   \n",
       "4             0.66       NaN              1  Insuficiente          1   \n",
       "...            ...       ...            ...           ...        ...   \n",
       "212521         NaN       NaN              1  Insuficiente          1   \n",
       "212522         NaN       NaN              1  Insuficiente          1   \n",
       "212523        0.31       NaN              1  Insuficiente          0   \n",
       "212524         NaN       NaN              1  Insuficiente          1   \n",
       "212525        0.90       NaN              1  Insuficiente          1   \n",
       "\n",
       "        estación  region_lab  resultado  \n",
       "0              3          13          0  \n",
       "1              3          13          0  \n",
       "2              3          13          0  \n",
       "3              3          13          0  \n",
       "4              3           4          0  \n",
       "...          ...         ...        ...  \n",
       "212521         2          13          0  \n",
       "212522         2          13          0  \n",
       "212523         2          13          0  \n",
       "212524         2          13          0  \n",
       "212525         2          13          0  \n",
       "\n",
       "[212526 rows x 21 columns]"
      ]
     },
     "execution_count": 32,
     "metadata": {},
     "output_type": "execute_result"
    }
   ],
   "source": [
    "data"
   ]
  },
  {
   "cell_type": "code",
   "execution_count": 33,
   "metadata": {},
   "outputs": [
    {
     "data": {
      "text/plain": [
       "False    128186\n",
       "True      84340\n",
       "Name: FOSFORO, dtype: int64"
      ]
     },
     "execution_count": 33,
     "metadata": {},
     "output_type": "execute_result"
    }
   ],
   "source": [
    "data['FOSFORO'].isnull().value_counts()"
   ]
  },
  {
   "cell_type": "code",
   "execution_count": 34,
   "metadata": {},
   "outputs": [
    {
     "data": {
      "text/plain": [
       "False    131471\n",
       "True      81055\n",
       "Name: CALCIO, dtype: int64"
      ]
     },
     "execution_count": 34,
     "metadata": {},
     "output_type": "execute_result"
    }
   ],
   "source": [
    "data['CALCIO'].isnull().value_counts()"
   ]
  },
  {
   "cell_type": "markdown",
   "metadata": {},
   "source": [
    "### Se encuentran valores nulos en las Peticiones de muestras, esto es porque no a todos los pacientes se les solicitan estos exámenes. Se considerarán para esta revisión sólo las unidades que tienen valores en ambas muestras."
   ]
  },
  {
   "cell_type": "code",
   "execution_count": 35,
   "metadata": {},
   "outputs": [],
   "source": [
    "data1 = data[data['FOSFORO'].notna()]"
   ]
  },
  {
   "cell_type": "code",
   "execution_count": 36,
   "metadata": {},
   "outputs": [
    {
     "data": {
      "text/html": [
       "<div>\n",
       "<style scoped>\n",
       "    .dataframe tbody tr th:only-of-type {\n",
       "        vertical-align: middle;\n",
       "    }\n",
       "\n",
       "    .dataframe tbody tr th {\n",
       "        vertical-align: top;\n",
       "    }\n",
       "\n",
       "    .dataframe thead th {\n",
       "        text-align: right;\n",
       "    }\n",
       "</style>\n",
       "<table border=\"1\" class=\"dataframe\">\n",
       "  <thead>\n",
       "    <tr style=\"text-align: right;\">\n",
       "      <th></th>\n",
       "      <th>FECHA_PETICION</th>\n",
       "      <th>AÑO</th>\n",
       "      <th>LABORATORIO</th>\n",
       "      <th>PETICION</th>\n",
       "      <th>IDENTIFICADOR</th>\n",
       "      <th>SEXO</th>\n",
       "      <th>ADULTO_NIÑO</th>\n",
       "      <th>MACROZONA</th>\n",
       "      <th>ESTACIONES_AÑO</th>\n",
       "      <th>EDAD</th>\n",
       "      <th>...</th>\n",
       "      <th>FOSFORO</th>\n",
       "      <th>CALCIO</th>\n",
       "      <th>CREATININA</th>\n",
       "      <th>COVID-19</th>\n",
       "      <th>RESULTADO_VAL</th>\n",
       "      <th>VIT_D_TXT</th>\n",
       "      <th>rango_edad</th>\n",
       "      <th>estación</th>\n",
       "      <th>region_lab</th>\n",
       "      <th>resultado</th>\n",
       "    </tr>\n",
       "  </thead>\n",
       "  <tbody>\n",
       "    <tr>\n",
       "      <th>0</th>\n",
       "      <td>02/01/2018 8:17</td>\n",
       "      <td>2018</td>\n",
       "      <td>SANTIAGO</td>\n",
       "      <td>1483128</td>\n",
       "      <td>1,12E+13</td>\n",
       "      <td>M</td>\n",
       "      <td>Niño</td>\n",
       "      <td>CENTRO</td>\n",
       "      <td>VERANO</td>\n",
       "      <td>16</td>\n",
       "      <td>...</td>\n",
       "      <td>5.5</td>\n",
       "      <td>10.9</td>\n",
       "      <td>0.90</td>\n",
       "      <td>NaN</td>\n",
       "      <td>1</td>\n",
       "      <td>Insuficiente</td>\n",
       "      <td>0</td>\n",
       "      <td>3</td>\n",
       "      <td>13</td>\n",
       "      <td>0</td>\n",
       "    </tr>\n",
       "    <tr>\n",
       "      <th>2</th>\n",
       "      <td>02/01/2018 8:24</td>\n",
       "      <td>2018</td>\n",
       "      <td>SANTIAGO</td>\n",
       "      <td>1483186</td>\n",
       "      <td>1,11E+13</td>\n",
       "      <td>M</td>\n",
       "      <td>Adulto</td>\n",
       "      <td>CENTRO</td>\n",
       "      <td>VERANO</td>\n",
       "      <td>45</td>\n",
       "      <td>...</td>\n",
       "      <td>4.1</td>\n",
       "      <td>9.6</td>\n",
       "      <td>0.80</td>\n",
       "      <td>NaN</td>\n",
       "      <td>1</td>\n",
       "      <td>Insuficiente</td>\n",
       "      <td>1</td>\n",
       "      <td>3</td>\n",
       "      <td>13</td>\n",
       "      <td>0</td>\n",
       "    </tr>\n",
       "    <tr>\n",
       "      <th>3</th>\n",
       "      <td>02/01/2018 8:32</td>\n",
       "      <td>2018</td>\n",
       "      <td>SANTIAGO</td>\n",
       "      <td>1483328</td>\n",
       "      <td>1,20E+12</td>\n",
       "      <td>F</td>\n",
       "      <td>Adulto</td>\n",
       "      <td>CENTRO</td>\n",
       "      <td>VERANO</td>\n",
       "      <td>52</td>\n",
       "      <td>...</td>\n",
       "      <td>4.3</td>\n",
       "      <td>9.6</td>\n",
       "      <td>0.60</td>\n",
       "      <td>NaN</td>\n",
       "      <td>1</td>\n",
       "      <td>Insuficiente</td>\n",
       "      <td>1</td>\n",
       "      <td>3</td>\n",
       "      <td>13</td>\n",
       "      <td>0</td>\n",
       "    </tr>\n",
       "    <tr>\n",
       "      <th>8</th>\n",
       "      <td>02/01/2018 8:37</td>\n",
       "      <td>2018</td>\n",
       "      <td>SANTIAGO</td>\n",
       "      <td>1483324</td>\n",
       "      <td>1,12E+13</td>\n",
       "      <td>F</td>\n",
       "      <td>Niño</td>\n",
       "      <td>CENTRO</td>\n",
       "      <td>VERANO</td>\n",
       "      <td>4</td>\n",
       "      <td>...</td>\n",
       "      <td>3.9</td>\n",
       "      <td>9.9</td>\n",
       "      <td>0.40</td>\n",
       "      <td>NaN</td>\n",
       "      <td>1</td>\n",
       "      <td>Deseable</td>\n",
       "      <td>0</td>\n",
       "      <td>3</td>\n",
       "      <td>13</td>\n",
       "      <td>1</td>\n",
       "    </tr>\n",
       "    <tr>\n",
       "      <th>9</th>\n",
       "      <td>02/01/2018 8:37</td>\n",
       "      <td>2018</td>\n",
       "      <td>VALDIVIA</td>\n",
       "      <td>1483382</td>\n",
       "      <td>1,12E+13</td>\n",
       "      <td>F</td>\n",
       "      <td>Adulto</td>\n",
       "      <td>SUR</td>\n",
       "      <td>VERANO</td>\n",
       "      <td>36</td>\n",
       "      <td>...</td>\n",
       "      <td>5.0</td>\n",
       "      <td>9.6</td>\n",
       "      <td>0.70</td>\n",
       "      <td>NaN</td>\n",
       "      <td>1</td>\n",
       "      <td>Insuficiente</td>\n",
       "      <td>1</td>\n",
       "      <td>3</td>\n",
       "      <td>14</td>\n",
       "      <td>0</td>\n",
       "    </tr>\n",
       "    <tr>\n",
       "      <th>...</th>\n",
       "      <td>...</td>\n",
       "      <td>...</td>\n",
       "      <td>...</td>\n",
       "      <td>...</td>\n",
       "      <td>...</td>\n",
       "      <td>...</td>\n",
       "      <td>...</td>\n",
       "      <td>...</td>\n",
       "      <td>...</td>\n",
       "      <td>...</td>\n",
       "      <td>...</td>\n",
       "      <td>...</td>\n",
       "      <td>...</td>\n",
       "      <td>...</td>\n",
       "      <td>...</td>\n",
       "      <td>...</td>\n",
       "      <td>...</td>\n",
       "      <td>...</td>\n",
       "      <td>...</td>\n",
       "      <td>...</td>\n",
       "      <td>...</td>\n",
       "    </tr>\n",
       "    <tr>\n",
       "      <th>212516</th>\n",
       "      <td>31/12/2021 11:41</td>\n",
       "      <td>2021</td>\n",
       "      <td>SANTIAGO</td>\n",
       "      <td>6583162</td>\n",
       "      <td>1,11E+13</td>\n",
       "      <td>F</td>\n",
       "      <td>Adulto</td>\n",
       "      <td>CENTRO</td>\n",
       "      <td>PRIMAVERA</td>\n",
       "      <td>40</td>\n",
       "      <td>...</td>\n",
       "      <td>4.2</td>\n",
       "      <td>9.4</td>\n",
       "      <td>NaN</td>\n",
       "      <td>NaN</td>\n",
       "      <td>1</td>\n",
       "      <td>Insuficiente</td>\n",
       "      <td>1</td>\n",
       "      <td>2</td>\n",
       "      <td>13</td>\n",
       "      <td>0</td>\n",
       "    </tr>\n",
       "    <tr>\n",
       "      <th>212517</th>\n",
       "      <td>31/12/2021 11:42</td>\n",
       "      <td>2021</td>\n",
       "      <td>SANTIAGO</td>\n",
       "      <td>6583168</td>\n",
       "      <td>1,12E+13</td>\n",
       "      <td>F</td>\n",
       "      <td>Adulto</td>\n",
       "      <td>CENTRO</td>\n",
       "      <td>PRIMAVERA</td>\n",
       "      <td>32</td>\n",
       "      <td>...</td>\n",
       "      <td>3.4</td>\n",
       "      <td>9.0</td>\n",
       "      <td>0.67</td>\n",
       "      <td>NaN</td>\n",
       "      <td>1</td>\n",
       "      <td>Insuficiente</td>\n",
       "      <td>1</td>\n",
       "      <td>2</td>\n",
       "      <td>13</td>\n",
       "      <td>0</td>\n",
       "    </tr>\n",
       "    <tr>\n",
       "      <th>212518</th>\n",
       "      <td>31/12/2021 11:49</td>\n",
       "      <td>2021</td>\n",
       "      <td>SANTIAGO</td>\n",
       "      <td>6583212</td>\n",
       "      <td>1,12E+13</td>\n",
       "      <td>M</td>\n",
       "      <td>Adulto</td>\n",
       "      <td>CENTRO</td>\n",
       "      <td>PRIMAVERA</td>\n",
       "      <td>36</td>\n",
       "      <td>...</td>\n",
       "      <td>3.4</td>\n",
       "      <td>9.3</td>\n",
       "      <td>NaN</td>\n",
       "      <td>NaN</td>\n",
       "      <td>1</td>\n",
       "      <td>Insuficiente</td>\n",
       "      <td>1</td>\n",
       "      <td>2</td>\n",
       "      <td>13</td>\n",
       "      <td>0</td>\n",
       "    </tr>\n",
       "    <tr>\n",
       "      <th>212519</th>\n",
       "      <td>31/12/2021 11:56</td>\n",
       "      <td>2021</td>\n",
       "      <td>SANTIAGO</td>\n",
       "      <td>6583254</td>\n",
       "      <td>1,11E+13</td>\n",
       "      <td>F</td>\n",
       "      <td>Adulto</td>\n",
       "      <td>CENTRO</td>\n",
       "      <td>PRIMAVERA</td>\n",
       "      <td>44</td>\n",
       "      <td>...</td>\n",
       "      <td>4.5</td>\n",
       "      <td>9.6</td>\n",
       "      <td>NaN</td>\n",
       "      <td>NaN</td>\n",
       "      <td>1</td>\n",
       "      <td>Deseable</td>\n",
       "      <td>1</td>\n",
       "      <td>2</td>\n",
       "      <td>13</td>\n",
       "      <td>1</td>\n",
       "    </tr>\n",
       "    <tr>\n",
       "      <th>212523</th>\n",
       "      <td>31/12/2021 13:01</td>\n",
       "      <td>2021</td>\n",
       "      <td>SANTIAGO</td>\n",
       "      <td>6583960</td>\n",
       "      <td>1,13E+13</td>\n",
       "      <td>M</td>\n",
       "      <td>Niño</td>\n",
       "      <td>CENTRO</td>\n",
       "      <td>PRIMAVERA</td>\n",
       "      <td>1</td>\n",
       "      <td>...</td>\n",
       "      <td>5.9</td>\n",
       "      <td>9.7</td>\n",
       "      <td>0.31</td>\n",
       "      <td>NaN</td>\n",
       "      <td>1</td>\n",
       "      <td>Insuficiente</td>\n",
       "      <td>0</td>\n",
       "      <td>2</td>\n",
       "      <td>13</td>\n",
       "      <td>0</td>\n",
       "    </tr>\n",
       "  </tbody>\n",
       "</table>\n",
       "<p>128186 rows × 21 columns</p>\n",
       "</div>"
      ],
      "text/plain": [
       "          FECHA_PETICION   AÑO LABORATORIO  PETICION IDENTIFICADOR SEXO  \\\n",
       "0        02/01/2018 8:17  2018    SANTIAGO   1483128      1,12E+13    M   \n",
       "2        02/01/2018 8:24  2018    SANTIAGO   1483186      1,11E+13    M   \n",
       "3        02/01/2018 8:32  2018    SANTIAGO   1483328      1,20E+12    F   \n",
       "8        02/01/2018 8:37  2018    SANTIAGO   1483324      1,12E+13    F   \n",
       "9        02/01/2018 8:37  2018    VALDIVIA   1483382      1,12E+13    F   \n",
       "...                  ...   ...         ...       ...           ...  ...   \n",
       "212516  31/12/2021 11:41  2021    SANTIAGO   6583162      1,11E+13    F   \n",
       "212517  31/12/2021 11:42  2021    SANTIAGO   6583168      1,12E+13    F   \n",
       "212518  31/12/2021 11:49  2021    SANTIAGO   6583212      1,12E+13    M   \n",
       "212519  31/12/2021 11:56  2021    SANTIAGO   6583254      1,11E+13    F   \n",
       "212523  31/12/2021 13:01  2021    SANTIAGO   6583960      1,13E+13    M   \n",
       "\n",
       "       ADULTO_NIÑO MACROZONA ESTACIONES_AÑO  EDAD  ...  FOSFORO  CALCIO  \\\n",
       "0             Niño    CENTRO         VERANO    16  ...      5.5    10.9   \n",
       "2           Adulto    CENTRO         VERANO    45  ...      4.1     9.6   \n",
       "3           Adulto    CENTRO         VERANO    52  ...      4.3     9.6   \n",
       "8             Niño    CENTRO         VERANO     4  ...      3.9     9.9   \n",
       "9           Adulto       SUR         VERANO    36  ...      5.0     9.6   \n",
       "...            ...       ...            ...   ...  ...      ...     ...   \n",
       "212516      Adulto    CENTRO      PRIMAVERA    40  ...      4.2     9.4   \n",
       "212517      Adulto    CENTRO      PRIMAVERA    32  ...      3.4     9.0   \n",
       "212518      Adulto    CENTRO      PRIMAVERA    36  ...      3.4     9.3   \n",
       "212519      Adulto    CENTRO      PRIMAVERA    44  ...      4.5     9.6   \n",
       "212523        Niño    CENTRO      PRIMAVERA     1  ...      5.9     9.7   \n",
       "\n",
       "        CREATININA  COVID-19  RESULTADO_VAL     VIT_D_TXT rango_edad  \\\n",
       "0             0.90       NaN              1  Insuficiente          0   \n",
       "2             0.80       NaN              1  Insuficiente          1   \n",
       "3             0.60       NaN              1  Insuficiente          1   \n",
       "8             0.40       NaN              1      Deseable          0   \n",
       "9             0.70       NaN              1  Insuficiente          1   \n",
       "...            ...       ...            ...           ...        ...   \n",
       "212516         NaN       NaN              1  Insuficiente          1   \n",
       "212517        0.67       NaN              1  Insuficiente          1   \n",
       "212518         NaN       NaN              1  Insuficiente          1   \n",
       "212519         NaN       NaN              1      Deseable          1   \n",
       "212523        0.31       NaN              1  Insuficiente          0   \n",
       "\n",
       "        estación  region_lab  resultado  \n",
       "0              3          13          0  \n",
       "2              3          13          0  \n",
       "3              3          13          0  \n",
       "8              3          13          1  \n",
       "9              3          14          0  \n",
       "...          ...         ...        ...  \n",
       "212516         2          13          0  \n",
       "212517         2          13          0  \n",
       "212518         2          13          0  \n",
       "212519         2          13          1  \n",
       "212523         2          13          0  \n",
       "\n",
       "[128186 rows x 21 columns]"
      ]
     },
     "execution_count": 36,
     "metadata": {},
     "output_type": "execute_result"
    }
   ],
   "source": [
    "data1"
   ]
  },
  {
   "cell_type": "code",
   "execution_count": 37,
   "metadata": {},
   "outputs": [
    {
     "data": {
      "text/plain": [
       "False    128186\n",
       "Name: FOSFORO, dtype: int64"
      ]
     },
     "execution_count": 37,
     "metadata": {},
     "output_type": "execute_result"
    }
   ],
   "source": [
    "data1['FOSFORO'].isnull().value_counts()"
   ]
  },
  {
   "cell_type": "code",
   "execution_count": 38,
   "metadata": {},
   "outputs": [
    {
     "data": {
      "text/plain": [
       "False    128030\n",
       "True        156\n",
       "Name: CALCIO, dtype: int64"
      ]
     },
     "execution_count": 38,
     "metadata": {},
     "output_type": "execute_result"
    }
   ],
   "source": [
    "data1['CALCIO'].isnull().value_counts()"
   ]
  },
  {
   "cell_type": "code",
   "execution_count": 39,
   "metadata": {},
   "outputs": [],
   "source": [
    "data2= data1[data1['CALCIO'].notna()]"
   ]
  },
  {
   "cell_type": "code",
   "execution_count": 40,
   "metadata": {},
   "outputs": [
    {
     "data": {
      "text/plain": [
       "False    128030\n",
       "Name: CALCIO, dtype: int64"
      ]
     },
     "execution_count": 40,
     "metadata": {},
     "output_type": "execute_result"
    }
   ],
   "source": [
    "data2['CALCIO'].isnull().value_counts()"
   ]
  },
  {
   "cell_type": "code",
   "execution_count": 41,
   "metadata": {},
   "outputs": [
    {
     "data": {
      "text/html": [
       "<div>\n",
       "<style scoped>\n",
       "    .dataframe tbody tr th:only-of-type {\n",
       "        vertical-align: middle;\n",
       "    }\n",
       "\n",
       "    .dataframe tbody tr th {\n",
       "        vertical-align: top;\n",
       "    }\n",
       "\n",
       "    .dataframe thead th {\n",
       "        text-align: right;\n",
       "    }\n",
       "</style>\n",
       "<table border=\"1\" class=\"dataframe\">\n",
       "  <thead>\n",
       "    <tr style=\"text-align: right;\">\n",
       "      <th></th>\n",
       "      <th>FECHA_PETICION</th>\n",
       "      <th>AÑO</th>\n",
       "      <th>LABORATORIO</th>\n",
       "      <th>PETICION</th>\n",
       "      <th>IDENTIFICADOR</th>\n",
       "      <th>SEXO</th>\n",
       "      <th>ADULTO_NIÑO</th>\n",
       "      <th>MACROZONA</th>\n",
       "      <th>ESTACIONES_AÑO</th>\n",
       "      <th>EDAD</th>\n",
       "      <th>...</th>\n",
       "      <th>FOSFORO</th>\n",
       "      <th>CALCIO</th>\n",
       "      <th>CREATININA</th>\n",
       "      <th>COVID-19</th>\n",
       "      <th>RESULTADO_VAL</th>\n",
       "      <th>VIT_D_TXT</th>\n",
       "      <th>rango_edad</th>\n",
       "      <th>estación</th>\n",
       "      <th>region_lab</th>\n",
       "      <th>resultado</th>\n",
       "    </tr>\n",
       "  </thead>\n",
       "  <tbody>\n",
       "    <tr>\n",
       "      <th>0</th>\n",
       "      <td>02/01/2018 8:17</td>\n",
       "      <td>2018</td>\n",
       "      <td>SANTIAGO</td>\n",
       "      <td>1483128</td>\n",
       "      <td>1,12E+13</td>\n",
       "      <td>M</td>\n",
       "      <td>Niño</td>\n",
       "      <td>CENTRO</td>\n",
       "      <td>VERANO</td>\n",
       "      <td>16</td>\n",
       "      <td>...</td>\n",
       "      <td>5.5</td>\n",
       "      <td>10.9</td>\n",
       "      <td>0.90</td>\n",
       "      <td>NaN</td>\n",
       "      <td>1</td>\n",
       "      <td>Insuficiente</td>\n",
       "      <td>0</td>\n",
       "      <td>3</td>\n",
       "      <td>13</td>\n",
       "      <td>0</td>\n",
       "    </tr>\n",
       "    <tr>\n",
       "      <th>2</th>\n",
       "      <td>02/01/2018 8:24</td>\n",
       "      <td>2018</td>\n",
       "      <td>SANTIAGO</td>\n",
       "      <td>1483186</td>\n",
       "      <td>1,11E+13</td>\n",
       "      <td>M</td>\n",
       "      <td>Adulto</td>\n",
       "      <td>CENTRO</td>\n",
       "      <td>VERANO</td>\n",
       "      <td>45</td>\n",
       "      <td>...</td>\n",
       "      <td>4.1</td>\n",
       "      <td>9.6</td>\n",
       "      <td>0.80</td>\n",
       "      <td>NaN</td>\n",
       "      <td>1</td>\n",
       "      <td>Insuficiente</td>\n",
       "      <td>1</td>\n",
       "      <td>3</td>\n",
       "      <td>13</td>\n",
       "      <td>0</td>\n",
       "    </tr>\n",
       "    <tr>\n",
       "      <th>3</th>\n",
       "      <td>02/01/2018 8:32</td>\n",
       "      <td>2018</td>\n",
       "      <td>SANTIAGO</td>\n",
       "      <td>1483328</td>\n",
       "      <td>1,20E+12</td>\n",
       "      <td>F</td>\n",
       "      <td>Adulto</td>\n",
       "      <td>CENTRO</td>\n",
       "      <td>VERANO</td>\n",
       "      <td>52</td>\n",
       "      <td>...</td>\n",
       "      <td>4.3</td>\n",
       "      <td>9.6</td>\n",
       "      <td>0.60</td>\n",
       "      <td>NaN</td>\n",
       "      <td>1</td>\n",
       "      <td>Insuficiente</td>\n",
       "      <td>1</td>\n",
       "      <td>3</td>\n",
       "      <td>13</td>\n",
       "      <td>0</td>\n",
       "    </tr>\n",
       "    <tr>\n",
       "      <th>8</th>\n",
       "      <td>02/01/2018 8:37</td>\n",
       "      <td>2018</td>\n",
       "      <td>SANTIAGO</td>\n",
       "      <td>1483324</td>\n",
       "      <td>1,12E+13</td>\n",
       "      <td>F</td>\n",
       "      <td>Niño</td>\n",
       "      <td>CENTRO</td>\n",
       "      <td>VERANO</td>\n",
       "      <td>4</td>\n",
       "      <td>...</td>\n",
       "      <td>3.9</td>\n",
       "      <td>9.9</td>\n",
       "      <td>0.40</td>\n",
       "      <td>NaN</td>\n",
       "      <td>1</td>\n",
       "      <td>Deseable</td>\n",
       "      <td>0</td>\n",
       "      <td>3</td>\n",
       "      <td>13</td>\n",
       "      <td>1</td>\n",
       "    </tr>\n",
       "    <tr>\n",
       "      <th>9</th>\n",
       "      <td>02/01/2018 8:37</td>\n",
       "      <td>2018</td>\n",
       "      <td>VALDIVIA</td>\n",
       "      <td>1483382</td>\n",
       "      <td>1,12E+13</td>\n",
       "      <td>F</td>\n",
       "      <td>Adulto</td>\n",
       "      <td>SUR</td>\n",
       "      <td>VERANO</td>\n",
       "      <td>36</td>\n",
       "      <td>...</td>\n",
       "      <td>5.0</td>\n",
       "      <td>9.6</td>\n",
       "      <td>0.70</td>\n",
       "      <td>NaN</td>\n",
       "      <td>1</td>\n",
       "      <td>Insuficiente</td>\n",
       "      <td>1</td>\n",
       "      <td>3</td>\n",
       "      <td>14</td>\n",
       "      <td>0</td>\n",
       "    </tr>\n",
       "    <tr>\n",
       "      <th>...</th>\n",
       "      <td>...</td>\n",
       "      <td>...</td>\n",
       "      <td>...</td>\n",
       "      <td>...</td>\n",
       "      <td>...</td>\n",
       "      <td>...</td>\n",
       "      <td>...</td>\n",
       "      <td>...</td>\n",
       "      <td>...</td>\n",
       "      <td>...</td>\n",
       "      <td>...</td>\n",
       "      <td>...</td>\n",
       "      <td>...</td>\n",
       "      <td>...</td>\n",
       "      <td>...</td>\n",
       "      <td>...</td>\n",
       "      <td>...</td>\n",
       "      <td>...</td>\n",
       "      <td>...</td>\n",
       "      <td>...</td>\n",
       "      <td>...</td>\n",
       "    </tr>\n",
       "    <tr>\n",
       "      <th>212516</th>\n",
       "      <td>31/12/2021 11:41</td>\n",
       "      <td>2021</td>\n",
       "      <td>SANTIAGO</td>\n",
       "      <td>6583162</td>\n",
       "      <td>1,11E+13</td>\n",
       "      <td>F</td>\n",
       "      <td>Adulto</td>\n",
       "      <td>CENTRO</td>\n",
       "      <td>PRIMAVERA</td>\n",
       "      <td>40</td>\n",
       "      <td>...</td>\n",
       "      <td>4.2</td>\n",
       "      <td>9.4</td>\n",
       "      <td>NaN</td>\n",
       "      <td>NaN</td>\n",
       "      <td>1</td>\n",
       "      <td>Insuficiente</td>\n",
       "      <td>1</td>\n",
       "      <td>2</td>\n",
       "      <td>13</td>\n",
       "      <td>0</td>\n",
       "    </tr>\n",
       "    <tr>\n",
       "      <th>212517</th>\n",
       "      <td>31/12/2021 11:42</td>\n",
       "      <td>2021</td>\n",
       "      <td>SANTIAGO</td>\n",
       "      <td>6583168</td>\n",
       "      <td>1,12E+13</td>\n",
       "      <td>F</td>\n",
       "      <td>Adulto</td>\n",
       "      <td>CENTRO</td>\n",
       "      <td>PRIMAVERA</td>\n",
       "      <td>32</td>\n",
       "      <td>...</td>\n",
       "      <td>3.4</td>\n",
       "      <td>9.0</td>\n",
       "      <td>0.67</td>\n",
       "      <td>NaN</td>\n",
       "      <td>1</td>\n",
       "      <td>Insuficiente</td>\n",
       "      <td>1</td>\n",
       "      <td>2</td>\n",
       "      <td>13</td>\n",
       "      <td>0</td>\n",
       "    </tr>\n",
       "    <tr>\n",
       "      <th>212518</th>\n",
       "      <td>31/12/2021 11:49</td>\n",
       "      <td>2021</td>\n",
       "      <td>SANTIAGO</td>\n",
       "      <td>6583212</td>\n",
       "      <td>1,12E+13</td>\n",
       "      <td>M</td>\n",
       "      <td>Adulto</td>\n",
       "      <td>CENTRO</td>\n",
       "      <td>PRIMAVERA</td>\n",
       "      <td>36</td>\n",
       "      <td>...</td>\n",
       "      <td>3.4</td>\n",
       "      <td>9.3</td>\n",
       "      <td>NaN</td>\n",
       "      <td>NaN</td>\n",
       "      <td>1</td>\n",
       "      <td>Insuficiente</td>\n",
       "      <td>1</td>\n",
       "      <td>2</td>\n",
       "      <td>13</td>\n",
       "      <td>0</td>\n",
       "    </tr>\n",
       "    <tr>\n",
       "      <th>212519</th>\n",
       "      <td>31/12/2021 11:56</td>\n",
       "      <td>2021</td>\n",
       "      <td>SANTIAGO</td>\n",
       "      <td>6583254</td>\n",
       "      <td>1,11E+13</td>\n",
       "      <td>F</td>\n",
       "      <td>Adulto</td>\n",
       "      <td>CENTRO</td>\n",
       "      <td>PRIMAVERA</td>\n",
       "      <td>44</td>\n",
       "      <td>...</td>\n",
       "      <td>4.5</td>\n",
       "      <td>9.6</td>\n",
       "      <td>NaN</td>\n",
       "      <td>NaN</td>\n",
       "      <td>1</td>\n",
       "      <td>Deseable</td>\n",
       "      <td>1</td>\n",
       "      <td>2</td>\n",
       "      <td>13</td>\n",
       "      <td>1</td>\n",
       "    </tr>\n",
       "    <tr>\n",
       "      <th>212523</th>\n",
       "      <td>31/12/2021 13:01</td>\n",
       "      <td>2021</td>\n",
       "      <td>SANTIAGO</td>\n",
       "      <td>6583960</td>\n",
       "      <td>1,13E+13</td>\n",
       "      <td>M</td>\n",
       "      <td>Niño</td>\n",
       "      <td>CENTRO</td>\n",
       "      <td>PRIMAVERA</td>\n",
       "      <td>1</td>\n",
       "      <td>...</td>\n",
       "      <td>5.9</td>\n",
       "      <td>9.7</td>\n",
       "      <td>0.31</td>\n",
       "      <td>NaN</td>\n",
       "      <td>1</td>\n",
       "      <td>Insuficiente</td>\n",
       "      <td>0</td>\n",
       "      <td>2</td>\n",
       "      <td>13</td>\n",
       "      <td>0</td>\n",
       "    </tr>\n",
       "  </tbody>\n",
       "</table>\n",
       "<p>128030 rows × 21 columns</p>\n",
       "</div>"
      ],
      "text/plain": [
       "          FECHA_PETICION   AÑO LABORATORIO  PETICION IDENTIFICADOR SEXO  \\\n",
       "0        02/01/2018 8:17  2018    SANTIAGO   1483128      1,12E+13    M   \n",
       "2        02/01/2018 8:24  2018    SANTIAGO   1483186      1,11E+13    M   \n",
       "3        02/01/2018 8:32  2018    SANTIAGO   1483328      1,20E+12    F   \n",
       "8        02/01/2018 8:37  2018    SANTIAGO   1483324      1,12E+13    F   \n",
       "9        02/01/2018 8:37  2018    VALDIVIA   1483382      1,12E+13    F   \n",
       "...                  ...   ...         ...       ...           ...  ...   \n",
       "212516  31/12/2021 11:41  2021    SANTIAGO   6583162      1,11E+13    F   \n",
       "212517  31/12/2021 11:42  2021    SANTIAGO   6583168      1,12E+13    F   \n",
       "212518  31/12/2021 11:49  2021    SANTIAGO   6583212      1,12E+13    M   \n",
       "212519  31/12/2021 11:56  2021    SANTIAGO   6583254      1,11E+13    F   \n",
       "212523  31/12/2021 13:01  2021    SANTIAGO   6583960      1,13E+13    M   \n",
       "\n",
       "       ADULTO_NIÑO MACROZONA ESTACIONES_AÑO  EDAD  ...  FOSFORO  CALCIO  \\\n",
       "0             Niño    CENTRO         VERANO    16  ...      5.5    10.9   \n",
       "2           Adulto    CENTRO         VERANO    45  ...      4.1     9.6   \n",
       "3           Adulto    CENTRO         VERANO    52  ...      4.3     9.6   \n",
       "8             Niño    CENTRO         VERANO     4  ...      3.9     9.9   \n",
       "9           Adulto       SUR         VERANO    36  ...      5.0     9.6   \n",
       "...            ...       ...            ...   ...  ...      ...     ...   \n",
       "212516      Adulto    CENTRO      PRIMAVERA    40  ...      4.2     9.4   \n",
       "212517      Adulto    CENTRO      PRIMAVERA    32  ...      3.4     9.0   \n",
       "212518      Adulto    CENTRO      PRIMAVERA    36  ...      3.4     9.3   \n",
       "212519      Adulto    CENTRO      PRIMAVERA    44  ...      4.5     9.6   \n",
       "212523        Niño    CENTRO      PRIMAVERA     1  ...      5.9     9.7   \n",
       "\n",
       "        CREATININA  COVID-19  RESULTADO_VAL     VIT_D_TXT rango_edad  \\\n",
       "0             0.90       NaN              1  Insuficiente          0   \n",
       "2             0.80       NaN              1  Insuficiente          1   \n",
       "3             0.60       NaN              1  Insuficiente          1   \n",
       "8             0.40       NaN              1      Deseable          0   \n",
       "9             0.70       NaN              1  Insuficiente          1   \n",
       "...            ...       ...            ...           ...        ...   \n",
       "212516         NaN       NaN              1  Insuficiente          1   \n",
       "212517        0.67       NaN              1  Insuficiente          1   \n",
       "212518         NaN       NaN              1  Insuficiente          1   \n",
       "212519         NaN       NaN              1      Deseable          1   \n",
       "212523        0.31       NaN              1  Insuficiente          0   \n",
       "\n",
       "        estación  region_lab  resultado  \n",
       "0              3          13          0  \n",
       "2              3          13          0  \n",
       "3              3          13          0  \n",
       "8              3          13          1  \n",
       "9              3          14          0  \n",
       "...          ...         ...        ...  \n",
       "212516         2          13          0  \n",
       "212517         2          13          0  \n",
       "212518         2          13          0  \n",
       "212519         2          13          1  \n",
       "212523         2          13          0  \n",
       "\n",
       "[128030 rows x 21 columns]"
      ]
     },
     "execution_count": 41,
     "metadata": {},
     "output_type": "execute_result"
    }
   ],
   "source": [
    "data2"
   ]
  },
  {
   "cell_type": "markdown",
   "metadata": {},
   "source": [
    "### FÓSFORO"
   ]
  },
  {
   "cell_type": "code",
   "execution_count": 42,
   "metadata": {},
   "outputs": [
    {
     "name": "stdout",
     "output_type": "stream",
     "text": [
      "                            OLS Regression Results                            \n",
      "==============================================================================\n",
      "Dep. Variable:              resultado   R-squared:                       0.003\n",
      "Model:                            OLS   Adj. R-squared:                  0.003\n",
      "Method:                 Least Squares   F-statistic:                     370.2\n",
      "Date:                Wed, 05 Oct 2022   Prob (F-statistic):           2.20e-82\n",
      "Time:                        21:30:23   Log-Likelihood:                -49553.\n",
      "No. Observations:              128030   AIC:                         9.911e+04\n",
      "Df Residuals:                  128028   BIC:                         9.913e+04\n",
      "Df Model:                           1                                         \n",
      "Covariance Type:            nonrobust                                         \n",
      "==============================================================================\n",
      "                 coef    std err          t      P>|t|      [0.025      0.975]\n",
      "------------------------------------------------------------------------------\n",
      "Intercept      0.0352      0.006      5.835      0.000       0.023       0.047\n",
      "FOSFORO        0.0293      0.002     19.241      0.000       0.026       0.032\n",
      "==============================================================================\n",
      "Omnibus:                    42139.115   Durbin-Watson:                   1.866\n",
      "Prob(Omnibus):                  0.000   Jarque-Bera (JB):            99644.389\n",
      "Skew:                           1.955   Prob(JB):                         0.00\n",
      "Kurtosis:                       4.843   Cond. No.                         25.5\n",
      "==============================================================================\n",
      "\n",
      "Notes:\n",
      "[1] Standard Errors assume that the covariance matrix of the errors is correctly specified.\n"
     ]
    }
   ],
   "source": [
    "mod5 = smf.ols(formula='resultado ~ FOSFORO', data=data2)\n",
    "res5 = mod5.fit()\n",
    "print(res5.summary())"
   ]
  },
  {
   "cell_type": "code",
   "execution_count": 43,
   "metadata": {},
   "outputs": [
    {
     "name": "stdout",
     "output_type": "stream",
     "text": [
      "Intercept    0.035223\n",
      "FOSFORO      0.029301\n",
      "dtype: float64\n"
     ]
    }
   ],
   "source": [
    "params5 = res5.params\n",
    "print(params5)"
   ]
  },
  {
   "cell_type": "code",
   "execution_count": 44,
   "metadata": {},
   "outputs": [
    {
     "data": {
      "text/plain": [
       "Text(0.5, 1.0, 'Regresión de resultado en función de FOSFORO')"
      ]
     },
     "execution_count": 44,
     "metadata": {},
     "output_type": "execute_result"
    },
    {
     "data": {
      "image/png": "[encoded data removed]",
      "text/plain": [
       "<Figure size 576x432 with 1 Axes>"
      ]
     },
     "metadata": {
      "needs_background": "light"
     },
     "output_type": "display_data"
    }
   ],
   "source": [
    "fig, ax = plt.subplots(figsize=(8, 6))\n",
    "\n",
    "ax.plot(data2['FOSFORO'], data2['resultado'], \"o\", label=\"data2\")\n",
    "ax.plot(data2['FOSFORO'], params5['Intercept']+params5['FOSFORO']*data2['FOSFORO']  , \"r-\", label=\"Predicted\")\n",
    "ax.set_ylabel(\"Resultado\")\n",
    "ax.set_xlabel(\"FOSFORO\")\n",
    "ax.set_title(\"Regresión de resultado en función de FOSFORO\")"
   ]
  },
  {
   "cell_type": "markdown",
   "metadata": {},
   "source": [
    "### El resultado más bajo de Vitamina D, definido como \"insuficiente\", está dado por 0. El resultado de la Vitamina D está correlacionado positivamente con los resultados de Fosforo en la muestra poblacional. Esto es, valores bajos de Vitamina D, están asociados también a baja concentración de Fósforo en el organismo."
   ]
  },
  {
   "cell_type": "markdown",
   "metadata": {},
   "source": [
    "### CALCIO"
   ]
  },
  {
   "cell_type": "code",
   "execution_count": 45,
   "metadata": {},
   "outputs": [
    {
     "name": "stdout",
     "output_type": "stream",
     "text": [
      "                            OLS Regression Results                            \n",
      "==============================================================================\n",
      "Dep. Variable:              resultado   R-squared:                       0.005\n",
      "Model:                            OLS   Adj. R-squared:                  0.005\n",
      "Method:                 Least Squares   F-statistic:                     691.5\n",
      "Date:                Wed, 05 Oct 2022   Prob (F-statistic):          5.36e-152\n",
      "Time:                        21:30:23   Log-Likelihood:                -49393.\n",
      "No. Observations:              128030   AIC:                         9.879e+04\n",
      "Df Residuals:                  128028   BIC:                         9.881e+04\n",
      "Df Model:                           1                                         \n",
      "Covariance Type:            nonrobust                                         \n",
      "==============================================================================\n",
      "                 coef    std err          t      P>|t|      [0.025      0.975]\n",
      "------------------------------------------------------------------------------\n",
      "Intercept     -0.3305      0.018    -18.069      0.000      -0.366      -0.295\n",
      "CALCIO         0.0510      0.002     26.296      0.000       0.047       0.055\n",
      "==============================================================================\n",
      "Omnibus:                    41955.514   Durbin-Watson:                   1.873\n",
      "Prob(Omnibus):                  0.000   Jarque-Bera (JB):            98878.146\n",
      "Skew:                           1.947   Prob(JB):                         0.00\n",
      "Kurtosis:                       4.834   Cond. No.                         175.\n",
      "==============================================================================\n",
      "\n",
      "Notes:\n",
      "[1] Standard Errors assume that the covariance matrix of the errors is correctly specified.\n"
     ]
    }
   ],
   "source": [
    "mod6 = smf.ols(formula='resultado ~ CALCIO', data=data2)\n",
    "res6 = mod6.fit()\n",
    "print(res6.summary())"
   ]
  },
  {
   "cell_type": "code",
   "execution_count": 46,
   "metadata": {},
   "outputs": [
    {
     "name": "stdout",
     "output_type": "stream",
     "text": [
      "Intercept   -0.330487\n",
      "CALCIO       0.050972\n",
      "dtype: float64\n"
     ]
    }
   ],
   "source": [
    "params6 = res6.params\n",
    "print(params6)"
   ]
  },
  {
   "cell_type": "code",
   "execution_count": 47,
   "metadata": {},
   "outputs": [
    {
     "data": {
      "text/plain": [
       "Text(0.5, 1.0, 'Regresión de resultado en función de CALCIO')"
      ]
     },
     "execution_count": 47,
     "metadata": {},
     "output_type": "execute_result"
    },
    {
     "data": {
      "image/png": "[encoded data removed]",
      "text/plain": [
       "<Figure size 576x432 with 1 Axes>"
      ]
     },
     "metadata": {
      "needs_background": "light"
     },
     "output_type": "display_data"
    }
   ],
   "source": [
    "fig, ax = plt.subplots(figsize=(8, 6))\n",
    "\n",
    "ax.plot(data2['CALCIO'], data2['resultado'], \"o\", label=\"data2\")\n",
    "ax.plot(data2['CALCIO'], params6['Intercept']+params6['CALCIO']*data2['CALCIO']  , \"r-\", label=\"Predicted\")\n",
    "ax.set_ylabel(\"Resultado\")\n",
    "ax.set_xlabel(\"CALCIO\")\n",
    "ax.set_title(\"Regresión de resultado en función de CALCIO\")"
   ]
  },
  {
   "cell_type": "markdown",
   "metadata": {},
   "source": [
    "### El calcio también presenta una correlación positiva con los resultados de Vitamina D de la muestra poblacional, esto en concordancia con la información científica que indica que en pacientes con bajos indices de vitamina D es altamente probable que también presenten baja concentración de Calcio y Fósforo en el organismo."
   ]
  },
  {
   "cell_type": "markdown",
   "metadata": {},
   "source": [
    "## Conclusiones parte I.\n",
    "### De las variables analizadas, se pudo verificar que existe correlación con los resultados de la Vitamina D en las variables: Estación del año, Laboratorio (región del país), Año en que se toma la muestra (pre o durante pandemia), Fósforo y Calcio."
   ]
  },
  {
   "cell_type": "markdown",
   "metadata": {},
   "source": [
    "## PROBANDO MODELO DE REGRESIÓN LOGÍSTICA COMO PREDICTOR DE RESULTADO"
   ]
  },
  {
   "cell_type": "markdown",
   "metadata": {},
   "source": [
    "## Crearemos un nuevo dataset con las variables que se encontró mayor relación con el resultado de Vitamina D para de esta manera analizar si es posible predecir un resultado considerando estos 5 factores."
   ]
  },
  {
   "cell_type": "code",
   "execution_count": 48,
   "metadata": {},
   "outputs": [
    {
     "data": {
      "text/html": [
       "<div>\n",
       "<style scoped>\n",
       "    .dataframe tbody tr th:only-of-type {\n",
       "        vertical-align: middle;\n",
       "    }\n",
       "\n",
       "    .dataframe tbody tr th {\n",
       "        vertical-align: top;\n",
       "    }\n",
       "\n",
       "    .dataframe thead th {\n",
       "        text-align: right;\n",
       "    }\n",
       "</style>\n",
       "<table border=\"1\" class=\"dataframe\">\n",
       "  <thead>\n",
       "    <tr style=\"text-align: right;\">\n",
       "      <th></th>\n",
       "      <th>estación</th>\n",
       "      <th>region_lab</th>\n",
       "      <th>AÑO</th>\n",
       "      <th>FOSFORO</th>\n",
       "      <th>CALCIO</th>\n",
       "      <th>resultado</th>\n",
       "    </tr>\n",
       "  </thead>\n",
       "  <tbody>\n",
       "    <tr>\n",
       "      <th>0</th>\n",
       "      <td>3</td>\n",
       "      <td>13</td>\n",
       "      <td>2018</td>\n",
       "      <td>5.5</td>\n",
       "      <td>10.9</td>\n",
       "      <td>0</td>\n",
       "    </tr>\n",
       "    <tr>\n",
       "      <th>2</th>\n",
       "      <td>3</td>\n",
       "      <td>13</td>\n",
       "      <td>2018</td>\n",
       "      <td>4.1</td>\n",
       "      <td>9.6</td>\n",
       "      <td>0</td>\n",
       "    </tr>\n",
       "    <tr>\n",
       "      <th>3</th>\n",
       "      <td>3</td>\n",
       "      <td>13</td>\n",
       "      <td>2018</td>\n",
       "      <td>4.3</td>\n",
       "      <td>9.6</td>\n",
       "      <td>0</td>\n",
       "    </tr>\n",
       "    <tr>\n",
       "      <th>8</th>\n",
       "      <td>3</td>\n",
       "      <td>13</td>\n",
       "      <td>2018</td>\n",
       "      <td>3.9</td>\n",
       "      <td>9.9</td>\n",
       "      <td>1</td>\n",
       "    </tr>\n",
       "    <tr>\n",
       "      <th>9</th>\n",
       "      <td>3</td>\n",
       "      <td>14</td>\n",
       "      <td>2018</td>\n",
       "      <td>5.0</td>\n",
       "      <td>9.6</td>\n",
       "      <td>0</td>\n",
       "    </tr>\n",
       "    <tr>\n",
       "      <th>...</th>\n",
       "      <td>...</td>\n",
       "      <td>...</td>\n",
       "      <td>...</td>\n",
       "      <td>...</td>\n",
       "      <td>...</td>\n",
       "      <td>...</td>\n",
       "    </tr>\n",
       "    <tr>\n",
       "      <th>212516</th>\n",
       "      <td>2</td>\n",
       "      <td>13</td>\n",
       "      <td>2021</td>\n",
       "      <td>4.2</td>\n",
       "      <td>9.4</td>\n",
       "      <td>0</td>\n",
       "    </tr>\n",
       "    <tr>\n",
       "      <th>212517</th>\n",
       "      <td>2</td>\n",
       "      <td>13</td>\n",
       "      <td>2021</td>\n",
       "      <td>3.4</td>\n",
       "      <td>9.0</td>\n",
       "      <td>0</td>\n",
       "    </tr>\n",
       "    <tr>\n",
       "      <th>212518</th>\n",
       "      <td>2</td>\n",
       "      <td>13</td>\n",
       "      <td>2021</td>\n",
       "      <td>3.4</td>\n",
       "      <td>9.3</td>\n",
       "      <td>0</td>\n",
       "    </tr>\n",
       "    <tr>\n",
       "      <th>212519</th>\n",
       "      <td>2</td>\n",
       "      <td>13</td>\n",
       "      <td>2021</td>\n",
       "      <td>4.5</td>\n",
       "      <td>9.6</td>\n",
       "      <td>1</td>\n",
       "    </tr>\n",
       "    <tr>\n",
       "      <th>212523</th>\n",
       "      <td>2</td>\n",
       "      <td>13</td>\n",
       "      <td>2021</td>\n",
       "      <td>5.9</td>\n",
       "      <td>9.7</td>\n",
       "      <td>0</td>\n",
       "    </tr>\n",
       "  </tbody>\n",
       "</table>\n",
       "<p>128030 rows × 6 columns</p>\n",
       "</div>"
      ],
      "text/plain": [
       "        estación  region_lab   AÑO  FOSFORO  CALCIO  resultado\n",
       "0              3          13  2018      5.5    10.9          0\n",
       "2              3          13  2018      4.1     9.6          0\n",
       "3              3          13  2018      4.3     9.6          0\n",
       "8              3          13  2018      3.9     9.9          1\n",
       "9              3          14  2018      5.0     9.6          0\n",
       "...          ...         ...   ...      ...     ...        ...\n",
       "212516         2          13  2021      4.2     9.4          0\n",
       "212517         2          13  2021      3.4     9.0          0\n",
       "212518         2          13  2021      3.4     9.3          0\n",
       "212519         2          13  2021      4.5     9.6          1\n",
       "212523         2          13  2021      5.9     9.7          0\n",
       "\n",
       "[128030 rows x 6 columns]"
      ]
     },
     "execution_count": 48,
     "metadata": {},
     "output_type": "execute_result"
    }
   ],
   "source": [
    "data_LR = data2[['estación', 'region_lab', 'AÑO', 'FOSFORO', 'CALCIO', 'resultado']]\n",
    "data_LR"
   ]
  },
  {
   "cell_type": "code",
   "execution_count": 49,
   "metadata": {},
   "outputs": [
    {
     "data": {
      "text/html": [
       "<div>\n",
       "<style scoped>\n",
       "    .dataframe tbody tr th:only-of-type {\n",
       "        vertical-align: middle;\n",
       "    }\n",
       "\n",
       "    .dataframe tbody tr th {\n",
       "        vertical-align: top;\n",
       "    }\n",
       "\n",
       "    .dataframe thead th {\n",
       "        text-align: right;\n",
       "    }\n",
       "</style>\n",
       "<table border=\"1\" class=\"dataframe\">\n",
       "  <thead>\n",
       "    <tr style=\"text-align: right;\">\n",
       "      <th></th>\n",
       "      <th>FOSFORO</th>\n",
       "      <th>CALCIO</th>\n",
       "    </tr>\n",
       "  </thead>\n",
       "  <tbody>\n",
       "    <tr>\n",
       "      <th>count</th>\n",
       "      <td>128030.000000</td>\n",
       "      <td>128030.000000</td>\n",
       "    </tr>\n",
       "    <tr>\n",
       "      <th>mean</th>\n",
       "      <td>3.909296</td>\n",
       "      <td>9.421911</td>\n",
       "    </tr>\n",
       "    <tr>\n",
       "      <th>std</th>\n",
       "      <td>0.653953</td>\n",
       "      <td>0.513124</td>\n",
       "    </tr>\n",
       "    <tr>\n",
       "      <th>min</th>\n",
       "      <td>0.800000</td>\n",
       "      <td>1.000000</td>\n",
       "    </tr>\n",
       "    <tr>\n",
       "      <th>25%</th>\n",
       "      <td>3.500000</td>\n",
       "      <td>9.100000</td>\n",
       "    </tr>\n",
       "    <tr>\n",
       "      <th>50%</th>\n",
       "      <td>3.830000</td>\n",
       "      <td>9.400000</td>\n",
       "    </tr>\n",
       "    <tr>\n",
       "      <th>75%</th>\n",
       "      <td>4.300000</td>\n",
       "      <td>9.800000</td>\n",
       "    </tr>\n",
       "    <tr>\n",
       "      <th>max</th>\n",
       "      <td>10.200000</td>\n",
       "      <td>14.200000</td>\n",
       "    </tr>\n",
       "  </tbody>\n",
       "</table>\n",
       "</div>"
      ],
      "text/plain": [
       "             FOSFORO         CALCIO\n",
       "count  128030.000000  128030.000000\n",
       "mean        3.909296       9.421911\n",
       "std         0.653953       0.513124\n",
       "min         0.800000       1.000000\n",
       "25%         3.500000       9.100000\n",
       "50%         3.830000       9.400000\n",
       "75%         4.300000       9.800000\n",
       "max        10.200000      14.200000"
      ]
     },
     "execution_count": 49,
     "metadata": {},
     "output_type": "execute_result"
    }
   ],
   "source": [
    "data_LR[['FOSFORO','CALCIO']].describe()"
   ]
  },
  {
   "cell_type": "code",
   "execution_count": 50,
   "metadata": {},
   "outputs": [
    {
     "data": {
      "text/html": [
       "<div>\n",
       "<style scoped>\n",
       "    .dataframe tbody tr th:only-of-type {\n",
       "        vertical-align: middle;\n",
       "    }\n",
       "\n",
       "    .dataframe tbody tr th {\n",
       "        vertical-align: top;\n",
       "    }\n",
       "\n",
       "    .dataframe thead th {\n",
       "        text-align: right;\n",
       "    }\n",
       "</style>\n",
       "<table border=\"1\" class=\"dataframe\">\n",
       "  <thead>\n",
       "    <tr style=\"text-align: right;\">\n",
       "      <th></th>\n",
       "      <th>estación</th>\n",
       "      <th>region_lab</th>\n",
       "      <th>AÑO</th>\n",
       "      <th>FOSFORO</th>\n",
       "      <th>CALCIO</th>\n",
       "    </tr>\n",
       "  </thead>\n",
       "  <tbody>\n",
       "    <tr>\n",
       "      <th>0</th>\n",
       "      <td>3</td>\n",
       "      <td>13</td>\n",
       "      <td>2018</td>\n",
       "      <td>5.5</td>\n",
       "      <td>10.9</td>\n",
       "    </tr>\n",
       "    <tr>\n",
       "      <th>2</th>\n",
       "      <td>3</td>\n",
       "      <td>13</td>\n",
       "      <td>2018</td>\n",
       "      <td>4.1</td>\n",
       "      <td>9.6</td>\n",
       "    </tr>\n",
       "    <tr>\n",
       "      <th>3</th>\n",
       "      <td>3</td>\n",
       "      <td>13</td>\n",
       "      <td>2018</td>\n",
       "      <td>4.3</td>\n",
       "      <td>9.6</td>\n",
       "    </tr>\n",
       "    <tr>\n",
       "      <th>8</th>\n",
       "      <td>3</td>\n",
       "      <td>13</td>\n",
       "      <td>2018</td>\n",
       "      <td>3.9</td>\n",
       "      <td>9.9</td>\n",
       "    </tr>\n",
       "    <tr>\n",
       "      <th>9</th>\n",
       "      <td>3</td>\n",
       "      <td>14</td>\n",
       "      <td>2018</td>\n",
       "      <td>5.0</td>\n",
       "      <td>9.6</td>\n",
       "    </tr>\n",
       "    <tr>\n",
       "      <th>...</th>\n",
       "      <td>...</td>\n",
       "      <td>...</td>\n",
       "      <td>...</td>\n",
       "      <td>...</td>\n",
       "      <td>...</td>\n",
       "    </tr>\n",
       "    <tr>\n",
       "      <th>212516</th>\n",
       "      <td>2</td>\n",
       "      <td>13</td>\n",
       "      <td>2021</td>\n",
       "      <td>4.2</td>\n",
       "      <td>9.4</td>\n",
       "    </tr>\n",
       "    <tr>\n",
       "      <th>212517</th>\n",
       "      <td>2</td>\n",
       "      <td>13</td>\n",
       "      <td>2021</td>\n",
       "      <td>3.4</td>\n",
       "      <td>9.0</td>\n",
       "    </tr>\n",
       "    <tr>\n",
       "      <th>212518</th>\n",
       "      <td>2</td>\n",
       "      <td>13</td>\n",
       "      <td>2021</td>\n",
       "      <td>3.4</td>\n",
       "      <td>9.3</td>\n",
       "    </tr>\n",
       "    <tr>\n",
       "      <th>212519</th>\n",
       "      <td>2</td>\n",
       "      <td>13</td>\n",
       "      <td>2021</td>\n",
       "      <td>4.5</td>\n",
       "      <td>9.6</td>\n",
       "    </tr>\n",
       "    <tr>\n",
       "      <th>212523</th>\n",
       "      <td>2</td>\n",
       "      <td>13</td>\n",
       "      <td>2021</td>\n",
       "      <td>5.9</td>\n",
       "      <td>9.7</td>\n",
       "    </tr>\n",
       "  </tbody>\n",
       "</table>\n",
       "<p>128030 rows × 5 columns</p>\n",
       "</div>"
      ],
      "text/plain": [
       "        estación  region_lab   AÑO  FOSFORO  CALCIO\n",
       "0              3          13  2018      5.5    10.9\n",
       "2              3          13  2018      4.1     9.6\n",
       "3              3          13  2018      4.3     9.6\n",
       "8              3          13  2018      3.9     9.9\n",
       "9              3          14  2018      5.0     9.6\n",
       "...          ...         ...   ...      ...     ...\n",
       "212516         2          13  2021      4.2     9.4\n",
       "212517         2          13  2021      3.4     9.0\n",
       "212518         2          13  2021      3.4     9.3\n",
       "212519         2          13  2021      4.5     9.6\n",
       "212523         2          13  2021      5.9     9.7\n",
       "\n",
       "[128030 rows x 5 columns]"
      ]
     },
     "execution_count": 50,
     "metadata": {},
     "output_type": "execute_result"
    }
   ],
   "source": [
    "X = data_LR.iloc[:,:-1]\n",
    "X"
   ]
  },
  {
   "cell_type": "code",
   "execution_count": 51,
   "metadata": {},
   "outputs": [
    {
     "data": {
      "text/plain": [
       "0         0\n",
       "2         0\n",
       "3         0\n",
       "8         1\n",
       "9         0\n",
       "         ..\n",
       "212516    0\n",
       "212517    0\n",
       "212518    0\n",
       "212519    1\n",
       "212523    0\n",
       "Name: resultado, Length: 128030, dtype: int64"
      ]
     },
     "execution_count": 51,
     "metadata": {},
     "output_type": "execute_result"
    }
   ],
   "source": [
    "y = data_LR.iloc[:, -1]\n",
    "y"
   ]
  },
  {
   "cell_type": "code",
   "execution_count": 52,
   "metadata": {},
   "outputs": [
    {
     "data": {
      "text/html": [
       "<div>\n",
       "<style scoped>\n",
       "    .dataframe tbody tr th:only-of-type {\n",
       "        vertical-align: middle;\n",
       "    }\n",
       "\n",
       "    .dataframe tbody tr th {\n",
       "        vertical-align: top;\n",
       "    }\n",
       "\n",
       "    .dataframe thead th {\n",
       "        text-align: right;\n",
       "    }\n",
       "</style>\n",
       "<table border=\"1\" class=\"dataframe\">\n",
       "  <thead>\n",
       "    <tr style=\"text-align: right;\">\n",
       "      <th></th>\n",
       "      <th>estación</th>\n",
       "      <th>region_lab</th>\n",
       "      <th>AÑO</th>\n",
       "      <th>FOSFORO</th>\n",
       "      <th>CALCIO</th>\n",
       "      <th>resultado</th>\n",
       "    </tr>\n",
       "  </thead>\n",
       "  <tbody>\n",
       "    <tr>\n",
       "      <th>0</th>\n",
       "      <td>3</td>\n",
       "      <td>13</td>\n",
       "      <td>2018</td>\n",
       "      <td>5.5</td>\n",
       "      <td>10.9</td>\n",
       "      <td>0</td>\n",
       "    </tr>\n",
       "    <tr>\n",
       "      <th>2</th>\n",
       "      <td>3</td>\n",
       "      <td>13</td>\n",
       "      <td>2018</td>\n",
       "      <td>4.1</td>\n",
       "      <td>9.6</td>\n",
       "      <td>0</td>\n",
       "    </tr>\n",
       "    <tr>\n",
       "      <th>3</th>\n",
       "      <td>3</td>\n",
       "      <td>13</td>\n",
       "      <td>2018</td>\n",
       "      <td>4.3</td>\n",
       "      <td>9.6</td>\n",
       "      <td>0</td>\n",
       "    </tr>\n",
       "    <tr>\n",
       "      <th>8</th>\n",
       "      <td>3</td>\n",
       "      <td>13</td>\n",
       "      <td>2018</td>\n",
       "      <td>3.9</td>\n",
       "      <td>9.9</td>\n",
       "      <td>1</td>\n",
       "    </tr>\n",
       "    <tr>\n",
       "      <th>9</th>\n",
       "      <td>3</td>\n",
       "      <td>14</td>\n",
       "      <td>2018</td>\n",
       "      <td>5.0</td>\n",
       "      <td>9.6</td>\n",
       "      <td>0</td>\n",
       "    </tr>\n",
       "    <tr>\n",
       "      <th>...</th>\n",
       "      <td>...</td>\n",
       "      <td>...</td>\n",
       "      <td>...</td>\n",
       "      <td>...</td>\n",
       "      <td>...</td>\n",
       "      <td>...</td>\n",
       "    </tr>\n",
       "    <tr>\n",
       "      <th>212516</th>\n",
       "      <td>2</td>\n",
       "      <td>13</td>\n",
       "      <td>2021</td>\n",
       "      <td>4.2</td>\n",
       "      <td>9.4</td>\n",
       "      <td>0</td>\n",
       "    </tr>\n",
       "    <tr>\n",
       "      <th>212517</th>\n",
       "      <td>2</td>\n",
       "      <td>13</td>\n",
       "      <td>2021</td>\n",
       "      <td>3.4</td>\n",
       "      <td>9.0</td>\n",
       "      <td>0</td>\n",
       "    </tr>\n",
       "    <tr>\n",
       "      <th>212518</th>\n",
       "      <td>2</td>\n",
       "      <td>13</td>\n",
       "      <td>2021</td>\n",
       "      <td>3.4</td>\n",
       "      <td>9.3</td>\n",
       "      <td>0</td>\n",
       "    </tr>\n",
       "    <tr>\n",
       "      <th>212519</th>\n",
       "      <td>2</td>\n",
       "      <td>13</td>\n",
       "      <td>2021</td>\n",
       "      <td>4.5</td>\n",
       "      <td>9.6</td>\n",
       "      <td>1</td>\n",
       "    </tr>\n",
       "    <tr>\n",
       "      <th>212523</th>\n",
       "      <td>2</td>\n",
       "      <td>13</td>\n",
       "      <td>2021</td>\n",
       "      <td>5.9</td>\n",
       "      <td>9.7</td>\n",
       "      <td>0</td>\n",
       "    </tr>\n",
       "  </tbody>\n",
       "</table>\n",
       "<p>128030 rows × 6 columns</p>\n",
       "</div>"
      ],
      "text/plain": [
       "        estación  region_lab   AÑO  FOSFORO  CALCIO  resultado\n",
       "0              3          13  2018      5.5    10.9          0\n",
       "2              3          13  2018      4.1     9.6          0\n",
       "3              3          13  2018      4.3     9.6          0\n",
       "8              3          13  2018      3.9     9.9          1\n",
       "9              3          14  2018      5.0     9.6          0\n",
       "...          ...         ...   ...      ...     ...        ...\n",
       "212516         2          13  2021      4.2     9.4          0\n",
       "212517         2          13  2021      3.4     9.0          0\n",
       "212518         2          13  2021      3.4     9.3          0\n",
       "212519         2          13  2021      4.5     9.6          1\n",
       "212523         2          13  2021      5.9     9.7          0\n",
       "\n",
       "[128030 rows x 6 columns]"
      ]
     },
     "execution_count": 52,
     "metadata": {},
     "output_type": "execute_result"
    }
   ],
   "source": [
    "df = X.join(y, how='outer')\n",
    "df"
   ]
  },
  {
   "cell_type": "code",
   "execution_count": 74,
   "metadata": {},
   "outputs": [
    {
     "data": {
      "text/plain": [
       "0    76408\n",
       "1    14422\n",
       "Name: resultado, dtype: int64"
      ]
     },
     "execution_count": 74,
     "metadata": {},
     "output_type": "execute_result"
    }
   ],
   "source": [
    "df2= df[df['region_lab']==13]\n",
    "df2['resultado'].value_counts()"
   ]
  },
  {
   "cell_type": "code",
   "execution_count": 53,
   "metadata": {},
   "outputs": [],
   "source": [
    "colors = {0:'Red', 1:'Blue'}\n",
    "type_colors = df.resultado.map(colors)"
   ]
  },
  {
   "cell_type": "code",
   "execution_count": 54,
   "metadata": {},
   "outputs": [
    {
     "data": {
      "image/png": "[encoded data removed]",
      "text/plain": [
       "<Figure size 864x576 with 1 Axes>"
      ]
     },
     "metadata": {
      "needs_background": "light"
     },
     "output_type": "display_data"
    }
   ],
   "source": [
    "fig, ax = plt.subplots(figsize=(12, 8))\n",
    "plt.xlabel('FOSFORO')\n",
    "plt.ylabel('CALCIO')\n",
    "ax.scatter(df.FOSFORO,df.CALCIO, color =type_colors)\n",
    "plt.show()"
   ]
  },
  {
   "cell_type": "markdown",
   "metadata": {},
   "source": [
    "### El gráfico muestra una leve inclinación de resultados Deseables (Blue) hacia niveles más altos de Fósforo y Calcio."
   ]
  },
  {
   "cell_type": "code",
   "execution_count": 98,
   "metadata": {},
   "outputs": [],
   "source": [
    "import sklearn\n",
    "from sklearn.metrics import accuracy_score\n",
    "from sklearn.model_selection import train_test_split\n",
    "from sklearn.model_selection import RepeatedStratifiedKFold\n",
    "from sklearn. model_selection import cross_val_score\n",
    "from sklearn. discriminant_analysis import LinearDiscriminantAnalysis\n",
    "from sklearn.linear_model import LogisticRegression\n",
    "from sklearn.metrics import confusion_matrix\n",
    "from sklearn.preprocessing import LabelEncoder\n",
    "from sklearn.datasets import make_classification\n",
    "from sklearn.preprocessing import normalize\n",
    "from sklearn.metrics import classification_report"
   ]
  },
  {
   "cell_type": "code",
   "execution_count": 56,
   "metadata": {},
   "outputs": [],
   "source": [
    "Insuficiente = df.resultado == 0\n",
    "Deseable = df.resultado == 1"
   ]
  },
  {
   "cell_type": "code",
   "execution_count": 57,
   "metadata": {},
   "outputs": [
    {
     "name": "stdout",
     "output_type": "stream",
     "text": [
      "108855\n",
      "19175\n",
      "128030\n"
     ]
    }
   ],
   "source": [
    "print(Insuficiente.sum())\n",
    "print(Deseable.sum())\n",
    "print(len(Insuficiente))"
   ]
  },
  {
   "cell_type": "code",
   "execution_count": 79,
   "metadata": {},
   "outputs": [],
   "source": [
    "X_train, X_test, y_train, y_test = train_test_split(\n",
    "    X, y, test_size=0.4, random_state=4)\n"
   ]
  },
  {
   "cell_type": "code",
   "execution_count": 80,
   "metadata": {},
   "outputs": [],
   "source": [
    "clf_0 = LogisticRegression(random_state=0).fit(X_train, y_train)\n",
    "#clf_1 = LogisticRegression(random_state=0).fit(X_train_1, y_train_1)"
   ]
  },
  {
   "cell_type": "code",
   "execution_count": 81,
   "metadata": {},
   "outputs": [],
   "source": [
    "predicts_logC0 = clf_0.predict(X_test)\n",
    "#predicts_logC1 = clf_1.predict(X_test_1)"
   ]
  },
  {
   "cell_type": "code",
   "execution_count": 82,
   "metadata": {},
   "outputs": [
    {
     "data": {
      "text/plain": [
       "array([[0.85302554, 0.14697446],\n",
       "       [0.79921913, 0.20078087],\n",
       "       [0.93342955, 0.06657045],\n",
       "       ...,\n",
       "       [0.76586035, 0.23413965],\n",
       "       [0.84545039, 0.15454961],\n",
       "       [0.88336557, 0.11663443]])"
      ]
     },
     "execution_count": 82,
     "metadata": {},
     "output_type": "execute_result"
    }
   ],
   "source": [
    "clf_0.predict_proba(X_test)"
   ]
  },
  {
   "cell_type": "code",
   "execution_count": 83,
   "metadata": {},
   "outputs": [
    {
     "name": "stdout",
     "output_type": "stream",
     "text": [
      "Matriz de confusión modelo logístico pertenece o no a la clase 0\n",
      "[[43494  7717]\n",
      " [    1     0]]\n"
     ]
    }
   ],
   "source": [
    "print('Matriz de confusión modelo logístico pertenece o no a la clase 0')\n",
    "print(confusion_matrix(predicts_logC0,y_test))\n",
    "#print('Matriz de confusión modelo logístico pertenece o no a la clase 1')\n",
    "#print(confusion_matrix(predicts_logC1,y_test_1))"
   ]
  },
  {
   "cell_type": "code",
   "execution_count": 84,
   "metadata": {},
   "outputs": [],
   "source": [
    "from sklearn import metrics"
   ]
  },
  {
   "cell_type": "code",
   "execution_count": 110,
   "metadata": {},
   "outputs": [
    {
     "data": {
      "text/plain": [
       "0.8492931344216199"
      ]
     },
     "execution_count": 110,
     "metadata": {},
     "output_type": "execute_result"
    }
   ],
   "source": [
    "accuracy_score(y_test, predicts_logC0)"
   ]
  },
  {
   "cell_type": "code",
   "execution_count": 111,
   "metadata": {},
   "outputs": [],
   "source": [
    "#metrics.roc_auc_score(y_test, predicts_logC0)"
   ]
  },
  {
   "cell_type": "code",
   "execution_count": 108,
   "metadata": {},
   "outputs": [
    {
     "data": {
      "text/plain": [
       "array([[0.622, 0.378]])"
      ]
     },
     "execution_count": 108,
     "metadata": {},
     "output_type": "execute_result"
    }
   ],
   "source": [
    "clf_0.predict_proba([[3,13,2018,5.5,10.9]])"
   ]
  },
  {
   "cell_type": "code",
   "execution_count": 100,
   "metadata": {},
   "outputs": [],
   "source": [
    "from sklearn.preprocessing import LabelEncoder\n",
    "from sklearn.model_selection import train_test_split\n",
    "from sklearn.discriminant_analysis import LinearDiscriminantAnalysis\n",
    "from sklearn.linear_model import LogisticRegression\n",
    "from sklearn.model_selection import KFold\n",
    "from sklearn.model_selection import cross_val_score\n",
    "from sklearn.metrics import classification_report\n",
    "from sklearn.metrics import confusion_matrix\n",
    "from sklearn.metrics import accuracy_score\n",
    "from sklearn.model_selection import learning_curve \n",
    "from sklearn.preprocessing import normalize\n",
    "from sklearn import datasets\n",
    "\n",
    "# import warnings filter\n",
    "import warnings\n",
    "warnings.filterwarnings('ignore')\n",
    "np.set_printoptions(precision=4)"
   ]
  },
  {
   "cell_type": "code",
   "execution_count": 105,
   "metadata": {},
   "outputs": [
    {
     "name": "stdout",
     "output_type": "stream",
     "text": [
      "Logistic Regression - benign : \n",
      "\n",
      "cross validation score :  [0.8508 0.8508 0.8508 0.8508 0.8508 0.8508 0.8507 0.8508 0.8509 0.8509]\n",
      "Average score :  0.8508292353779844\n",
      "\n",
      "Classification Report\n",
      "              precision    recall  f1-score   support\n",
      "\n",
      "           0       0.85      1.00      0.92     43495\n",
      "           1       0.00      0.00      0.00      7717\n",
      "\n",
      "    accuracy                           0.85     51212\n",
      "   macro avg       0.42      0.50      0.46     51212\n",
      "weighted avg       0.72      0.85      0.78     51212\n",
      "\n",
      "Confusion Matrix\n"
     ]
    },
    {
     "data": {
      "image/png": "[encoded data removed]",
      "text/plain": [
       "<Figure size 432x288 with 2 Axes>"
      ]
     },
     "metadata": {
      "needs_background": "light"
     },
     "output_type": "display_data"
    },
    {
     "data": {
      "image/png": "[encoded data removed]",
      "text/plain": [
       "<Figure size 648x432 with 1 Axes>"
      ]
     },
     "metadata": {
      "needs_background": "light"
     },
     "output_type": "display_data"
    },
    {
     "name": "stdout",
     "output_type": "stream",
     "text": [
      "Logistic Regression - benign - Accuracy model : 84.93%\n",
      "Logistic Regression - benign - Accuracy training set: 85.08%\n",
      "Logistic Regression - benign - Accuracy test set: 84.93%\n"
     ]
    }
   ],
   "source": [
    "def plot_learning_curve(estimator, title, X, y, ylim=None, cv=None,\n",
    "                        n_jobs=1, train_sizes=np.linspace(.6, 1.0, 5)):\n",
    "\n",
    "    plt.figure(figsize=(9, 6))\n",
    "    plt.title(title)\n",
    "    if ylim is not None:\n",
    "        plt.ylim(*ylim)\n",
    "    plt.xlabel(\"Training\")\n",
    "    plt.ylabel(\"Score\")\n",
    "    train_sizes, train_scores, test_scores = learning_curve(\n",
    "        estimator, X, y, cv=cv, n_jobs=n_jobs, train_sizes=train_sizes)\n",
    "    train_scores_mean = np.mean(train_scores, axis=1)\n",
    "    train_scores_std = np.std(train_scores, axis=1)\n",
    "    test_scores_mean = np.mean(test_scores, axis=1)\n",
    "    test_scores_std = np.std(test_scores, axis=1)\n",
    "    plt.grid()\n",
    "\n",
    "    plt.fill_between(train_sizes, train_scores_mean - train_scores_std,\n",
    "                     train_scores_mean + train_scores_std, alpha=0.1,\n",
    "                     color=\"r\")\n",
    "    plt.fill_between(train_sizes, test_scores_mean - test_scores_std,\n",
    "                     test_scores_mean + test_scores_std, alpha=0.1, color=\"g\")\n",
    "    plt.plot(train_sizes, train_scores_mean, 'o-', color=\"r\",\n",
    "             label=\"Training score\")\n",
    "    plt.plot(train_sizes, test_scores_mean, 'o-', color=\"g\",\n",
    "             label=\"Cross-validation score\")\n",
    "\n",
    "    plt.legend(loc=\"best\")\n",
    "    \n",
    "    \n",
    "    plt.show()\n",
    "\n",
    "\n",
    "# Se define función general para trabajar con los modelo\n",
    "def modelo(seed,size,tipo_modelo,txt_model,x,y,x_lim,y_lim):\n",
    "  seed = seed\n",
    "  scoring = 'accuracy'\n",
    "\n",
    "  X_train, X_test, Y_train, Y_test = train_test_split(x, y, test_size=size, random_state=seed)\n",
    "\n",
    "  score = cross_val_score(tipo_modelo,X_train,Y_train,cv=10)\n",
    "\n",
    "  print(txt_model + ' : \\n')\n",
    "\n",
    "  print('cross validation score : ',score)\n",
    "  print('Average score : ',np.average(score))\n",
    "\n",
    "  model = tipo_modelo\n",
    "  \n",
    "  model.fit(X_train, Y_train)\n",
    "  predictions = model.predict(X_test)\n",
    "  accuracy = accuracy_score(Y_test, predictions)\n",
    "  \n",
    "  print(\"\\nClassification Report\")\n",
    "  print(classification_report(Y_test, predictions))\n",
    "\n",
    "  print(\"Confusion Matrix\")\n",
    "  mat = confusion_matrix(Y_test, predictions)\n",
    "  sns.heatmap(mat.T, square=True, annot=True, fmt='d', cbar=True,\n",
    "  cmap=\"YlGnBu\",vmin=3,vmax=8)\n",
    "  plt.xlabel('true values-' + txt_model)\n",
    "  plt.ylabel('predicted values-' + txt_model)\n",
    "  plt.show()      \n",
    "  plot_learning_curve(model, \n",
    "                        \"{}\".format(txt_model),\n",
    "                        X_train,\n",
    "                        Y_train,\n",
    "                        ylim=(x_lim,y_lim),\n",
    "                        cv=10) \n",
    "\n",
    "  print(txt_model + ' - Accuracy model : {:.2f}%'.format(accuracy*100))\n",
    "  print(txt_model + ' - Accuracy training set: {:.2f}%'\n",
    "     .format(model.score(X_train, Y_train)*100))\n",
    "  print(txt_model + ' - Accuracy test set: {:.2f}%'\n",
    "     .format(model.score(X_test, Y_test)*100))\n",
    "\n",
    "  return model \n",
    "#m_gr = modelo(0,0.35,LinearDiscriminantAnalysis(),\"Linear Discriminant Analysis\",X,y,0.6,0.9) \n",
    "b_rl = modelo(4,0.4,LogisticRegression(),\"Logistic Regression - benign\",X,y,0.3,1)"
   ]
  },
  {
   "cell_type": "code",
   "execution_count": 106,
   "metadata": {},
   "outputs": [
    {
     "name": "stdout",
     "output_type": "stream",
     "text": [
      "La predicción del modelo es : [0]\n",
      "La probabilidad del modelo que sea 0 es : 62.2%\n",
      "La probabilidad del modelo que sea 1 es : 37.8%\n"
     ]
    }
   ],
   "source": [
    "r = [3,13,2018,5.5,10.9]\n",
    "print(f'La predicción del modelo es : {b_rl.predict([r])}')\n",
    "Px=b_rl.predict_proba([r])[0][0]\n",
    "Py=b_rl.predict_proba([r])[0][1]\n",
    "print(f'La probabilidad del modelo que sea 0 es : {round(Px*100,2)}%')\n",
    "print(f'La probabilidad del modelo que sea 1 es : {round(Py*100,2)}%') "
   ]
  }
 ],
 "metadata": {
  "colab": {
   "provenance": []
  },
  "kernelspec": {
   "display_name": "Python 3",
   "language": "python",
   "name": "python3"
  },
  "language_info": {
   "codemirror_mode": {
    "name": "ipython",
    "version": 3
   },
   "file_extension": ".py",
   "mimetype": "text/x-python",
   "name": "python",
   "nbconvert_exporter": "python",
   "pygments_lexer": "ipython3",
   "version": "3.8.8"
  },
  "vscode": {
   "interpreter": {
    "hash": "476a13b78396884429a9e59bf86822666fa5c313319458a9e6e955588e8d0531"
   }
  }
 },
 "nbformat": 4,
 "nbformat_minor": 1
}
