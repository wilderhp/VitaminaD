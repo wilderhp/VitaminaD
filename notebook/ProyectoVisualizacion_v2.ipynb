{
 "cells": [
  {
   "cell_type": "markdown",
   "metadata": {},
   "source": [
    "## Trabajo Visualización de datos UDD:\n",
    "\n",
    "Objetivos:\n",
    "\n",
    "\n",
    "Alumnos:\n",
    "\n",
    "| Alumno | Email |\n",
    "|--------|-------|\n",
    "|Carolina Hoffman | chofmman@udd.cl |\n",
    "|Wilder Prado     | wilderhp@gmail.com |\n",
    "|Effry Vigorena   | effryvg@gmail.com |\n",
    "|Felipe Guzmán    | felipeguzmanv@gmail.com|\n",
    "\n",
    "\n",
    "\n"
   ]
  },
  {
   "cell_type": "code",
   "execution_count": 143,
   "metadata": {},
   "outputs": [],
   "source": [
    "## Librerias\n",
    "\n",
    "import numpy as np\n",
    "import pandas as pd\n",
    "#import geopandas as gpd\n",
    "\n",
    "import seaborn as sns\n",
    "import matplotlib.pyplot as plt\n",
    "from matplotlib.offsetbox import (OffsetImage, AnnotationBbox)\n",
    "from matplotlib.patches import ConnectionPatch\n",
    "from matplotlib.text import OffsetFrom\n",
    "import matplotlib.image as image\n",
    "\n",
    "\n",
    "\n",
    "import plotly as px\n",
    "import plotly.graph_objs as go\n",
    "import plotly.express as px\n",
    "import ipywidgets as widgets\n",
    "from plotly.subplots import make_subplots\n",
    "\n",
    "\n",
    "import warnings\n",
    "warnings.filterwarnings('ignore')\n",
    "\n",
    "\n"
   ]
  },
  {
   "cell_type": "code",
   "execution_count": 144,
   "metadata": {},
   "outputs": [],
   "source": [
    "## Data a utilizar\n",
    "\n",
    "'''\n",
    "Archivos de mapa (shape)\n",
    "'''\n",
    "#chile_pol = gpd.read_file('../shape_chile/chile_pol_join_8_16.shp')\n",
    "'''\n",
    "Archivos de Vitamina D\n",
    "'''\n",
    "#data = pd.read_csv(\"DATOS ADD_VISUALIZACION.CSV\", decimal=',')\n",
    "data = pd.read_csv(\"https://raw.githubusercontent.com/wilderhp/VitaminaD/main/Vitamina_D_Visualizacion_26092022.csv\",sep=';', decimal=',')\n",
    "#datahttps://raw.githubusercontent.com/wilderhp/VitaminaD/main/Vitamina_D_Visualizacion_26092022.csv\n",
    "\n"
   ]
  },
  {
   "cell_type": "markdown",
   "metadata": {},
   "source": [
    "I. Visualización de mapa"
   ]
  },
  {
   "cell_type": "code",
   "execution_count": 145,
   "metadata": {},
   "outputs": [],
   "source": [
    "# Colores a ocupar en Macrozonas:\n",
    "color=['#C62828', '#C62828', '#283593', '#FF9800', '#283593', '#C62828', '#283593',]\n",
    "# colores Anios\n",
    "color_anios = ['#CFD8DC','#419D57','#FBC599','#FF3333']"
   ]
  },
  {
   "cell_type": "code",
   "execution_count": 146,
   "metadata": {},
   "outputs": [],
   "source": [
    "## orden de norte a sur\n",
    "index_=[15,1,2,3,4,5,13,6,7,8,9,14,10]"
   ]
  },
  {
   "cell_type": "code",
   "execution_count": 147,
   "metadata": {},
   "outputs": [
    {
     "ename": "NameError",
     "evalue": "name 'chile_pol' is not defined",
     "output_type": "error",
     "traceback": [
      "\u001b[1;31m---------------------------------------------------------------------------\u001b[0m",
      "\u001b[1;31mNameError\u001b[0m                                 Traceback (most recent call last)",
      "\u001b[1;32mc:\\Users\\E574514\\Downloads\\ProyectoVisualizacion_v2.ipynb Cell 7\u001b[0m in \u001b[0;36m<cell line: 3>\u001b[1;34m()\u001b[0m\n\u001b[0;32m      <a href='vscode-notebook-cell:/c%3A/Users/E574514/Downloads/ProyectoVisualizacion_v2.ipynb#W6sZmlsZQ%3D%3D?line=0'>1</a>\u001b[0m \u001b[39m## Limpieza de datos mapa\u001b[39;00m\n\u001b[0;32m      <a href='vscode-notebook-cell:/c%3A/Users/E574514/Downloads/ProyectoVisualizacion_v2.ipynb#W6sZmlsZQ%3D%3D?line=1'>2</a>\u001b[0m \u001b[39m## Rotación del mapa\u001b[39;00m\n\u001b[1;32m----> <a href='vscode-notebook-cell:/c%3A/Users/E574514/Downloads/ProyectoVisualizacion_v2.ipynb#W6sZmlsZQ%3D%3D?line=2'>3</a>\u001b[0m center \u001b[39m=\u001b[39m chile_pol[\u001b[39m\"\u001b[39m\u001b[39mgeometry\u001b[39m\u001b[39m\"\u001b[39m]\u001b[39m.\u001b[39miloc[\u001b[39m0\u001b[39m]\u001b[39m.\u001b[39mcentroid\n\u001b[0;32m      <a href='vscode-notebook-cell:/c%3A/Users/E574514/Downloads/ProyectoVisualizacion_v2.ipynb#W6sZmlsZQ%3D%3D?line=3'>4</a>\u001b[0m chile_pol\u001b[39m.\u001b[39mgeometry \u001b[39m=\u001b[39m chile_pol\u001b[39m.\u001b[39mrotate(\u001b[39m96\u001b[39m, origin\u001b[39m=\u001b[39mcenter)\n\u001b[0;32m      <a href='vscode-notebook-cell:/c%3A/Users/E574514/Downloads/ProyectoVisualizacion_v2.ipynb#W6sZmlsZQ%3D%3D?line=4'>5</a>\u001b[0m chile_pol[\u001b[39m'\u001b[39m\u001b[39mcentroide\u001b[39m\u001b[39m'\u001b[39m] \u001b[39m=\u001b[39m chile_pol\u001b[39m.\u001b[39mgeometry\u001b[39m.\u001b[39mcentroid\n",
      "\u001b[1;31mNameError\u001b[0m: name 'chile_pol' is not defined"
     ]
    }
   ],
   "source": [
    "## Limpieza de datos mapa\n",
    "## Rotación del mapa\n",
    "center = chile_pol[\"geometry\"].iloc[0].centroid\n",
    "chile_pol.geometry = chile_pol.rotate(96, origin=center)\n",
    "chile_pol['centroide'] = chile_pol.geometry.centroid\n",
    "chile_pol['X']= chile_pol.centroide.x\n",
    "chile_pol['Y']= chile_pol.centroide.y\n",
    "\n",
    "## Asignación de colores mapa\n",
    "\n",
    "chile_pol['color'] = chile_pol.MacroZona.map(lambda x: color[x-1])\n",
    "## Orden de norte a sur\n",
    "chile_pol.codreg=chile_pol.codreg.astype(int)\n",
    "\n",
    "# chile_pol.head(2)"
   ]
  },
  {
   "cell_type": "code",
   "execution_count": null,
   "metadata": {},
   "outputs": [],
   "source": [
    "## Preparación de data para grafico de tendencia\n",
    "\n",
    "nombres = {\n",
    "   ' SANTIAGO': 'Región Metropolitana de Santiago',\n",
    "   ' LA SERENA':'Región de Coquimbo',\n",
    "   ' VALDIVIA': 'Región de Los Ríos',\n",
    "   ' ANTOFAGASTA': 'Región de Antofagasta',\n",
    "   ' PUERTO MONTT': 'Región de Los Lagos',\n",
    "   ' ILLAPEL':'Región de Coquimbo',\n",
    "   ' RANCAGUA':\"Región del Libertador General Bernardo O'Higgins\",\n",
    "   ' CONCEPCION': 'Región del Biobío',\n",
    "   ' OVALLE':'Región de Coquimbo',\n",
    "   ' LOS ANDES': 'Región de Valparaíso',\n",
    "   ' VIÑA DEL MAR':'Región de Valparaíso',\n",
    "   ' VALLENAR':'Región de Atacama',\n",
    "   ' TEMUCO':'Región de La Araucanía',\n",
    "   ' COPIAPO':'Región de Atacama',\n",
    "   ' ARICA':'Región de Arica y Parinacota',\n",
    "   ' CALAMA':'Región de Antofagasta', \n",
    "   ' IQUIQUE':'Región de Tarapacá',\n",
    "   'TALCA': 'Región del Maule'\n",
    "}\n",
    "codigos = {\n",
    "   ' SANTIAGO': 13,\n",
    "   ' LA SERENA':4,\n",
    "   ' VALDIVIA': 14,\n",
    "   ' ANTOFAGASTA': 2,\n",
    "   ' PUERTO MONTT': 10,\n",
    "   ' ILLAPEL':4,\n",
    "   ' RANCAGUA':6,\n",
    "   ' CONCEPCION': 8,\n",
    "   ' OVALLE':4,\n",
    "   ' LOS ANDES': 5,\n",
    "   ' VIÑA DEL MAR':5,\n",
    "   ' VALLENAR':3,\n",
    "   ' TEMUCO':9,\n",
    "   ' COPIAPO':3,\n",
    "   ' ARICA':15,\n",
    "   ' CALAMA':2, \n",
    "   ' IQUIQUE':1,\n",
    "   'TALCA': 7\n",
    "}\n",
    "data_ = data\n",
    "data_['nom_reg'] = data_.LABORATORIO.map(lambda x: nombres.get(x))\n",
    "data_['cod_reg'] = data_.LABORATORIO.map(lambda x: codigos.get(x))\n",
    "\n",
    "data__ = data_.pivot_table(index='nom_reg',columns='Año', values='VITAMINA D', aggfunc={'VITAMINA D':np.mean}).reset_index().set_index('nom_reg')\n",
    "data__ = pd.merge(data__, chile_pol[['nom_reg','codreg','X']], how='left', left_on='nom_reg', right_on='nom_reg')\n",
    "data__=data__.set_index('codreg')\n",
    "data__=data__.loc[index_,:]\n",
    "\n",
    "\n",
    "data_plot =data__[['X',2018,2019,2020,2021]].set_index('X').unstack().reset_index().rename(columns={'level_0':'Año',0:'Promedio'})\n",
    "data_plot = pd.merge(\n",
    "    left = data_plot,\n",
    "    right = chile_pol[['X','Y']],\n",
    "    left_on = 'X',\n",
    "    right_on= 'X',\n",
    "    how='left'\n",
    ")\n",
    "\n",
    "temperaturas = pd.read_csv('../shape_chile/temperatura/mediaxregion.csv', names = [\n",
    " 'Año',\n",
    " 'estaciones',\n",
    " 'promedio_temp'\n",
    "  ], skiprows=1)\n",
    "\n",
    "temperaturas = temperaturas.reset_index()\n",
    "data_plot = data_plot.reset_index()\n",
    "data_plot = pd.merge(\n",
    "    left= data_plot,\n",
    "    right = temperaturas, \n",
    "    left_on = 'index',\n",
    "    right_on = 'index',\n",
    "    how='left'\n",
    ")\n",
    "data_plot = data_plot[['Año_x', 'X', 'Promedio', 'Y', 'promedio_temp']]\n",
    "data_plot = data_plot.rename(columns={\n",
    "\n",
    "    'Año_x' : 'Año'\n",
    "    \n",
    "})\n",
    "data_plot = pd.merge(\n",
    "    left= data_plot,\n",
    "    right= chile_pol[['nom_reg', 'X', 'codreg']],\n",
    "    left_on = 'X',\n",
    "    right_on = 'X'\n",
    ")\n",
    "temperaturas_prom = data_plot[['codreg', 'promedio_temp']].groupby(by=['codreg']).agg('mean','promedio_temp').reset_index()\n",
    "temperaturas_prom = temperaturas_prom.set_index('codreg')\n",
    "# temperaturas_prom = temperaturas_prom.set_index('codreg')\n",
    "temperaturas_prom = temperaturas_prom.loc[index_,:].reset_index()\n",
    "\n",
    "## calculo de los promedios de vitamina D\n",
    "vitamina_d_promedio_reg = data_plot[['codreg','Promedio']].groupby(by='codreg').agg('mean','Promedio').to_dict()\n",
    "chile_pol['promedio_vitamina_d'] = chile_pol.codreg.map(lambda x: vitamina_d_promedio_reg['Promedio'].get(x))\n",
    "\n",
    "def clasificacion(x):\n",
    "    val=''\n",
    "    if (x > 0 and x < 19.95): val='#ffffd4'\n",
    "    elif (x>=19.95 and x< 20.26): val = '#fed98e' \n",
    "    elif (x>=20.26 and x<21.32): val = '#fe9929' \n",
    "    elif (x>=21.32 and x<22.29): val = '#d95f0e'\n",
    "    elif (x>=22.29 and x<=24): val = '#993404'\n",
    "    return val\n",
    "chile_pol['categorias']= chile_pol.promedio_vitamina_d.map(lambda x: clasificacion(x))\n",
    "\n",
    "# chile_pol.loc[chile_pol['codreg']==16, 'categorias'] ='#ffffd4'\n",
    "chile_pol.loc[chile_pol['codreg']==12, 'categorias'] ='#EEEEEE'\n",
    "chile_pol.loc[chile_pol['codreg']==11, 'categorias'] ='#EEEEEE'\n",
    "\n",
    "romanos_reg = {\n",
    "    8:'VIII',\n",
    "    1: 'I',\n",
    "    2: 'II',\n",
    "    3: 'III',\n",
    "    4: 'IV',\n",
    "    5: 'V',\n",
    "    6: 'VI',\n",
    "    7: 'VII',\n",
    "    9: 'XIV',\n",
    "    10: 'X',\n",
    "    11: 'XI',\n",
    "    12: 'XII',\n",
    "    13: 'XIII',\n",
    "    14: 'XIV',\n",
    "    15: 'XV'\n",
    "}\n",
    "\n",
    "data_plot['romanos'] = data_plot.codreg.map(lambda x: romanos_reg.get(x))"
   ]
  },
  {
   "cell_type": "code",
   "execution_count": null,
   "metadata": {},
   "outputs": [],
   "source": [
    "image_ = image.imread('../shape_chile/sol.png')\n",
    "imagebox = OffsetImage(image_, zoom = 0.05)\n",
    "fig, ax = plt.subplots(2,1, figsize=(25,18), sharex='all', gridspec_kw={'hspace': -.4})\n",
    "\n",
    "ax[0]=sns.lineplot(\n",
    "    data= data_plot,\n",
    "    x='X',\n",
    "    y='Promedio',\n",
    "    hue='Año',\n",
    "    ax=ax[0],\n",
    "    markers=True,\n",
    "    dashes=False,\n",
    "    style='Año',\n",
    "    palette=color_anios,\n",
    "    legend=False,\n",
    "\n",
    "    \n",
    ")\n",
    "ax[0].set_title(\"Vitamina D en años pre y durante pandemia covid\", fontsize=16)\n",
    "ax[0].spines['left'].set_visible(False)\n",
    "ax[0].spines['top'].set_visible(False)\n",
    "ax[0].spines['right'].set_visible(False)\n",
    "ax[0].spines['bottom'].set_visible(False)\n",
    "ax[0].set(ylabel=None)\n",
    "ax[0].set(xlabel=None)\n",
    "# x_min, x_max = ax[0].get_xlim()\n",
    "# ax[0].set_xlim(x_min,x_max+4)\n",
    "\n",
    "\n",
    "\n",
    "\n",
    "# chile_pol[~chile_pol['codreg'].isin([12,11])].plot(column='MacroZona', \n",
    "chile_pol.plot(\n",
    "    column='promedio_vitamina_d', \n",
    "    #categorical=True,\n",
    "    ax=ax[1],\n",
    "    # color=chile_pol[~chile_pol['codreg'].isin([12,11])]['categorias'],    \n",
    "    color=chile_pol['categorias'],    \n",
    "    # column='promedio_vitamina_d',\n",
    "    # scheme = 'Fisher_Jenks',\n",
    "    # k=5,\n",
    "     # scheme='Fisher_Jenks',\n",
    "    # cmap='Oranges_r',\n",
    "    legend=True\n",
    "   \n",
    "\n",
    ")\n",
    "\n",
    "\n",
    "\n",
    "ax[0].set_ylim(15,27)\n",
    "y_limin,ylimax= ax[1].get_ylim()\n",
    "# ax[1].set_ylim(y_limin-1,ylimax)\n",
    "\n",
    "label_anios = data_plot.loc[data_plot.codreg==10,['Año','codreg','Promedio','X','Y']].reset_index()\n",
    "for i in range(len(label_anios)):\n",
    "    # print((label_anios.loc[i,'X'],label_anios.loc[i,'Promedio']))\n",
    "    bbox_props = dict(boxstyle=\"round\", fc=\"w\", ec=\"0.5\", alpha=0.9)\n",
    "   \n",
    "    if label_anios.loc[i,'Año']==2018:\n",
    "        ax[0].text(label_anios.loc[i,'X']+49000,label_anios.loc[i,'Promedio']-.5, str(label_anios.loc[i,'Año']), ha=\"center\", va=\"center\", size=12,\n",
    "        bbox=bbox_props)\n",
    "    else:\n",
    "        ax[0].text(label_anios.loc[i,'X']+99000,label_anios.loc[i,'Promedio'], str(label_anios.loc[i,'Año']), ha=\"center\", va=\"center\", size=12,\n",
    "        bbox=bbox_props)\n",
    "\n",
    "anio_ = 2019\n",
    "for xpy in zip(data_plot[data_plot['Año']==anio_]['X'],data_plot[data_plot['Año']==anio_]['Promedio'],data_plot[data_plot['Año']==anio_]['Y'],temperaturas_prom['promedio_temp'],data_plot[data_plot['Año']==anio_]['romanos']):\n",
    "    # print(xpy[0], xpy[0]-1000)\n",
    "    ax[0].plot(xpy[0],xpy[1],'ro',markersize=.5)   \n",
    "    # ax[1].plot(xpy[0],xpy[2],'ro',markersize=8)   \n",
    "    ax[1].text(xpy[0],xpy[2],s=xpy[4], size=12, color='#39311d', bbox=bbox_props)#, fontweight='bold', )\n",
    "    ax[1].text((xpy[0]-29999),5545389.992777139,s=f'{xpy[3]:.1f}°C', rotation=90)\n",
    "    #ax[1].text((xpy[0]-29999),6632454.265839104,s=f'{xpy[3]:.1f}°C', rotation=45)\n",
    "    ab = AnnotationBbox(imagebox, (xpy[0], 5706728.349250345), frameon = False)\n",
    "    ax[1].add_artist(ab)\n",
    "    # print(xpy[2]-399999)\n",
    "    # ax[1].text(xpy[0],xpy[2]-299999, s='AAAAA')\n",
    "    \n",
    "    con = ConnectionPatch(xyA=(xpy[0],xpy[1]), xyB=(xpy[0],xpy[2]), coordsA=\"data\", coordsB=\"data\",\n",
    "          axesA=ax[0], axesB=ax[1], color=\"#E5C3C3\", linestyle=(0, (5, 10)))\n",
    "    ax[1].add_artist(con)  \n",
    "    # print(i)\n",
    "\n",
    "\n",
    "# ax[0].set(xlabel=)\n",
    "# ax[0].get_xaxis().set_visible(True)\n",
    "ax[1].spines['left'].set_visible(False)\n",
    "ax[1].spines['top'].set_visible(False)\n",
    "ax[1].spines['right'].set_visible(False)\n",
    "ax[1].spines['bottom'].set_visible(False)\n",
    "\n",
    "ax[0].get_xaxis().set_visible(False)\n",
    "ax[1].get_xaxis().set_visible(False)\n",
    "ax[1].get_yaxis().set_visible(False)\n",
    "\n",
    "# ax[1].get_yaxis().set_visible(True)\n",
    "# ax[1].axis('off')\n",
    "# ax[0].axis('on')sol\n",
    "\n",
    "ax[0].grid(axis='y', color='#ECECEC')\n",
    "\n",
    "# leg = ax[1].get_legend()\n",
    "# print(leg)\n",
    "# leg.set_bbox_to_anchor((1., 0.45, 0.2, 0.2))\n",
    "# ax.set_axis_off()\n",
    "# plt.tight_layout()\n",
    "plt.show()"
   ]
  },
  {
   "cell_type": "markdown",
   "metadata": {},
   "source": [
    "II. Visualización sunburst"
   ]
  },
  {
   "cell_type": "code",
   "execution_count": 465,
   "metadata": {},
   "outputs": [],
   "source": [
    "## Funciones a ocupar\n",
    "def agregar_proporcion(grupo):    \n",
    "    grupo[\"PROP\"] = grupo['VITAMINA D'] / grupo['VITAMINA D'].sum()\n",
    "    return grupo\n",
    "    \n",
    "def condicion(x):\n",
    "    x=int(x)\n",
    "    if x<30:\n",
    "        return \"Deficiente\"\n",
    "    else:\n",
    "        return \"Deseable\"\n",
    "\n",
    "\n",
    "def update_treemap(tipo,zona):\n",
    "  global df_filter  \n",
    " \n",
    "  if zona !=\"ALL\":\n",
    "    df = df_filter.query(f\"MACROZONA == '{zona.upper()}'\")\n",
    "  else:\n",
    "    df = df_filter\n",
    "    \n",
    "  if tipo ==\"MEAN\":\n",
    "    val='VITAMINA_D_AVG'\n",
    "    txt=\"GRAFICO TREEMAP - MEAN VITAMINA D\"\n",
    "  else:\n",
    "    val='VITAMINA_D_TOT'\n",
    "    txt=\"GRAFICO TREEMAP - SIZE VITAMINA D\"\n",
    "  \n",
    "  \n",
    "\n",
    "  fig = px.treemap(df, values=val,path = [px.Constant(txt),'AÑO','MACROZONA','ESTACIONES_AÑO','VIT_D_TXT'],\n",
    "                color='VIT_D_TXT', \n",
    "                color_discrete_map={'Deficiente':'#ce281f',\n",
    "                                     'Deseable':'#8eef44'}                \n",
    "                 )\n",
    "  cm = {txt:\"#f2f6fa\"}\n",
    "\n",
    "  fig.for_each_trace(\n",
    "    lambda t: t.update(\n",
    "        marker_colors=[\n",
    "            cm[id.split(\"/\")[0]] if len(id.split(\"/\")) == 1 else c\n",
    "            for c, id in zip(t.marker.colors, t.ids)\n",
    "          ]        \n",
    "      )\n",
    "    )\n",
    "  \n",
    "  cm = {\n",
    "    \"2018\":\"#ec722e\",\n",
    "    \"2019\":\"#7dc343\",\n",
    "    \"2020\":\"#64a2d8\",\n",
    "    \"2021\":\"#eed842\"\n",
    "  }\n",
    "\n",
    "  fig.for_each_trace(\n",
    "    lambda t: t.update(\n",
    "        marker_colors=[\n",
    "            cm[id.split(\"/\")[1]] if len(id.split(\"/\")) == 2 else c\n",
    "            for c, id in zip(t.marker.colors, t.ids)\n",
    "          ]        \n",
    "      )\n",
    "    )\n",
    "\n",
    "  cm = {\n",
    "    \"NORTE\": \"#e6dc77\",\n",
    "    \"CENTRO\": \"#b8d6b1\",\n",
    "    \"SUR\": \"#64aee5\"\n",
    "  }\n",
    "\n",
    "  fig.for_each_trace(\n",
    "    lambda t: t.update(\n",
    "        marker_colors=[\n",
    "            cm[id.split(\"/\")[2]] if len(id.split(\"/\")) == 3 else c\n",
    "            for c, id in zip(t.marker.colors, t.ids)\n",
    "          ]        \n",
    "      )\n",
    "    )\n",
    "\n",
    "  cm = {\n",
    "    \"PRIMAVERA\": \"Green\",\n",
    "    \"VERANO\": \"#F5761A\",\n",
    "    \"OTOÑO\": \"Brown\",\n",
    "    \"INVIERNO\": \"#6082B6\"\n",
    "  }\n",
    "  fig.for_each_trace(\n",
    "    lambda t: t.update(\n",
    "        marker_colors=[\n",
    "            cm[id.split(\"/\")[3]] if len(id.split(\"/\")) == 4 else c\n",
    "            for c, id in zip(t.marker.colors, t.ids)\n",
    "          ]        \n",
    "      )\n",
    "    )\n",
    "\n",
    "  fig.update_layout(margin = dict(t=25, l=25, r=25, b=25)) \n",
    "\n",
    "  fig.update_layout(   \n",
    "    template=\"plotly_white\",\n",
    "    height = 900\n",
    "  )\n",
    "\n",
    "  fig.update_traces(textinfo=\"label+percent parent\") \n",
    "  fig.data[0]['textfont']['size'] = 14\n",
    "  fig.show() \n",
    "\n",
    "def update_sunburts(tipo,year):\n",
    "  global df_filter\n",
    "  \n",
    "  if tipo ==\"MEAN\":\n",
    "    val='VITAMINA_D_AVG'\n",
    "    txt=\"GRAFICO SUNBURST - MEAN DE VITAMINA D\"\n",
    "  else:\n",
    "    val='VITAMINA_D_TOT'\n",
    "    txt=\"GRAFICO SUNBURST - SIZE DE VITAMINA D\"\n",
    "    \n",
    "  if year !=\"ALL\":\n",
    "    df = df_filter.query(f\"AÑO == {year}\")\n",
    "  else:\n",
    "    df = df_filter\n",
    "    \n",
    "  fig2 = px.sunburst(df, path=['AÑO',\"VIT_D_TXT\", 'ADULTO_NIÑO'], values=val)\n",
    "  \n",
    "  colores={\"Adulto\":\"#caccd1\",\n",
    "  \"Niño\":\"#00a4e4\",\n",
    "  \"Deficiente\":\"#ce281f\",\n",
    "  \"Deseable\":\"#8eef44\",\n",
    "  \"2018\":\"#ec722e\",\n",
    "  \"2019\":\"#7dc343\",\n",
    "  \"2020\":\"#64a2d8\",\n",
    "  \"2021\":\"#eed842\"}\n",
    "\n",
    "  for t in fig2.data:\n",
    "    lista = t.labels\n",
    "    lista_p = t.parents\n",
    "\n",
    "  colors = []\n",
    "\n",
    "  for p in range(0,len(lista)):\n",
    "    if len(lista_p[p].split(\"/\"))==2:\n",
    "      colors.append(colores[lista_p[p].split(\"/\")[1]])\n",
    "    else: \n",
    "      colors.append(colores[lista[p]])\n",
    "\n",
    "  fig = go.Figure(go.Sunburst(\n",
    "        labels=fig2['data'][0]['labels'],\n",
    "        parents=fig2['data'][0]['parents'],\n",
    "        values=4*fig2['data'][0]['values'],\n",
    "        ids=fig2['data'][0]['ids'],\n",
    "        branchvalues='total',\n",
    "        marker=dict(colors=colors),\n",
    "        hovertemplate='<b>%{label}:</b> <br> Total : %{value} <extra></extra>',\n",
    "        maxdepth=3\n",
    "      ))\n",
    "  \n",
    "  fig.update_layout(   \n",
    "    template=\"plotly_white\",\n",
    "        title={\n",
    "        'text': \"GRAFICO SUNBURTS DISTRIBUCION VITAMINA D\"\n",
    "        },\n",
    "    height = 900     \n",
    "    )\n",
    "  fig.data[0]['textfont']['size'] = 14\n",
    "  fig.update_traces(textinfo=\"label+percent parent\") \n",
    "\n",
    "  fig.show() "
   ]
  },
  {
   "cell_type": "code",
   "execution_count": 385,
   "metadata": {},
   "outputs": [],
   "source": [
    "data.columns = data.columns.str.upper()\n",
    "data['RESULTADO_VAL']= 1\n",
    "data['VIT_D_TXT'] = data['VITAMINA D'].apply(condicion)\n",
    "\n",
    "\n",
    "df_filter=data[['AÑO','LABORATORIO','ADULTO_NIÑO','MACROZONA','ESTACIONES_AÑO','VITAMINA D','RESULTADO_VAL','VIT_D_TXT']]\n",
    "\n",
    "df_filter=df_filter.groupby(['AÑO','LABORATORIO','ADULTO_NIÑO','MACROZONA','ESTACIONES_AÑO','VIT_D_TXT']).agg({'VITAMINA D':'mean', 'RESULTADO_VAL':'size'}) \\\n",
    "       .rename(columns={'VITAMINA D':'VITAMINA_D_AVG','RESULTADO_VAL':'VITAMINA_D_TOT'}) \\\n",
    "       .reset_index()"
   ]
  },
  {
   "cell_type": "code",
   "execution_count": 466,
   "metadata": {},
   "outputs": [
    {
     "data": {
      "application/vnd.jupyter.widget-view+json": {
       "model_id": "d1226e8e0ecb4e05b2b5285ea3819d33",
       "version_major": 2,
       "version_minor": 0
      },
      "text/plain": [
       "interactive(children=(Dropdown(description='VITAMINA D :', options=('MEAN', 'SIZE'), value='MEAN'), Dropdown(d…"
      ]
     },
     "metadata": {},
     "output_type": "display_data"
    },
    {
     "data": {
      "application/vnd.plotly.v1+json": {
       "config": {
        "plotlyServerURL": "https://plot.ly"
       },
       "data": [
        {
         "branchvalues": "total",
         "customdata": [
          [
           "Deficiente"
          ],
          [
           "(?)"
          ],
          [
           "(?)"
          ],
          [
           "(?)"
          ],
          [
           "(?)"
          ],
          [
           "Deseable"
          ],
          [
           "Deseable"
          ],
          [
           "Deseable"
          ],
          [
           "Deseable"
          ],
          [
           "Deseable"
          ],
          [
           "Deseable"
          ],
          [
           "Deseable"
          ],
          [
           "(?)"
          ],
          [
           "Deseable"
          ],
          [
           "Deseable"
          ],
          [
           "Deseable"
          ],
          [
           "Deseable"
          ],
          [
           "Deseable"
          ],
          [
           "Deseable"
          ],
          [
           "Deseable"
          ],
          [
           "Deseable"
          ],
          [
           "Deseable"
          ],
          [
           "Deseable"
          ],
          [
           "Deseable"
          ],
          [
           "Deseable"
          ],
          [
           "Deseable"
          ],
          [
           "(?)"
          ],
          [
           "(?)"
          ],
          [
           "(?)"
          ],
          [
           "(?)"
          ],
          [
           "(?)"
          ],
          [
           "(?)"
          ],
          [
           "(?)"
          ],
          [
           "(?)"
          ],
          [
           "(?)"
          ],
          [
           "(?)"
          ],
          [
           "(?)"
          ],
          [
           "(?)"
          ],
          [
           "(?)"
          ],
          [
           "(?)"
          ],
          [
           "(?)"
          ],
          [
           "(?)"
          ],
          [
           "(?)"
          ],
          [
           "(?)"
          ],
          [
           "(?)"
          ],
          [
           "(?)"
          ],
          [
           "(?)"
          ],
          [
           "(?)"
          ],
          [
           "(?)"
          ],
          [
           "(?)"
          ],
          [
           "(?)"
          ],
          [
           "(?)"
          ],
          [
           "(?)"
          ],
          [
           "(?)"
          ],
          [
           "Deseable"
          ],
          [
           "Deseable"
          ],
          [
           "(?)"
          ],
          [
           "Deficiente"
          ],
          [
           "Deficiente"
          ],
          [
           "Deficiente"
          ],
          [
           "Deficiente"
          ],
          [
           "Deficiente"
          ],
          [
           "Deficiente"
          ],
          [
           "Deficiente"
          ],
          [
           "Deficiente"
          ],
          [
           "Deficiente"
          ],
          [
           "Deficiente"
          ],
          [
           "Deficiente"
          ],
          [
           "Deficiente"
          ],
          [
           "Deficiente"
          ],
          [
           "Deficiente"
          ],
          [
           "Deficiente"
          ],
          [
           "Deseable"
          ],
          [
           "Deficiente"
          ],
          [
           "Deficiente"
          ],
          [
           "Deficiente"
          ],
          [
           "Deficiente"
          ],
          [
           "Deficiente"
          ],
          [
           "Deficiente"
          ],
          [
           "Deficiente"
          ],
          [
           "Deseable"
          ],
          [
           "Deseable"
          ],
          [
           "Deficiente"
          ],
          [
           "Deseable"
          ],
          [
           "Deficiente"
          ],
          [
           "Deseable"
          ],
          [
           "Deficiente"
          ],
          [
           "Deficiente"
          ],
          [
           "Deficiente"
          ],
          [
           "(?)"
          ],
          [
           "Deficiente"
          ],
          [
           "(?)"
          ],
          [
           "Deficiente"
          ],
          [
           "(?)"
          ],
          [
           "(?)"
          ],
          [
           "Deficiente"
          ],
          [
           "(?)"
          ],
          [
           "(?)"
          ],
          [
           "(?)"
          ],
          [
           "(?)"
          ],
          [
           "Deficiente"
          ],
          [
           "(?)"
          ],
          [
           "(?)"
          ],
          [
           "Deficiente"
          ],
          [
           "Deficiente"
          ],
          [
           "(?)"
          ],
          [
           "(?)"
          ],
          [
           "(?)"
          ],
          [
           "(?)"
          ],
          [
           "(?)"
          ],
          [
           "Deficiente"
          ],
          [
           "(?)"
          ],
          [
           "(?)"
          ],
          [
           "Deficiente"
          ],
          [
           "(?)"
          ],
          [
           "(?)"
          ],
          [
           "Deficiente"
          ],
          [
           "(?)"
          ],
          [
           "Deseable"
          ],
          [
           "Deficiente"
          ],
          [
           "Deficiente"
          ],
          [
           "(?)"
          ],
          [
           "Deseable"
          ],
          [
           "Deficiente"
          ],
          [
           "Deficiente"
          ],
          [
           "Deseable"
          ],
          [
           "Deseable"
          ],
          [
           "Deseable"
          ],
          [
           "Deseable"
          ],
          [
           "Deseable"
          ],
          [
           "Deseable"
          ],
          [
           "Deseable"
          ],
          [
           "Deseable"
          ],
          [
           "Deseable"
          ],
          [
           "Deseable"
          ],
          [
           "Deseable"
          ],
          [
           "Deseable"
          ],
          [
           "Deseable"
          ],
          [
           "Deseable"
          ],
          [
           "Deficiente"
          ],
          [
           "Deseable"
          ],
          [
           "(?)"
          ],
          [
           "(?)"
          ],
          [
           "Deficiente"
          ],
          [
           "(?)"
          ],
          [
           "(?)"
          ],
          [
           "Deficiente"
          ],
          [
           "(?)"
          ],
          [
           "(?)"
          ],
          [
           "(?)"
          ],
          [
           "Deficiente"
          ],
          [
           "(?)"
          ],
          [
           "Deficiente"
          ],
          [
           "(?)"
          ],
          [
           "Deseable"
          ],
          [
           "Deseable"
          ],
          [
           "Deficiente"
          ],
          [
           "Deseable"
          ],
          [
           "Deficiente"
          ],
          [
           "(?)"
          ],
          [
           "Deseable"
          ]
         ],
         "domain": {
          "x": [
           0,
           1
          ],
          "y": [
           0,
           1
          ]
         },
         "hovertemplate": "labels=%{label}<br>VITAMINA_D_AVG=%{value}<br>parent=%{parent}<br>id=%{id}<br>VIT_D_TXT=%{customdata[0]}<extra></extra>",
         "ids": [
          "GRAFICO TREEMAP - MEAN VITAMINA D/2018/CENTRO/INVIERNO/Deficiente",
          "GRAFICO TREEMAP - MEAN VITAMINA D/2020/NORTE/INVIERNO",
          "GRAFICO TREEMAP - MEAN VITAMINA D/2018/NORTE/INVIERNO",
          "GRAFICO TREEMAP - MEAN VITAMINA D/2020/CENTRO/INVIERNO",
          "GRAFICO TREEMAP - MEAN VITAMINA D/2018/CENTRO/INVIERNO",
          "GRAFICO TREEMAP - MEAN VITAMINA D/2020/SUR/VERANO/Deseable",
          "GRAFICO TREEMAP - MEAN VITAMINA D/2018/SUR/VERANO/Deseable",
          "GRAFICO TREEMAP - MEAN VITAMINA D/2021/NORTE/VERANO/Deseable",
          "GRAFICO TREEMAP - MEAN VITAMINA D/2019/NORTE/VERANO/Deseable",
          "GRAFICO TREEMAP - MEAN VITAMINA D/2018/NORTE/VERANO/Deseable",
          "GRAFICO TREEMAP - MEAN VITAMINA D/2021/CENTRO/VERANO/Deseable",
          "GRAFICO TREEMAP - MEAN VITAMINA D/2019/CENTRO/VERANO/Deseable",
          "GRAFICO TREEMAP - MEAN VITAMINA D/2018/SUR/INVIERNO",
          "GRAFICO TREEMAP - MEAN VITAMINA D/2021/SUR/PRIMAVERA/Deseable",
          "GRAFICO TREEMAP - MEAN VITAMINA D/2021/NORTE/PRIMAVERA/Deseable",
          "GRAFICO TREEMAP - MEAN VITAMINA D/2019/NORTE/PRIMAVERA/Deseable",
          "GRAFICO TREEMAP - MEAN VITAMINA D/2018/NORTE/PRIMAVERA/Deseable",
          "GRAFICO TREEMAP - MEAN VITAMINA D/2021/CENTRO/PRIMAVERA/Deseable",
          "GRAFICO TREEMAP - MEAN VITAMINA D/2020/CENTRO/PRIMAVERA/Deseable",
          "GRAFICO TREEMAP - MEAN VITAMINA D/2018/CENTRO/PRIMAVERA/Deseable",
          "GRAFICO TREEMAP - MEAN VITAMINA D/2020/SUR/OTOÑO/Deseable",
          "GRAFICO TREEMAP - MEAN VITAMINA D/2018/SUR/OTOÑO/Deseable",
          "GRAFICO TREEMAP - MEAN VITAMINA D/2020/NORTE/OTOÑO/Deseable",
          "GRAFICO TREEMAP - MEAN VITAMINA D/2018/NORTE/OTOÑO/Deseable",
          "GRAFICO TREEMAP - MEAN VITAMINA D/2020/CENTRO/OTOÑO/Deseable",
          "GRAFICO TREEMAP - MEAN VITAMINA D/2019/SUR/PRIMAVERA/Deseable",
          "GRAFICO TREEMAP - MEAN VITAMINA D/2020/SUR/INVIERNO",
          "GRAFICO TREEMAP - MEAN VITAMINA D/2018/CENTRO/OTOÑO",
          "GRAFICO TREEMAP - MEAN VITAMINA D/2020/CENTRO/OTOÑO",
          "GRAFICO TREEMAP - MEAN VITAMINA D/2020",
          "GRAFICO TREEMAP - MEAN VITAMINA D/2018",
          "GRAFICO TREEMAP - MEAN VITAMINA D/2020/SUR",
          "GRAFICO TREEMAP - MEAN VITAMINA D/2018/SUR",
          "GRAFICO TREEMAP - MEAN VITAMINA D/2020/NORTE",
          "GRAFICO TREEMAP - MEAN VITAMINA D/2018/NORTE",
          "GRAFICO TREEMAP - MEAN VITAMINA D/2020/CENTRO",
          "GRAFICO TREEMAP - MEAN VITAMINA D/2018/CENTRO",
          "GRAFICO TREEMAP - MEAN VITAMINA D/2020/SUR/VERANO",
          "GRAFICO TREEMAP - MEAN VITAMINA D/2018/SUR/VERANO",
          "GRAFICO TREEMAP - MEAN VITAMINA D/2020/NORTE/VERANO",
          "GRAFICO TREEMAP - MEAN VITAMINA D/2018/NORTE/VERANO",
          "GRAFICO TREEMAP - MEAN VITAMINA D/2020/CENTRO/VERANO",
          "GRAFICO TREEMAP - MEAN VITAMINA D/2018/CENTRO/VERANO",
          "GRAFICO TREEMAP - MEAN VITAMINA D/2020/SUR/PRIMAVERA",
          "GRAFICO TREEMAP - MEAN VITAMINA D/2019/SUR/PRIMAVERA",
          "GRAFICO TREEMAP - MEAN VITAMINA D/2021/NORTE/PRIMAVERA",
          "GRAFICO TREEMAP - MEAN VITAMINA D/2019/NORTE/PRIMAVERA",
          "GRAFICO TREEMAP - MEAN VITAMINA D/2021/CENTRO/PRIMAVERA",
          "GRAFICO TREEMAP - MEAN VITAMINA D/2019/CENTRO/PRIMAVERA",
          "GRAFICO TREEMAP - MEAN VITAMINA D/2021/SUR/OTOÑO",
          "GRAFICO TREEMAP - MEAN VITAMINA D/2019/SUR/OTOÑO",
          "GRAFICO TREEMAP - MEAN VITAMINA D/2018/SUR/OTOÑO",
          "GRAFICO TREEMAP - MEAN VITAMINA D/2020/NORTE/OTOÑO",
          "GRAFICO TREEMAP - MEAN VITAMINA D/2018/NORTE/OTOÑO",
          "GRAFICO TREEMAP - MEAN VITAMINA D/2019/CENTRO/OTOÑO/Deseable",
          "GRAFICO TREEMAP - MEAN VITAMINA D/2020/SUR/INVIERNO/Deseable",
          "GRAFICO TREEMAP - MEAN VITAMINA D",
          "GRAFICO TREEMAP - MEAN VITAMINA D/2021/CENTRO/PRIMAVERA/Deficiente",
          "GRAFICO TREEMAP - MEAN VITAMINA D/2019/SUR/INVIERNO/Deficiente",
          "GRAFICO TREEMAP - MEAN VITAMINA D/2019/NORTE/VERANO/Deficiente",
          "GRAFICO TREEMAP - MEAN VITAMINA D/2021/SUR/INVIERNO/Deficiente",
          "GRAFICO TREEMAP - MEAN VITAMINA D/2021/SUR/OTOÑO/Deficiente",
          "GRAFICO TREEMAP - MEAN VITAMINA D/2019/CENTRO/VERANO/Deficiente",
          "GRAFICO TREEMAP - MEAN VITAMINA D/2018/CENTRO/OTOÑO/Deficiente",
          "GRAFICO TREEMAP - MEAN VITAMINA D/2018/CENTRO/VERANO/Deficiente",
          "GRAFICO TREEMAP - MEAN VITAMINA D/2020/SUR/PRIMAVERA/Deficiente",
          "GRAFICO TREEMAP - MEAN VITAMINA D/2019/SUR/PRIMAVERA/Deficiente",
          "GRAFICO TREEMAP - MEAN VITAMINA D/2020/CENTRO/OTOÑO/Deficiente",
          "GRAFICO TREEMAP - MEAN VITAMINA D/2021/NORTE/PRIMAVERA/Deficiente",
          "GRAFICO TREEMAP - MEAN VITAMINA D/2018/NORTE/OTOÑO/Deficiente",
          "GRAFICO TREEMAP - MEAN VITAMINA D/2019/NORTE/PRIMAVERA/Deficiente",
          "GRAFICO TREEMAP - MEAN VITAMINA D/2020/NORTE/OTOÑO/Deficiente",
          "GRAFICO TREEMAP - MEAN VITAMINA D/2018/SUR/INVIERNO/Deseable",
          "GRAFICO TREEMAP - MEAN VITAMINA D/2018/SUR/OTOÑO/Deficiente",
          "GRAFICO TREEMAP - MEAN VITAMINA D/2019/CENTRO/PRIMAVERA/Deficiente",
          "GRAFICO TREEMAP - MEAN VITAMINA D/2021/NORTE/VERANO/Deficiente",
          "GRAFICO TREEMAP - MEAN VITAMINA D/2018/SUR/INVIERNO/Deficiente",
          "GRAFICO TREEMAP - MEAN VITAMINA D/2021/CENTRO/VERANO/Deficiente",
          "GRAFICO TREEMAP - MEAN VITAMINA D/2019/SUR/VERANO/Deficiente",
          "GRAFICO TREEMAP - MEAN VITAMINA D/2020/CENTRO/INVIERNO/Deficiente",
          "GRAFICO TREEMAP - MEAN VITAMINA D/2020/NORTE/INVIERNO/Deseable",
          "GRAFICO TREEMAP - MEAN VITAMINA D/2018/NORTE/INVIERNO/Deseable",
          "GRAFICO TREEMAP - MEAN VITAMINA D/2018/NORTE/INVIERNO/Deficiente",
          "GRAFICO TREEMAP - MEAN VITAMINA D/2020/CENTRO/INVIERNO/Deseable",
          "GRAFICO TREEMAP - MEAN VITAMINA D/2020/NORTE/INVIERNO/Deficiente",
          "GRAFICO TREEMAP - MEAN VITAMINA D/2018/CENTRO/INVIERNO/Deseable",
          "GRAFICO TREEMAP - MEAN VITAMINA D/2020/SUR/OTOÑO/Deficiente",
          "GRAFICO TREEMAP - MEAN VITAMINA D/2020/SUR/VERANO/Deficiente",
          "GRAFICO TREEMAP - MEAN VITAMINA D/2020/SUR/INVIERNO/Deficiente",
          "GRAFICO TREEMAP - MEAN VITAMINA D/2020/SUR/OTOÑO",
          "GRAFICO TREEMAP - MEAN VITAMINA D/2019/SUR/OTOÑO/Deficiente",
          "GRAFICO TREEMAP - MEAN VITAMINA D/2018/CENTRO/PRIMAVERA",
          "GRAFICO TREEMAP - MEAN VITAMINA D/2019/CENTRO/INVIERNO/Deficiente",
          "GRAFICO TREEMAP - MEAN VITAMINA D/2019",
          "GRAFICO TREEMAP - MEAN VITAMINA D/2020/CENTRO/PRIMAVERA",
          "GRAFICO TREEMAP - MEAN VITAMINA D/2021/NORTE/OTOÑO/Deficiente",
          "GRAFICO TREEMAP - MEAN VITAMINA D/2018/NORTE/PRIMAVERA",
          "GRAFICO TREEMAP - MEAN VITAMINA D/2021/SUR/VERANO",
          "GRAFICO TREEMAP - MEAN VITAMINA D/2020/NORTE/PRIMAVERA",
          "GRAFICO TREEMAP - MEAN VITAMINA D/2021/SUR",
          "GRAFICO TREEMAP - MEAN VITAMINA D/2019/NORTE/OTOÑO/Deficiente",
          "GRAFICO TREEMAP - MEAN VITAMINA D/2021/NORTE/VERANO",
          "GRAFICO TREEMAP - MEAN VITAMINA D/2018/SUR/PRIMAVERA",
          "GRAFICO TREEMAP - MEAN VITAMINA D/2021/NORTE/INVIERNO/Deficiente",
          "GRAFICO TREEMAP - MEAN VITAMINA D/2021/CENTRO/OTOÑO/Deficiente",
          "GRAFICO TREEMAP - MEAN VITAMINA D/2021/SUR/PRIMAVERA",
          "GRAFICO TREEMAP - MEAN VITAMINA D/2019/CENTRO",
          "GRAFICO TREEMAP - MEAN VITAMINA D/2019/SUR/VERANO",
          "GRAFICO TREEMAP - MEAN VITAMINA D/2019/CENTRO/VERANO",
          "GRAFICO TREEMAP - MEAN VITAMINA D/2021/NORTE",
          "GRAFICO TREEMAP - MEAN VITAMINA D/2019/CENTRO/OTOÑO/Deficiente",
          "GRAFICO TREEMAP - MEAN VITAMINA D/2021/CENTRO/VERANO",
          "GRAFICO TREEMAP - MEAN VITAMINA D/2021/CENTRO",
          "GRAFICO TREEMAP - MEAN VITAMINA D/2019/NORTE/INVIERNO/Deficiente",
          "GRAFICO TREEMAP - MEAN VITAMINA D/2019/NORTE",
          "GRAFICO TREEMAP - MEAN VITAMINA D/2019/NORTE/VERANO",
          "GRAFICO TREEMAP - MEAN VITAMINA D/2021/CENTRO/INVIERNO/Deficiente",
          "GRAFICO TREEMAP - MEAN VITAMINA D/2019/SUR",
          "GRAFICO TREEMAP - MEAN VITAMINA D/2019/SUR/INVIERNO/Deseable",
          "GRAFICO TREEMAP - MEAN VITAMINA D/2018/CENTRO/PRIMAVERA/Deficiente",
          "GRAFICO TREEMAP - MEAN VITAMINA D/2020/NORTE/VERANO/Deficiente",
          "GRAFICO TREEMAP - MEAN VITAMINA D/2021",
          "GRAFICO TREEMAP - MEAN VITAMINA D/2020/NORTE/PRIMAVERA/Deseable",
          "GRAFICO TREEMAP - MEAN VITAMINA D/2018/SUR/VERANO/Deficiente",
          "GRAFICO TREEMAP - MEAN VITAMINA D/2021/SUR/VERANO/Deficiente",
          "GRAFICO TREEMAP - MEAN VITAMINA D/2019/CENTRO/PRIMAVERA/Deseable",
          "GRAFICO TREEMAP - MEAN VITAMINA D/2021/SUR/OTOÑO/Deseable",
          "GRAFICO TREEMAP - MEAN VITAMINA D/2019/CENTRO/INVIERNO/Deseable",
          "GRAFICO TREEMAP - MEAN VITAMINA D/2019/SUR/OTOÑO/Deseable",
          "GRAFICO TREEMAP - MEAN VITAMINA D/2021/NORTE/OTOÑO/Deseable",
          "GRAFICO TREEMAP - MEAN VITAMINA D/2021/CENTRO/INVIERNO/Deseable",
          "GRAFICO TREEMAP - MEAN VITAMINA D/2019/NORTE/OTOÑO/Deseable",
          "GRAFICO TREEMAP - MEAN VITAMINA D/2021/CENTRO/OTOÑO/Deseable",
          "GRAFICO TREEMAP - MEAN VITAMINA D/2019/NORTE/INVIERNO/Deseable",
          "GRAFICO TREEMAP - MEAN VITAMINA D/2018/CENTRO/OTOÑO/Deseable",
          "GRAFICO TREEMAP - MEAN VITAMINA D/2021/SUR/INVIERNO/Deseable",
          "GRAFICO TREEMAP - MEAN VITAMINA D/2021/NORTE/INVIERNO/Deseable",
          "GRAFICO TREEMAP - MEAN VITAMINA D/2020/SUR/PRIMAVERA/Deseable",
          "GRAFICO TREEMAP - MEAN VITAMINA D/2018/CENTRO/VERANO/Deseable",
          "GRAFICO TREEMAP - MEAN VITAMINA D/2018/NORTE/VERANO/Deficiente",
          "GRAFICO TREEMAP - MEAN VITAMINA D/2020/CENTRO/VERANO/Deseable",
          "GRAFICO TREEMAP - MEAN VITAMINA D/2019/NORTE/OTOÑO",
          "GRAFICO TREEMAP - MEAN VITAMINA D/2021/CENTRO/OTOÑO",
          "GRAFICO TREEMAP - MEAN VITAMINA D/2020/CENTRO/PRIMAVERA/Deficiente",
          "GRAFICO TREEMAP - MEAN VITAMINA D/2019/CENTRO/OTOÑO",
          "GRAFICO TREEMAP - MEAN VITAMINA D/2021/SUR/INVIERNO",
          "GRAFICO TREEMAP - MEAN VITAMINA D/2018/NORTE/PRIMAVERA/Deficiente",
          "GRAFICO TREEMAP - MEAN VITAMINA D/2019/SUR/INVIERNO",
          "GRAFICO TREEMAP - MEAN VITAMINA D/2021/NORTE/INVIERNO",
          "GRAFICO TREEMAP - MEAN VITAMINA D/2021/NORTE/OTOÑO",
          "GRAFICO TREEMAP - MEAN VITAMINA D/2020/NORTE/PRIMAVERA/Deficiente",
          "GRAFICO TREEMAP - MEAN VITAMINA D/2021/CENTRO/INVIERNO",
          "GRAFICO TREEMAP - MEAN VITAMINA D/2018/SUR/PRIMAVERA/Deficiente",
          "GRAFICO TREEMAP - MEAN VITAMINA D/2019/CENTRO/INVIERNO",
          "GRAFICO TREEMAP - MEAN VITAMINA D/2021/SUR/VERANO/Deseable",
          "GRAFICO TREEMAP - MEAN VITAMINA D/2019/SUR/VERANO/Deseable",
          "GRAFICO TREEMAP - MEAN VITAMINA D/2021/SUR/PRIMAVERA/Deficiente",
          "GRAFICO TREEMAP - MEAN VITAMINA D/2020/NORTE/VERANO/Deseable",
          "GRAFICO TREEMAP - MEAN VITAMINA D/2020/CENTRO/VERANO/Deficiente",
          "GRAFICO TREEMAP - MEAN VITAMINA D/2019/NORTE/INVIERNO",
          "GRAFICO TREEMAP - MEAN VITAMINA D/2018/SUR/PRIMAVERA/Deseable"
         ],
         "labels": [
          "Deficiente",
          "INVIERNO",
          "INVIERNO",
          "INVIERNO",
          "INVIERNO",
          "Deseable",
          "Deseable",
          "Deseable",
          "Deseable",
          "Deseable",
          "Deseable",
          "Deseable",
          "INVIERNO",
          "Deseable",
          "Deseable",
          "Deseable",
          "Deseable",
          "Deseable",
          "Deseable",
          "Deseable",
          "Deseable",
          "Deseable",
          "Deseable",
          "Deseable",
          "Deseable",
          "Deseable",
          "INVIERNO",
          "OTOÑO",
          "OTOÑO",
          "2020",
          "2018",
          "SUR",
          "SUR",
          "NORTE",
          "NORTE",
          "CENTRO",
          "CENTRO",
          "VERANO",
          "VERANO",
          "VERANO",
          "VERANO",
          "VERANO",
          "VERANO",
          "PRIMAVERA",
          "PRIMAVERA",
          "PRIMAVERA",
          "PRIMAVERA",
          "PRIMAVERA",
          "PRIMAVERA",
          "OTOÑO",
          "OTOÑO",
          "OTOÑO",
          "OTOÑO",
          "OTOÑO",
          "Deseable",
          "Deseable",
          "GRAFICO TREEMAP - MEAN VITAMINA D",
          "Deficiente",
          "Deficiente",
          "Deficiente",
          "Deficiente",
          "Deficiente",
          "Deficiente",
          "Deficiente",
          "Deficiente",
          "Deficiente",
          "Deficiente",
          "Deficiente",
          "Deficiente",
          "Deficiente",
          "Deficiente",
          "Deficiente",
          "Deseable",
          "Deficiente",
          "Deficiente",
          "Deficiente",
          "Deficiente",
          "Deficiente",
          "Deficiente",
          "Deficiente",
          "Deseable",
          "Deseable",
          "Deficiente",
          "Deseable",
          "Deficiente",
          "Deseable",
          "Deficiente",
          "Deficiente",
          "Deficiente",
          "OTOÑO",
          "Deficiente",
          "PRIMAVERA",
          "Deficiente",
          "2019",
          "PRIMAVERA",
          "Deficiente",
          "PRIMAVERA",
          "VERANO",
          "PRIMAVERA",
          "SUR",
          "Deficiente",
          "VERANO",
          "PRIMAVERA",
          "Deficiente",
          "Deficiente",
          "PRIMAVERA",
          "CENTRO",
          "VERANO",
          "VERANO",
          "NORTE",
          "Deficiente",
          "VERANO",
          "CENTRO",
          "Deficiente",
          "NORTE",
          "VERANO",
          "Deficiente",
          "SUR",
          "Deseable",
          "Deficiente",
          "Deficiente",
          "2021",
          "Deseable",
          "Deficiente",
          "Deficiente",
          "Deseable",
          "Deseable",
          "Deseable",
          "Deseable",
          "Deseable",
          "Deseable",
          "Deseable",
          "Deseable",
          "Deseable",
          "Deseable",
          "Deseable",
          "Deseable",
          "Deseable",
          "Deseable",
          "Deficiente",
          "Deseable",
          "OTOÑO",
          "OTOÑO",
          "Deficiente",
          "OTOÑO",
          "INVIERNO",
          "Deficiente",
          "INVIERNO",
          "INVIERNO",
          "OTOÑO",
          "Deficiente",
          "INVIERNO",
          "Deficiente",
          "INVIERNO",
          "Deseable",
          "Deseable",
          "Deficiente",
          "Deseable",
          "Deficiente",
          "INVIERNO",
          "Deseable"
         ],
         "marker": {
          "colors": [
           "#ce281f",
           "#6082B6",
           "#6082B6",
           "#6082B6",
           "#6082B6",
           "#8eef44",
           "#8eef44",
           "#8eef44",
           "#8eef44",
           "#8eef44",
           "#8eef44",
           "#8eef44",
           "#6082B6",
           "#8eef44",
           "#8eef44",
           "#8eef44",
           "#8eef44",
           "#8eef44",
           "#8eef44",
           "#8eef44",
           "#8eef44",
           "#8eef44",
           "#8eef44",
           "#8eef44",
           "#8eef44",
           "#8eef44",
           "#6082B6",
           "Brown",
           "Brown",
           "#64a2d8",
           "#ec722e",
           "#64aee5",
           "#64aee5",
           "#e6dc77",
           "#e6dc77",
           "#b8d6b1",
           "#b8d6b1",
           "#F5761A",
           "#F5761A",
           "#F5761A",
           "#F5761A",
           "#F5761A",
           "#F5761A",
           "Green",
           "Green",
           "Green",
           "Green",
           "Green",
           "Green",
           "Brown",
           "Brown",
           "Brown",
           "Brown",
           "Brown",
           "#8eef44",
           "#8eef44",
           "#f2f6fa",
           "#ce281f",
           "#ce281f",
           "#ce281f",
           "#ce281f",
           "#ce281f",
           "#ce281f",
           "#ce281f",
           "#ce281f",
           "#ce281f",
           "#ce281f",
           "#ce281f",
           "#ce281f",
           "#ce281f",
           "#ce281f",
           "#ce281f",
           "#8eef44",
           "#ce281f",
           "#ce281f",
           "#ce281f",
           "#ce281f",
           "#ce281f",
           "#ce281f",
           "#ce281f",
           "#8eef44",
           "#8eef44",
           "#ce281f",
           "#8eef44",
           "#ce281f",
           "#8eef44",
           "#ce281f",
           "#ce281f",
           "#ce281f",
           "Brown",
           "#ce281f",
           "Green",
           "#ce281f",
           "#7dc343",
           "Green",
           "#ce281f",
           "Green",
           "#F5761A",
           "Green",
           "#64aee5",
           "#ce281f",
           "#F5761A",
           "Green",
           "#ce281f",
           "#ce281f",
           "Green",
           "#b8d6b1",
           "#F5761A",
           "#F5761A",
           "#e6dc77",
           "#ce281f",
           "#F5761A",
           "#b8d6b1",
           "#ce281f",
           "#e6dc77",
           "#F5761A",
           "#ce281f",
           "#64aee5",
           "#8eef44",
           "#ce281f",
           "#ce281f",
           "#eed842",
           "#8eef44",
           "#ce281f",
           "#ce281f",
           "#8eef44",
           "#8eef44",
           "#8eef44",
           "#8eef44",
           "#8eef44",
           "#8eef44",
           "#8eef44",
           "#8eef44",
           "#8eef44",
           "#8eef44",
           "#8eef44",
           "#8eef44",
           "#8eef44",
           "#8eef44",
           "#ce281f",
           "#8eef44",
           "Brown",
           "Brown",
           "#ce281f",
           "Brown",
           "#6082B6",
           "#ce281f",
           "#6082B6",
           "#6082B6",
           "Brown",
           "#ce281f",
           "#6082B6",
           "#ce281f",
           "#6082B6",
           "#8eef44",
           "#8eef44",
           "#ce281f",
           "#8eef44",
           "#ce281f",
           "#6082B6",
           "#8eef44"
          ]
         },
         "name": "",
         "parents": [
          "GRAFICO TREEMAP - MEAN VITAMINA D/2018/CENTRO/INVIERNO",
          "GRAFICO TREEMAP - MEAN VITAMINA D/2020/NORTE",
          "GRAFICO TREEMAP - MEAN VITAMINA D/2018/NORTE",
          "GRAFICO TREEMAP - MEAN VITAMINA D/2020/CENTRO",
          "GRAFICO TREEMAP - MEAN VITAMINA D/2018/CENTRO",
          "GRAFICO TREEMAP - MEAN VITAMINA D/2020/SUR/VERANO",
          "GRAFICO TREEMAP - MEAN VITAMINA D/2018/SUR/VERANO",
          "GRAFICO TREEMAP - MEAN VITAMINA D/2021/NORTE/VERANO",
          "GRAFICO TREEMAP - MEAN VITAMINA D/2019/NORTE/VERANO",
          "GRAFICO TREEMAP - MEAN VITAMINA D/2018/NORTE/VERANO",
          "GRAFICO TREEMAP - MEAN VITAMINA D/2021/CENTRO/VERANO",
          "GRAFICO TREEMAP - MEAN VITAMINA D/2019/CENTRO/VERANO",
          "GRAFICO TREEMAP - MEAN VITAMINA D/2018/SUR",
          "GRAFICO TREEMAP - MEAN VITAMINA D/2021/SUR/PRIMAVERA",
          "GRAFICO TREEMAP - MEAN VITAMINA D/2021/NORTE/PRIMAVERA",
          "GRAFICO TREEMAP - MEAN VITAMINA D/2019/NORTE/PRIMAVERA",
          "GRAFICO TREEMAP - MEAN VITAMINA D/2018/NORTE/PRIMAVERA",
          "GRAFICO TREEMAP - MEAN VITAMINA D/2021/CENTRO/PRIMAVERA",
          "GRAFICO TREEMAP - MEAN VITAMINA D/2020/CENTRO/PRIMAVERA",
          "GRAFICO TREEMAP - MEAN VITAMINA D/2018/CENTRO/PRIMAVERA",
          "GRAFICO TREEMAP - MEAN VITAMINA D/2020/SUR/OTOÑO",
          "GRAFICO TREEMAP - MEAN VITAMINA D/2018/SUR/OTOÑO",
          "GRAFICO TREEMAP - MEAN VITAMINA D/2020/NORTE/OTOÑO",
          "GRAFICO TREEMAP - MEAN VITAMINA D/2018/NORTE/OTOÑO",
          "GRAFICO TREEMAP - MEAN VITAMINA D/2020/CENTRO/OTOÑO",
          "GRAFICO TREEMAP - MEAN VITAMINA D/2019/SUR/PRIMAVERA",
          "GRAFICO TREEMAP - MEAN VITAMINA D/2020/SUR",
          "GRAFICO TREEMAP - MEAN VITAMINA D/2018/CENTRO",
          "GRAFICO TREEMAP - MEAN VITAMINA D/2020/CENTRO",
          "GRAFICO TREEMAP - MEAN VITAMINA D",
          "GRAFICO TREEMAP - MEAN VITAMINA D",
          "GRAFICO TREEMAP - MEAN VITAMINA D/2020",
          "GRAFICO TREEMAP - MEAN VITAMINA D/2018",
          "GRAFICO TREEMAP - MEAN VITAMINA D/2020",
          "GRAFICO TREEMAP - MEAN VITAMINA D/2018",
          "GRAFICO TREEMAP - MEAN VITAMINA D/2020",
          "GRAFICO TREEMAP - MEAN VITAMINA D/2018",
          "GRAFICO TREEMAP - MEAN VITAMINA D/2020/SUR",
          "GRAFICO TREEMAP - MEAN VITAMINA D/2018/SUR",
          "GRAFICO TREEMAP - MEAN VITAMINA D/2020/NORTE",
          "GRAFICO TREEMAP - MEAN VITAMINA D/2018/NORTE",
          "GRAFICO TREEMAP - MEAN VITAMINA D/2020/CENTRO",
          "GRAFICO TREEMAP - MEAN VITAMINA D/2018/CENTRO",
          "GRAFICO TREEMAP - MEAN VITAMINA D/2020/SUR",
          "GRAFICO TREEMAP - MEAN VITAMINA D/2019/SUR",
          "GRAFICO TREEMAP - MEAN VITAMINA D/2021/NORTE",
          "GRAFICO TREEMAP - MEAN VITAMINA D/2019/NORTE",
          "GRAFICO TREEMAP - MEAN VITAMINA D/2021/CENTRO",
          "GRAFICO TREEMAP - MEAN VITAMINA D/2019/CENTRO",
          "GRAFICO TREEMAP - MEAN VITAMINA D/2021/SUR",
          "GRAFICO TREEMAP - MEAN VITAMINA D/2019/SUR",
          "GRAFICO TREEMAP - MEAN VITAMINA D/2018/SUR",
          "GRAFICO TREEMAP - MEAN VITAMINA D/2020/NORTE",
          "GRAFICO TREEMAP - MEAN VITAMINA D/2018/NORTE",
          "GRAFICO TREEMAP - MEAN VITAMINA D/2019/CENTRO/OTOÑO",
          "GRAFICO TREEMAP - MEAN VITAMINA D/2020/SUR/INVIERNO",
          "",
          "GRAFICO TREEMAP - MEAN VITAMINA D/2021/CENTRO/PRIMAVERA",
          "GRAFICO TREEMAP - MEAN VITAMINA D/2019/SUR/INVIERNO",
          "GRAFICO TREEMAP - MEAN VITAMINA D/2019/NORTE/VERANO",
          "GRAFICO TREEMAP - MEAN VITAMINA D/2021/SUR/INVIERNO",
          "GRAFICO TREEMAP - MEAN VITAMINA D/2021/SUR/OTOÑO",
          "GRAFICO TREEMAP - MEAN VITAMINA D/2019/CENTRO/VERANO",
          "GRAFICO TREEMAP - MEAN VITAMINA D/2018/CENTRO/OTOÑO",
          "GRAFICO TREEMAP - MEAN VITAMINA D/2018/CENTRO/VERANO",
          "GRAFICO TREEMAP - MEAN VITAMINA D/2020/SUR/PRIMAVERA",
          "GRAFICO TREEMAP - MEAN VITAMINA D/2019/SUR/PRIMAVERA",
          "GRAFICO TREEMAP - MEAN VITAMINA D/2020/CENTRO/OTOÑO",
          "GRAFICO TREEMAP - MEAN VITAMINA D/2021/NORTE/PRIMAVERA",
          "GRAFICO TREEMAP - MEAN VITAMINA D/2018/NORTE/OTOÑO",
          "GRAFICO TREEMAP - MEAN VITAMINA D/2019/NORTE/PRIMAVERA",
          "GRAFICO TREEMAP - MEAN VITAMINA D/2020/NORTE/OTOÑO",
          "GRAFICO TREEMAP - MEAN VITAMINA D/2018/SUR/INVIERNO",
          "GRAFICO TREEMAP - MEAN VITAMINA D/2018/SUR/OTOÑO",
          "GRAFICO TREEMAP - MEAN VITAMINA D/2019/CENTRO/PRIMAVERA",
          "GRAFICO TREEMAP - MEAN VITAMINA D/2021/NORTE/VERANO",
          "GRAFICO TREEMAP - MEAN VITAMINA D/2018/SUR/INVIERNO",
          "GRAFICO TREEMAP - MEAN VITAMINA D/2021/CENTRO/VERANO",
          "GRAFICO TREEMAP - MEAN VITAMINA D/2019/SUR/VERANO",
          "GRAFICO TREEMAP - MEAN VITAMINA D/2020/CENTRO/INVIERNO",
          "GRAFICO TREEMAP - MEAN VITAMINA D/2020/NORTE/INVIERNO",
          "GRAFICO TREEMAP - MEAN VITAMINA D/2018/NORTE/INVIERNO",
          "GRAFICO TREEMAP - MEAN VITAMINA D/2018/NORTE/INVIERNO",
          "GRAFICO TREEMAP - MEAN VITAMINA D/2020/CENTRO/INVIERNO",
          "GRAFICO TREEMAP - MEAN VITAMINA D/2020/NORTE/INVIERNO",
          "GRAFICO TREEMAP - MEAN VITAMINA D/2018/CENTRO/INVIERNO",
          "GRAFICO TREEMAP - MEAN VITAMINA D/2020/SUR/OTOÑO",
          "GRAFICO TREEMAP - MEAN VITAMINA D/2020/SUR/VERANO",
          "GRAFICO TREEMAP - MEAN VITAMINA D/2020/SUR/INVIERNO",
          "GRAFICO TREEMAP - MEAN VITAMINA D/2020/SUR",
          "GRAFICO TREEMAP - MEAN VITAMINA D/2019/SUR/OTOÑO",
          "GRAFICO TREEMAP - MEAN VITAMINA D/2018/CENTRO",
          "GRAFICO TREEMAP - MEAN VITAMINA D/2019/CENTRO/INVIERNO",
          "GRAFICO TREEMAP - MEAN VITAMINA D",
          "GRAFICO TREEMAP - MEAN VITAMINA D/2020/CENTRO",
          "GRAFICO TREEMAP - MEAN VITAMINA D/2021/NORTE/OTOÑO",
          "GRAFICO TREEMAP - MEAN VITAMINA D/2018/NORTE",
          "GRAFICO TREEMAP - MEAN VITAMINA D/2021/SUR",
          "GRAFICO TREEMAP - MEAN VITAMINA D/2020/NORTE",
          "GRAFICO TREEMAP - MEAN VITAMINA D/2021",
          "GRAFICO TREEMAP - MEAN VITAMINA D/2019/NORTE/OTOÑO",
          "GRAFICO TREEMAP - MEAN VITAMINA D/2021/NORTE",
          "GRAFICO TREEMAP - MEAN VITAMINA D/2018/SUR",
          "GRAFICO TREEMAP - MEAN VITAMINA D/2021/NORTE/INVIERNO",
          "GRAFICO TREEMAP - MEAN VITAMINA D/2021/CENTRO/OTOÑO",
          "GRAFICO TREEMAP - MEAN VITAMINA D/2021/SUR",
          "GRAFICO TREEMAP - MEAN VITAMINA D/2019",
          "GRAFICO TREEMAP - MEAN VITAMINA D/2019/SUR",
          "GRAFICO TREEMAP - MEAN VITAMINA D/2019/CENTRO",
          "GRAFICO TREEMAP - MEAN VITAMINA D/2021",
          "GRAFICO TREEMAP - MEAN VITAMINA D/2019/CENTRO/OTOÑO",
          "GRAFICO TREEMAP - MEAN VITAMINA D/2021/CENTRO",
          "GRAFICO TREEMAP - MEAN VITAMINA D/2021",
          "GRAFICO TREEMAP - MEAN VITAMINA D/2019/NORTE/INVIERNO",
          "GRAFICO TREEMAP - MEAN VITAMINA D/2019",
          "GRAFICO TREEMAP - MEAN VITAMINA D/2019/NORTE",
          "GRAFICO TREEMAP - MEAN VITAMINA D/2021/CENTRO/INVIERNO",
          "GRAFICO TREEMAP - MEAN VITAMINA D/2019",
          "GRAFICO TREEMAP - MEAN VITAMINA D/2019/SUR/INVIERNO",
          "GRAFICO TREEMAP - MEAN VITAMINA D/2018/CENTRO/PRIMAVERA",
          "GRAFICO TREEMAP - MEAN VITAMINA D/2020/NORTE/VERANO",
          "GRAFICO TREEMAP - MEAN VITAMINA D",
          "GRAFICO TREEMAP - MEAN VITAMINA D/2020/NORTE/PRIMAVERA",
          "GRAFICO TREEMAP - MEAN VITAMINA D/2018/SUR/VERANO",
          "GRAFICO TREEMAP - MEAN VITAMINA D/2021/SUR/VERANO",
          "GRAFICO TREEMAP - MEAN VITAMINA D/2019/CENTRO/PRIMAVERA",
          "GRAFICO TREEMAP - MEAN VITAMINA D/2021/SUR/OTOÑO",
          "GRAFICO TREEMAP - MEAN VITAMINA D/2019/CENTRO/INVIERNO",
          "GRAFICO TREEMAP - MEAN VITAMINA D/2019/SUR/OTOÑO",
          "GRAFICO TREEMAP - MEAN VITAMINA D/2021/NORTE/OTOÑO",
          "GRAFICO TREEMAP - MEAN VITAMINA D/2021/CENTRO/INVIERNO",
          "GRAFICO TREEMAP - MEAN VITAMINA D/2019/NORTE/OTOÑO",
          "GRAFICO TREEMAP - MEAN VITAMINA D/2021/CENTRO/OTOÑO",
          "GRAFICO TREEMAP - MEAN VITAMINA D/2019/NORTE/INVIERNO",
          "GRAFICO TREEMAP - MEAN VITAMINA D/2018/CENTRO/OTOÑO",
          "GRAFICO TREEMAP - MEAN VITAMINA D/2021/SUR/INVIERNO",
          "GRAFICO TREEMAP - MEAN VITAMINA D/2021/NORTE/INVIERNO",
          "GRAFICO TREEMAP - MEAN VITAMINA D/2020/SUR/PRIMAVERA",
          "GRAFICO TREEMAP - MEAN VITAMINA D/2018/CENTRO/VERANO",
          "GRAFICO TREEMAP - MEAN VITAMINA D/2018/NORTE/VERANO",
          "GRAFICO TREEMAP - MEAN VITAMINA D/2020/CENTRO/VERANO",
          "GRAFICO TREEMAP - MEAN VITAMINA D/2019/NORTE",
          "GRAFICO TREEMAP - MEAN VITAMINA D/2021/CENTRO",
          "GRAFICO TREEMAP - MEAN VITAMINA D/2020/CENTRO/PRIMAVERA",
          "GRAFICO TREEMAP - MEAN VITAMINA D/2019/CENTRO",
          "GRAFICO TREEMAP - MEAN VITAMINA D/2021/SUR",
          "GRAFICO TREEMAP - MEAN VITAMINA D/2018/NORTE/PRIMAVERA",
          "GRAFICO TREEMAP - MEAN VITAMINA D/2019/SUR",
          "GRAFICO TREEMAP - MEAN VITAMINA D/2021/NORTE",
          "GRAFICO TREEMAP - MEAN VITAMINA D/2021/NORTE",
          "GRAFICO TREEMAP - MEAN VITAMINA D/2020/NORTE/PRIMAVERA",
          "GRAFICO TREEMAP - MEAN VITAMINA D/2021/CENTRO",
          "GRAFICO TREEMAP - MEAN VITAMINA D/2018/SUR/PRIMAVERA",
          "GRAFICO TREEMAP - MEAN VITAMINA D/2019/CENTRO",
          "GRAFICO TREEMAP - MEAN VITAMINA D/2021/SUR/VERANO",
          "GRAFICO TREEMAP - MEAN VITAMINA D/2019/SUR/VERANO",
          "GRAFICO TREEMAP - MEAN VITAMINA D/2021/SUR/PRIMAVERA",
          "GRAFICO TREEMAP - MEAN VITAMINA D/2020/NORTE/VERANO",
          "GRAFICO TREEMAP - MEAN VITAMINA D/2020/CENTRO/VERANO",
          "GRAFICO TREEMAP - MEAN VITAMINA D/2019/NORTE",
          "GRAFICO TREEMAP - MEAN VITAMINA D/2018/SUR/PRIMAVERA"
         ],
         "textfont": {
          "size": 14
         },
         "textinfo": "label+percent parent",
         "type": "treemap",
         "values": [
          125.3403919847196,
          880.6018097131192,
          745.6747771448674,
          397.4873119101891,
          334.2271430958307,
          380.0270110124182,
          297.4689238347859,
          624.2750067631345,
          726.1746127451298,
          628.7019095238095,
          314.65126866787557,
          300.4875954144448,
          436.06717081930265,
          431.2839149362911,
          675.9183116914348,
          603.5084656997415,
          497.71979761904765,
          354.83804527776454,
          343.56042178454516,
          368.21840451945394,
          303.9398500587125,
          337.3749693158954,
          516.6125755469756,
          554.53647281106,
          265.68567537746804,
          392.2706825673468,
          517.4355289040536,
          478.0514129582496,
          420.18100016400365,
          7692.925343707237,
          7072.250997142364,
          2109.192896776237,
          1891.2818374307788,
          3809.6620863896046,
          3444.006162934845,
          1774.0703605413953,
          1736.9629967767405,
          603.1884408390639,
          470.52761406685204,
          1072.7864432093368,
          972.404863636527,
          473.82736489229944,
          415.6160306128833,
          487.4932508120564,
          582.2613212109779,
          1010.2750284044248,
          994.0171566121234,
          502.0073668337611,
          468.8759906920246,
          581.234633693692,
          582.8040662569948,
          530.0145086190445,
          884.3764876886629,
          914.2951104678839,
          232.5717229844304,
          357.597773605487,
          31023.862548215537,
          147.16932155599656,
          169.80542084841542,
          407.6731036751667,
          140.02924679291505,
          170.1047719118093,
          170.94577164580073,
          165.6774326472935,
          147.8040582145319,
          162.76706562419065,
          189.99063864363112,
          154.4953247865356,
          334.35671671299,
          359.7586376568239,
          390.5086909123819,
          367.76391214168746,
          297.0038888888889,
          192.6395393031491,
          165.6750608906114,
          362.04388924492224,
          139.06328193041372,
          158.33085305156146,
          215.0048210997647,
          128.34287885658117,
          596.3296059144108,
          491.34999084249085,
          254.32478630237662,
          269.1444330536079,
          284.2722037987084,
          208.8867511111111,
          197.13582616235044,
          223.16142982664576,
          159.83775529856666,
          501.07567622106296,
          195.53973584056757,
          509.0684101097769,
          147.37428687160835,
          8206.719367886504,
          482.5746835749032,
          318.7543908778102,
          811.631411685567,
          598.8282889880834,
          971.8973457784857,
          2353.3800269614485,
          380.9050724538993,
          986.3188960080566,
          454.6725439255796,
          259.86254864198276,
          136.57122513492712,
          608.7437981591657,
          1792.3950501844163,
          597.6237311696327,
          471.4333670602455,
          3780.644539208598,
          164.9317311311204,
          472.98212171943703,
          1917.9422733093834,
          324.82723296657906,
          4083.6341338810967,
          1133.8477164202966,
          115.99739687963158,
          2330.690183820991,
          398.1956443349703,
          140.85000559032295,
          419.8809803531998,
          8051.96683947943,
          656.4098823073945,
          173.05869023206614,
          194.27443622590783,
          303.20092980141317,
          411.1298617818827,
          307.20795144498715,
          387.2643304164272,
          565.1751769143485,
          364.2294807187611,
          609.0529998048744,
          326.15468202286536,
          640.983955623324,
          312.3739803109561,
          424.54405932759215,
          640.2584983619752,
          324.7261851878657,
          267.81197239835143,
          343.7029541127175,
          295.34982698919674,
          989.9580722587738,
          462.7259071577925,
          139.01426179035803,
          397.50345411555077,
          564.5733061205073,
          313.91161406651935,
          568.0010651833858,
          900.1210470039579,
          883.9295677921588,
          315.4874634710912,
          480.22687759839266,
          152.76968678272243,
          454.5822383165955,
          404.5538527621756,
          382.618910069868,
          177.4598832228746,
          652.905462856137,
          178.47753790310276,
          965.811188589903,
          301.90285714285716
         ]
        }
       ],
       "layout": {
        "height": 900,
        "legend": {
         "tracegroupgap": 0
        },
        "margin": {
         "b": 25,
         "l": 25,
         "r": 25,
         "t": 25
        },
        "template": {
         "data": {
          "bar": [
           {
            "error_x": {
             "color": "#2a3f5f"
            },
            "error_y": {
             "color": "#2a3f5f"
            },
            "marker": {
             "line": {
              "color": "white",
              "width": 0.5
             },
             "pattern": {
              "fillmode": "overlay",
              "size": 10,
              "solidity": 0.2
             }
            },
            "type": "bar"
           }
          ],
          "barpolar": [
           {
            "marker": {
             "line": {
              "color": "white",
              "width": 0.5
             },
             "pattern": {
              "fillmode": "overlay",
              "size": 10,
              "solidity": 0.2
             }
            },
            "type": "barpolar"
           }
          ],
          "carpet": [
           {
            "aaxis": {
             "endlinecolor": "#2a3f5f",
             "gridcolor": "#C8D4E3",
             "linecolor": "#C8D4E3",
             "minorgridcolor": "#C8D4E3",
             "startlinecolor": "#2a3f5f"
            },
            "baxis": {
             "endlinecolor": "#2a3f5f",
             "gridcolor": "#C8D4E3",
             "linecolor": "#C8D4E3",
             "minorgridcolor": "#C8D4E3",
             "startlinecolor": "#2a3f5f"
            },
            "type": "carpet"
           }
          ],
          "choropleth": [
           {
            "colorbar": {
             "outlinewidth": 0,
             "ticks": ""
            },
            "type": "choropleth"
           }
          ],
          "contour": [
           {
            "colorbar": {
             "outlinewidth": 0,
             "ticks": ""
            },
            "colorscale": [
             [
              0,
              "#0d0887"
             ],
             [
              0.1111111111111111,
              "#46039f"
             ],
             [
              0.2222222222222222,
              "#7201a8"
             ],
             [
              0.3333333333333333,
              "#9c179e"
             ],
             [
              0.4444444444444444,
              "#bd3786"
             ],
             [
              0.5555555555555556,
              "#d8576b"
             ],
             [
              0.6666666666666666,
              "#ed7953"
             ],
             [
              0.7777777777777778,
              "#fb9f3a"
             ],
             [
              0.8888888888888888,
              "#fdca26"
             ],
             [
              1,
              "#f0f921"
             ]
            ],
            "type": "contour"
           }
          ],
          "contourcarpet": [
           {
            "colorbar": {
             "outlinewidth": 0,
             "ticks": ""
            },
            "type": "contourcarpet"
           }
          ],
          "heatmap": [
           {
            "colorbar": {
             "outlinewidth": 0,
             "ticks": ""
            },
            "colorscale": [
             [
              0,
              "#0d0887"
             ],
             [
              0.1111111111111111,
              "#46039f"
             ],
             [
              0.2222222222222222,
              "#7201a8"
             ],
             [
              0.3333333333333333,
              "#9c179e"
             ],
             [
              0.4444444444444444,
              "#bd3786"
             ],
             [
              0.5555555555555556,
              "#d8576b"
             ],
             [
              0.6666666666666666,
              "#ed7953"
             ],
             [
              0.7777777777777778,
              "#fb9f3a"
             ],
             [
              0.8888888888888888,
              "#fdca26"
             ],
             [
              1,
              "#f0f921"
             ]
            ],
            "type": "heatmap"
           }
          ],
          "heatmapgl": [
           {
            "colorbar": {
             "outlinewidth": 0,
             "ticks": ""
            },
            "colorscale": [
             [
              0,
              "#0d0887"
             ],
             [
              0.1111111111111111,
              "#46039f"
             ],
             [
              0.2222222222222222,
              "#7201a8"
             ],
             [
              0.3333333333333333,
              "#9c179e"
             ],
             [
              0.4444444444444444,
              "#bd3786"
             ],
             [
              0.5555555555555556,
              "#d8576b"
             ],
             [
              0.6666666666666666,
              "#ed7953"
             ],
             [
              0.7777777777777778,
              "#fb9f3a"
             ],
             [
              0.8888888888888888,
              "#fdca26"
             ],
             [
              1,
              "#f0f921"
             ]
            ],
            "type": "heatmapgl"
           }
          ],
          "histogram": [
           {
            "marker": {
             "pattern": {
              "fillmode": "overlay",
              "size": 10,
              "solidity": 0.2
             }
            },
            "type": "histogram"
           }
          ],
          "histogram2d": [
           {
            "colorbar": {
             "outlinewidth": 0,
             "ticks": ""
            },
            "colorscale": [
             [
              0,
              "#0d0887"
             ],
             [
              0.1111111111111111,
              "#46039f"
             ],
             [
              0.2222222222222222,
              "#7201a8"
             ],
             [
              0.3333333333333333,
              "#9c179e"
             ],
             [
              0.4444444444444444,
              "#bd3786"
             ],
             [
              0.5555555555555556,
              "#d8576b"
             ],
             [
              0.6666666666666666,
              "#ed7953"
             ],
             [
              0.7777777777777778,
              "#fb9f3a"
             ],
             [
              0.8888888888888888,
              "#fdca26"
             ],
             [
              1,
              "#f0f921"
             ]
            ],
            "type": "histogram2d"
           }
          ],
          "histogram2dcontour": [
           {
            "colorbar": {
             "outlinewidth": 0,
             "ticks": ""
            },
            "colorscale": [
             [
              0,
              "#0d0887"
             ],
             [
              0.1111111111111111,
              "#46039f"
             ],
             [
              0.2222222222222222,
              "#7201a8"
             ],
             [
              0.3333333333333333,
              "#9c179e"
             ],
             [
              0.4444444444444444,
              "#bd3786"
             ],
             [
              0.5555555555555556,
              "#d8576b"
             ],
             [
              0.6666666666666666,
              "#ed7953"
             ],
             [
              0.7777777777777778,
              "#fb9f3a"
             ],
             [
              0.8888888888888888,
              "#fdca26"
             ],
             [
              1,
              "#f0f921"
             ]
            ],
            "type": "histogram2dcontour"
           }
          ],
          "mesh3d": [
           {
            "colorbar": {
             "outlinewidth": 0,
             "ticks": ""
            },
            "type": "mesh3d"
           }
          ],
          "parcoords": [
           {
            "line": {
             "colorbar": {
              "outlinewidth": 0,
              "ticks": ""
             }
            },
            "type": "parcoords"
           }
          ],
          "pie": [
           {
            "automargin": true,
            "type": "pie"
           }
          ],
          "scatter": [
           {
            "marker": {
             "colorbar": {
              "outlinewidth": 0,
              "ticks": ""
             }
            },
            "type": "scatter"
           }
          ],
          "scatter3d": [
           {
            "line": {
             "colorbar": {
              "outlinewidth": 0,
              "ticks": ""
             }
            },
            "marker": {
             "colorbar": {
              "outlinewidth": 0,
              "ticks": ""
             }
            },
            "type": "scatter3d"
           }
          ],
          "scattercarpet": [
           {
            "marker": {
             "colorbar": {
              "outlinewidth": 0,
              "ticks": ""
             }
            },
            "type": "scattercarpet"
           }
          ],
          "scattergeo": [
           {
            "marker": {
             "colorbar": {
              "outlinewidth": 0,
              "ticks": ""
             }
            },
            "type": "scattergeo"
           }
          ],
          "scattergl": [
           {
            "marker": {
             "colorbar": {
              "outlinewidth": 0,
              "ticks": ""
             }
            },
            "type": "scattergl"
           }
          ],
          "scattermapbox": [
           {
            "marker": {
             "colorbar": {
              "outlinewidth": 0,
              "ticks": ""
             }
            },
            "type": "scattermapbox"
           }
          ],
          "scatterpolar": [
           {
            "marker": {
             "colorbar": {
              "outlinewidth": 0,
              "ticks": ""
             }
            },
            "type": "scatterpolar"
           }
          ],
          "scatterpolargl": [
           {
            "marker": {
             "colorbar": {
              "outlinewidth": 0,
              "ticks": ""
             }
            },
            "type": "scatterpolargl"
           }
          ],
          "scatterternary": [
           {
            "marker": {
             "colorbar": {
              "outlinewidth": 0,
              "ticks": ""
             }
            },
            "type": "scatterternary"
           }
          ],
          "surface": [
           {
            "colorbar": {
             "outlinewidth": 0,
             "ticks": ""
            },
            "colorscale": [
             [
              0,
              "#0d0887"
             ],
             [
              0.1111111111111111,
              "#46039f"
             ],
             [
              0.2222222222222222,
              "#7201a8"
             ],
             [
              0.3333333333333333,
              "#9c179e"
             ],
             [
              0.4444444444444444,
              "#bd3786"
             ],
             [
              0.5555555555555556,
              "#d8576b"
             ],
             [
              0.6666666666666666,
              "#ed7953"
             ],
             [
              0.7777777777777778,
              "#fb9f3a"
             ],
             [
              0.8888888888888888,
              "#fdca26"
             ],
             [
              1,
              "#f0f921"
             ]
            ],
            "type": "surface"
           }
          ],
          "table": [
           {
            "cells": {
             "fill": {
              "color": "#EBF0F8"
             },
             "line": {
              "color": "white"
             }
            },
            "header": {
             "fill": {
              "color": "#C8D4E3"
             },
             "line": {
              "color": "white"
             }
            },
            "type": "table"
           }
          ]
         },
         "layout": {
          "annotationdefaults": {
           "arrowcolor": "#2a3f5f",
           "arrowhead": 0,
           "arrowwidth": 1
          },
          "autotypenumbers": "strict",
          "coloraxis": {
           "colorbar": {
            "outlinewidth": 0,
            "ticks": ""
           }
          },
          "colorscale": {
           "diverging": [
            [
             0,
             "#8e0152"
            ],
            [
             0.1,
             "#c51b7d"
            ],
            [
             0.2,
             "#de77ae"
            ],
            [
             0.3,
             "#f1b6da"
            ],
            [
             0.4,
             "#fde0ef"
            ],
            [
             0.5,
             "#f7f7f7"
            ],
            [
             0.6,
             "#e6f5d0"
            ],
            [
             0.7,
             "#b8e186"
            ],
            [
             0.8,
             "#7fbc41"
            ],
            [
             0.9,
             "#4d9221"
            ],
            [
             1,
             "#276419"
            ]
           ],
           "sequential": [
            [
             0,
             "#0d0887"
            ],
            [
             0.1111111111111111,
             "#46039f"
            ],
            [
             0.2222222222222222,
             "#7201a8"
            ],
            [
             0.3333333333333333,
             "#9c179e"
            ],
            [
             0.4444444444444444,
             "#bd3786"
            ],
            [
             0.5555555555555556,
             "#d8576b"
            ],
            [
             0.6666666666666666,
             "#ed7953"
            ],
            [
             0.7777777777777778,
             "#fb9f3a"
            ],
            [
             0.8888888888888888,
             "#fdca26"
            ],
            [
             1,
             "#f0f921"
            ]
           ],
           "sequentialminus": [
            [
             0,
             "#0d0887"
            ],
            [
             0.1111111111111111,
             "#46039f"
            ],
            [
             0.2222222222222222,
             "#7201a8"
            ],
            [
             0.3333333333333333,
             "#9c179e"
            ],
            [
             0.4444444444444444,
             "#bd3786"
            ],
            [
             0.5555555555555556,
             "#d8576b"
            ],
            [
             0.6666666666666666,
             "#ed7953"
            ],
            [
             0.7777777777777778,
             "#fb9f3a"
            ],
            [
             0.8888888888888888,
             "#fdca26"
            ],
            [
             1,
             "#f0f921"
            ]
           ]
          },
          "colorway": [
           "#636efa",
           "#EF553B",
           "#00cc96",
           "#ab63fa",
           "#FFA15A",
           "#19d3f3",
           "#FF6692",
           "#B6E880",
           "#FF97FF",
           "#FECB52"
          ],
          "font": {
           "color": "#2a3f5f"
          },
          "geo": {
           "bgcolor": "white",
           "lakecolor": "white",
           "landcolor": "white",
           "showlakes": true,
           "showland": true,
           "subunitcolor": "#C8D4E3"
          },
          "hoverlabel": {
           "align": "left"
          },
          "hovermode": "closest",
          "mapbox": {
           "style": "light"
          },
          "paper_bgcolor": "white",
          "plot_bgcolor": "white",
          "polar": {
           "angularaxis": {
            "gridcolor": "#EBF0F8",
            "linecolor": "#EBF0F8",
            "ticks": ""
           },
           "bgcolor": "white",
           "radialaxis": {
            "gridcolor": "#EBF0F8",
            "linecolor": "#EBF0F8",
            "ticks": ""
           }
          },
          "scene": {
           "xaxis": {
            "backgroundcolor": "white",
            "gridcolor": "#DFE8F3",
            "gridwidth": 2,
            "linecolor": "#EBF0F8",
            "showbackground": true,
            "ticks": "",
            "zerolinecolor": "#EBF0F8"
           },
           "yaxis": {
            "backgroundcolor": "white",
            "gridcolor": "#DFE8F3",
            "gridwidth": 2,
            "linecolor": "#EBF0F8",
            "showbackground": true,
            "ticks": "",
            "zerolinecolor": "#EBF0F8"
           },
           "zaxis": {
            "backgroundcolor": "white",
            "gridcolor": "#DFE8F3",
            "gridwidth": 2,
            "linecolor": "#EBF0F8",
            "showbackground": true,
            "ticks": "",
            "zerolinecolor": "#EBF0F8"
           }
          },
          "shapedefaults": {
           "line": {
            "color": "#2a3f5f"
           }
          },
          "ternary": {
           "aaxis": {
            "gridcolor": "#DFE8F3",
            "linecolor": "#A2B1C6",
            "ticks": ""
           },
           "baxis": {
            "gridcolor": "#DFE8F3",
            "linecolor": "#A2B1C6",
            "ticks": ""
           },
           "bgcolor": "white",
           "caxis": {
            "gridcolor": "#DFE8F3",
            "linecolor": "#A2B1C6",
            "ticks": ""
           }
          },
          "title": {
           "x": 0.05
          },
          "xaxis": {
           "automargin": true,
           "gridcolor": "#EBF0F8",
           "linecolor": "#EBF0F8",
           "ticks": "",
           "title": {
            "standoff": 15
           },
           "zerolinecolor": "#EBF0F8",
           "zerolinewidth": 2
          },
          "yaxis": {
           "automargin": true,
           "gridcolor": "#EBF0F8",
           "linecolor": "#EBF0F8",
           "ticks": "",
           "title": {
            "standoff": 15
           },
           "zerolinecolor": "#EBF0F8",
           "zerolinewidth": 2
          }
         }
        }
       }
      }
     },
     "metadata": {},
     "output_type": "display_data"
    },
    {
     "data": {
      "text/plain": [
       "<function __main__.update_treemap(tipo, zona)>"
      ]
     },
     "execution_count": 466,
     "metadata": {},
     "output_type": "execute_result"
    }
   ],
   "source": [
    "#Treemap\n",
    "dropdown_avg_tot = widgets.Dropdown(\n",
    "    value='MEAN', \n",
    "    options=['MEAN','SIZE'], \n",
    "    description='VITAMINA D :'\n",
    ")\n",
    "\n",
    "\n",
    "dropdown_zona = widgets.Dropdown(\n",
    "    value='ALL', \n",
    "    options=['ALL','Norte', 'Centro', 'Sur'], \n",
    "    description='Zona :'\n",
    ")\n",
    "\n",
    "widgets.interact(update_treemap, tipo = dropdown_avg_tot, zona=dropdown_zona) "
   ]
  },
  {
   "cell_type": "code",
   "execution_count": 467,
   "metadata": {},
   "outputs": [
    {
     "data": {
      "application/vnd.jupyter.widget-view+json": {
       "model_id": "60afbb98766140d7b5a7d3981c6e7ae1",
       "version_major": 2,
       "version_minor": 0
      },
      "text/plain": [
       "interactive(children=(Dropdown(description='VITAMINA D :', options=('MEAN', 'SIZE'), value='MEAN'), Dropdown(d…"
      ]
     },
     "metadata": {},
     "output_type": "display_data"
    },
    {
     "data": {
      "application/vnd.plotly.v1+json": {
       "config": {
        "plotlyServerURL": "https://plot.ly"
       },
       "data": [
        {
         "branchvalues": "total",
         "hovertemplate": "<b>%{label}:</b> <br> Total : %{value} <extra></extra>",
         "ids": [
          "2018/Deficiente/Adulto",
          "2019/Deficiente/Adulto",
          "2020/Deficiente/Adulto",
          "2021/Deficiente/Adulto",
          "2018/Deseable/Adulto",
          "2019/Deseable/Adulto",
          "2020/Deseable/Adulto",
          "2021/Deseable/Adulto",
          "2018/Deficiente/Niño",
          "2019/Deficiente/Niño",
          "2020/Deficiente/Niño",
          "2021/Deficiente/Niño",
          "2018/Deseable/Niño",
          "2019/Deseable/Niño",
          "2020/Deseable/Niño",
          "2021/Deseable/Niño",
          "2018/Deficiente",
          "2019/Deficiente",
          "2020/Deficiente",
          "2021/Deficiente",
          "2018/Deseable",
          "2019/Deseable",
          "2020/Deseable",
          "2021/Deseable",
          "2018",
          "2019",
          "2020",
          "2021"
         ],
         "labels": [
          "Adulto",
          "Adulto",
          "Adulto",
          "Adulto",
          "Adulto",
          "Adulto",
          "Adulto",
          "Adulto",
          "Niño",
          "Niño",
          "Niño",
          "Niño",
          "Niño",
          "Niño",
          "Niño",
          "Niño",
          "Deficiente",
          "Deficiente",
          "Deficiente",
          "Deficiente",
          "Deseable",
          "Deseable",
          "Deseable",
          "Deseable",
          "2018",
          "2019",
          "2020",
          "2021"
         ],
         "marker": {
          "colors": [
           "#ce281f",
           "#ce281f",
           "#ce281f",
           "#ce281f",
           "#8eef44",
           "#8eef44",
           "#8eef44",
           "#8eef44",
           "#ce281f",
           "#ce281f",
           "#ce281f",
           "#ce281f",
           "#8eef44",
           "#8eef44",
           "#8eef44",
           "#8eef44",
           "#ce281f",
           "#ce281f",
           "#ce281f",
           "#ce281f",
           "#8eef44",
           "#8eef44",
           "#8eef44",
           "#8eef44",
           "#ec722e",
           "#7dc343",
           "#64a2d8",
           "#eed842"
          ]
         },
         "maxdepth": 3,
         "parents": [
          "2018/Deficiente",
          "2019/Deficiente",
          "2020/Deficiente",
          "2021/Deficiente",
          "2018/Deseable",
          "2019/Deseable",
          "2020/Deseable",
          "2021/Deseable",
          "2018/Deficiente",
          "2019/Deficiente",
          "2020/Deficiente",
          "2021/Deficiente",
          "2018/Deseable",
          "2019/Deseable",
          "2020/Deseable",
          "2021/Deseable",
          "2018",
          "2019",
          "2020",
          "2021",
          "2018",
          "2019",
          "2020",
          "2021",
          "",
          "",
          "",
          ""
         ],
         "textfont": {
          "size": 14
         },
         "textinfo": "label+percent parent",
         "type": "sunburst",
         "values": [
          5004.273702716016,
          5669.273425214209,
          5513.5526585016905,
          5104.629168041503,
          11060.409183908878,
          11409.749395984638,
          11518.307343390417,
          11508.892084671208,
          5031.330612578611,
          6023.452842703978,
          5408.9939015503805,
          4955.189552971811,
          7192.990489365954,
          9724.401807643191,
          8330.84747138646,
          10639.156552233197,
          10035.604315294628,
          11692.726267918188,
          10922.546560052071,
          10059.818721013315,
          18253.39967327483,
          21134.15120362783,
          19849.154814776877,
          22148.048636904405,
          28289.003988569457,
          32826.87747154602,
          30771.701374828946,
          32207.86735791772
         ]
        }
       ],
       "layout": {
        "height": 900,
        "template": {
         "data": {
          "bar": [
           {
            "error_x": {
             "color": "#2a3f5f"
            },
            "error_y": {
             "color": "#2a3f5f"
            },
            "marker": {
             "line": {
              "color": "white",
              "width": 0.5
             },
             "pattern": {
              "fillmode": "overlay",
              "size": 10,
              "solidity": 0.2
             }
            },
            "type": "bar"
           }
          ],
          "barpolar": [
           {
            "marker": {
             "line": {
              "color": "white",
              "width": 0.5
             },
             "pattern": {
              "fillmode": "overlay",
              "size": 10,
              "solidity": 0.2
             }
            },
            "type": "barpolar"
           }
          ],
          "carpet": [
           {
            "aaxis": {
             "endlinecolor": "#2a3f5f",
             "gridcolor": "#C8D4E3",
             "linecolor": "#C8D4E3",
             "minorgridcolor": "#C8D4E3",
             "startlinecolor": "#2a3f5f"
            },
            "baxis": {
             "endlinecolor": "#2a3f5f",
             "gridcolor": "#C8D4E3",
             "linecolor": "#C8D4E3",
             "minorgridcolor": "#C8D4E3",
             "startlinecolor": "#2a3f5f"
            },
            "type": "carpet"
           }
          ],
          "choropleth": [
           {
            "colorbar": {
             "outlinewidth": 0,
             "ticks": ""
            },
            "type": "choropleth"
           }
          ],
          "contour": [
           {
            "colorbar": {
             "outlinewidth": 0,
             "ticks": ""
            },
            "colorscale": [
             [
              0,
              "#0d0887"
             ],
             [
              0.1111111111111111,
              "#46039f"
             ],
             [
              0.2222222222222222,
              "#7201a8"
             ],
             [
              0.3333333333333333,
              "#9c179e"
             ],
             [
              0.4444444444444444,
              "#bd3786"
             ],
             [
              0.5555555555555556,
              "#d8576b"
             ],
             [
              0.6666666666666666,
              "#ed7953"
             ],
             [
              0.7777777777777778,
              "#fb9f3a"
             ],
             [
              0.8888888888888888,
              "#fdca26"
             ],
             [
              1,
              "#f0f921"
             ]
            ],
            "type": "contour"
           }
          ],
          "contourcarpet": [
           {
            "colorbar": {
             "outlinewidth": 0,
             "ticks": ""
            },
            "type": "contourcarpet"
           }
          ],
          "heatmap": [
           {
            "colorbar": {
             "outlinewidth": 0,
             "ticks": ""
            },
            "colorscale": [
             [
              0,
              "#0d0887"
             ],
             [
              0.1111111111111111,
              "#46039f"
             ],
             [
              0.2222222222222222,
              "#7201a8"
             ],
             [
              0.3333333333333333,
              "#9c179e"
             ],
             [
              0.4444444444444444,
              "#bd3786"
             ],
             [
              0.5555555555555556,
              "#d8576b"
             ],
             [
              0.6666666666666666,
              "#ed7953"
             ],
             [
              0.7777777777777778,
              "#fb9f3a"
             ],
             [
              0.8888888888888888,
              "#fdca26"
             ],
             [
              1,
              "#f0f921"
             ]
            ],
            "type": "heatmap"
           }
          ],
          "heatmapgl": [
           {
            "colorbar": {
             "outlinewidth": 0,
             "ticks": ""
            },
            "colorscale": [
             [
              0,
              "#0d0887"
             ],
             [
              0.1111111111111111,
              "#46039f"
             ],
             [
              0.2222222222222222,
              "#7201a8"
             ],
             [
              0.3333333333333333,
              "#9c179e"
             ],
             [
              0.4444444444444444,
              "#bd3786"
             ],
             [
              0.5555555555555556,
              "#d8576b"
             ],
             [
              0.6666666666666666,
              "#ed7953"
             ],
             [
              0.7777777777777778,
              "#fb9f3a"
             ],
             [
              0.8888888888888888,
              "#fdca26"
             ],
             [
              1,
              "#f0f921"
             ]
            ],
            "type": "heatmapgl"
           }
          ],
          "histogram": [
           {
            "marker": {
             "pattern": {
              "fillmode": "overlay",
              "size": 10,
              "solidity": 0.2
             }
            },
            "type": "histogram"
           }
          ],
          "histogram2d": [
           {
            "colorbar": {
             "outlinewidth": 0,
             "ticks": ""
            },
            "colorscale": [
             [
              0,
              "#0d0887"
             ],
             [
              0.1111111111111111,
              "#46039f"
             ],
             [
              0.2222222222222222,
              "#7201a8"
             ],
             [
              0.3333333333333333,
              "#9c179e"
             ],
             [
              0.4444444444444444,
              "#bd3786"
             ],
             [
              0.5555555555555556,
              "#d8576b"
             ],
             [
              0.6666666666666666,
              "#ed7953"
             ],
             [
              0.7777777777777778,
              "#fb9f3a"
             ],
             [
              0.8888888888888888,
              "#fdca26"
             ],
             [
              1,
              "#f0f921"
             ]
            ],
            "type": "histogram2d"
           }
          ],
          "histogram2dcontour": [
           {
            "colorbar": {
             "outlinewidth": 0,
             "ticks": ""
            },
            "colorscale": [
             [
              0,
              "#0d0887"
             ],
             [
              0.1111111111111111,
              "#46039f"
             ],
             [
              0.2222222222222222,
              "#7201a8"
             ],
             [
              0.3333333333333333,
              "#9c179e"
             ],
             [
              0.4444444444444444,
              "#bd3786"
             ],
             [
              0.5555555555555556,
              "#d8576b"
             ],
             [
              0.6666666666666666,
              "#ed7953"
             ],
             [
              0.7777777777777778,
              "#fb9f3a"
             ],
             [
              0.8888888888888888,
              "#fdca26"
             ],
             [
              1,
              "#f0f921"
             ]
            ],
            "type": "histogram2dcontour"
           }
          ],
          "mesh3d": [
           {
            "colorbar": {
             "outlinewidth": 0,
             "ticks": ""
            },
            "type": "mesh3d"
           }
          ],
          "parcoords": [
           {
            "line": {
             "colorbar": {
              "outlinewidth": 0,
              "ticks": ""
             }
            },
            "type": "parcoords"
           }
          ],
          "pie": [
           {
            "automargin": true,
            "type": "pie"
           }
          ],
          "scatter": [
           {
            "marker": {
             "colorbar": {
              "outlinewidth": 0,
              "ticks": ""
             }
            },
            "type": "scatter"
           }
          ],
          "scatter3d": [
           {
            "line": {
             "colorbar": {
              "outlinewidth": 0,
              "ticks": ""
             }
            },
            "marker": {
             "colorbar": {
              "outlinewidth": 0,
              "ticks": ""
             }
            },
            "type": "scatter3d"
           }
          ],
          "scattercarpet": [
           {
            "marker": {
             "colorbar": {
              "outlinewidth": 0,
              "ticks": ""
             }
            },
            "type": "scattercarpet"
           }
          ],
          "scattergeo": [
           {
            "marker": {
             "colorbar": {
              "outlinewidth": 0,
              "ticks": ""
             }
            },
            "type": "scattergeo"
           }
          ],
          "scattergl": [
           {
            "marker": {
             "colorbar": {
              "outlinewidth": 0,
              "ticks": ""
             }
            },
            "type": "scattergl"
           }
          ],
          "scattermapbox": [
           {
            "marker": {
             "colorbar": {
              "outlinewidth": 0,
              "ticks": ""
             }
            },
            "type": "scattermapbox"
           }
          ],
          "scatterpolar": [
           {
            "marker": {
             "colorbar": {
              "outlinewidth": 0,
              "ticks": ""
             }
            },
            "type": "scatterpolar"
           }
          ],
          "scatterpolargl": [
           {
            "marker": {
             "colorbar": {
              "outlinewidth": 0,
              "ticks": ""
             }
            },
            "type": "scatterpolargl"
           }
          ],
          "scatterternary": [
           {
            "marker": {
             "colorbar": {
              "outlinewidth": 0,
              "ticks": ""
             }
            },
            "type": "scatterternary"
           }
          ],
          "surface": [
           {
            "colorbar": {
             "outlinewidth": 0,
             "ticks": ""
            },
            "colorscale": [
             [
              0,
              "#0d0887"
             ],
             [
              0.1111111111111111,
              "#46039f"
             ],
             [
              0.2222222222222222,
              "#7201a8"
             ],
             [
              0.3333333333333333,
              "#9c179e"
             ],
             [
              0.4444444444444444,
              "#bd3786"
             ],
             [
              0.5555555555555556,
              "#d8576b"
             ],
             [
              0.6666666666666666,
              "#ed7953"
             ],
             [
              0.7777777777777778,
              "#fb9f3a"
             ],
             [
              0.8888888888888888,
              "#fdca26"
             ],
             [
              1,
              "#f0f921"
             ]
            ],
            "type": "surface"
           }
          ],
          "table": [
           {
            "cells": {
             "fill": {
              "color": "#EBF0F8"
             },
             "line": {
              "color": "white"
             }
            },
            "header": {
             "fill": {
              "color": "#C8D4E3"
             },
             "line": {
              "color": "white"
             }
            },
            "type": "table"
           }
          ]
         },
         "layout": {
          "annotationdefaults": {
           "arrowcolor": "#2a3f5f",
           "arrowhead": 0,
           "arrowwidth": 1
          },
          "autotypenumbers": "strict",
          "coloraxis": {
           "colorbar": {
            "outlinewidth": 0,
            "ticks": ""
           }
          },
          "colorscale": {
           "diverging": [
            [
             0,
             "#8e0152"
            ],
            [
             0.1,
             "#c51b7d"
            ],
            [
             0.2,
             "#de77ae"
            ],
            [
             0.3,
             "#f1b6da"
            ],
            [
             0.4,
             "#fde0ef"
            ],
            [
             0.5,
             "#f7f7f7"
            ],
            [
             0.6,
             "#e6f5d0"
            ],
            [
             0.7,
             "#b8e186"
            ],
            [
             0.8,
             "#7fbc41"
            ],
            [
             0.9,
             "#4d9221"
            ],
            [
             1,
             "#276419"
            ]
           ],
           "sequential": [
            [
             0,
             "#0d0887"
            ],
            [
             0.1111111111111111,
             "#46039f"
            ],
            [
             0.2222222222222222,
             "#7201a8"
            ],
            [
             0.3333333333333333,
             "#9c179e"
            ],
            [
             0.4444444444444444,
             "#bd3786"
            ],
            [
             0.5555555555555556,
             "#d8576b"
            ],
            [
             0.6666666666666666,
             "#ed7953"
            ],
            [
             0.7777777777777778,
             "#fb9f3a"
            ],
            [
             0.8888888888888888,
             "#fdca26"
            ],
            [
             1,
             "#f0f921"
            ]
           ],
           "sequentialminus": [
            [
             0,
             "#0d0887"
            ],
            [
             0.1111111111111111,
             "#46039f"
            ],
            [
             0.2222222222222222,
             "#7201a8"
            ],
            [
             0.3333333333333333,
             "#9c179e"
            ],
            [
             0.4444444444444444,
             "#bd3786"
            ],
            [
             0.5555555555555556,
             "#d8576b"
            ],
            [
             0.6666666666666666,
             "#ed7953"
            ],
            [
             0.7777777777777778,
             "#fb9f3a"
            ],
            [
             0.8888888888888888,
             "#fdca26"
            ],
            [
             1,
             "#f0f921"
            ]
           ]
          },
          "colorway": [
           "#636efa",
           "#EF553B",
           "#00cc96",
           "#ab63fa",
           "#FFA15A",
           "#19d3f3",
           "#FF6692",
           "#B6E880",
           "#FF97FF",
           "#FECB52"
          ],
          "font": {
           "color": "#2a3f5f"
          },
          "geo": {
           "bgcolor": "white",
           "lakecolor": "white",
           "landcolor": "white",
           "showlakes": true,
           "showland": true,
           "subunitcolor": "#C8D4E3"
          },
          "hoverlabel": {
           "align": "left"
          },
          "hovermode": "closest",
          "mapbox": {
           "style": "light"
          },
          "paper_bgcolor": "white",
          "plot_bgcolor": "white",
          "polar": {
           "angularaxis": {
            "gridcolor": "#EBF0F8",
            "linecolor": "#EBF0F8",
            "ticks": ""
           },
           "bgcolor": "white",
           "radialaxis": {
            "gridcolor": "#EBF0F8",
            "linecolor": "#EBF0F8",
            "ticks": ""
           }
          },
          "scene": {
           "xaxis": {
            "backgroundcolor": "white",
            "gridcolor": "#DFE8F3",
            "gridwidth": 2,
            "linecolor": "#EBF0F8",
            "showbackground": true,
            "ticks": "",
            "zerolinecolor": "#EBF0F8"
           },
           "yaxis": {
            "backgroundcolor": "white",
            "gridcolor": "#DFE8F3",
            "gridwidth": 2,
            "linecolor": "#EBF0F8",
            "showbackground": true,
            "ticks": "",
            "zerolinecolor": "#EBF0F8"
           },
           "zaxis": {
            "backgroundcolor": "white",
            "gridcolor": "#DFE8F3",
            "gridwidth": 2,
            "linecolor": "#EBF0F8",
            "showbackground": true,
            "ticks": "",
            "zerolinecolor": "#EBF0F8"
           }
          },
          "shapedefaults": {
           "line": {
            "color": "#2a3f5f"
           }
          },
          "ternary": {
           "aaxis": {
            "gridcolor": "#DFE8F3",
            "linecolor": "#A2B1C6",
            "ticks": ""
           },
           "baxis": {
            "gridcolor": "#DFE8F3",
            "linecolor": "#A2B1C6",
            "ticks": ""
           },
           "bgcolor": "white",
           "caxis": {
            "gridcolor": "#DFE8F3",
            "linecolor": "#A2B1C6",
            "ticks": ""
           }
          },
          "title": {
           "x": 0.05
          },
          "xaxis": {
           "automargin": true,
           "gridcolor": "#EBF0F8",
           "linecolor": "#EBF0F8",
           "ticks": "",
           "title": {
            "standoff": 15
           },
           "zerolinecolor": "#EBF0F8",
           "zerolinewidth": 2
          },
          "yaxis": {
           "automargin": true,
           "gridcolor": "#EBF0F8",
           "linecolor": "#EBF0F8",
           "ticks": "",
           "title": {
            "standoff": 15
           },
           "zerolinecolor": "#EBF0F8",
           "zerolinewidth": 2
          }
         }
        },
        "title": {
         "text": "GRAFICO SUNBURTS DISTRIBUCION VITAMINA D"
        }
       }
      }
     },
     "metadata": {},
     "output_type": "display_data"
    },
    {
     "data": {
      "text/plain": [
       "<function __main__.update_sunburts(tipo, year)>"
      ]
     },
     "execution_count": 467,
     "metadata": {},
     "output_type": "execute_result"
    }
   ],
   "source": [
    "#Sunburts\n",
    "dropdown_año = widgets.Dropdown(\n",
    "    value='ALL', \n",
    "    options=['ALL','2018', '2019', '2020', '2021'], \n",
    "    description='Año :'\n",
    ")\n",
    "\n",
    "dropdown_avg_tot = widgets.Dropdown(\n",
    "    value='MEAN', \n",
    "    options=['MEAN','SIZE'], \n",
    "    description='VITAMINA D :'\n",
    ")\n",
    "\n",
    "widgets.interact(update_sunburts, tipo=dropdown_avg_tot, year = dropdown_año) \n"
   ]
  }
 ],
 "metadata": {
  "kernelspec": {
   "display_name": "Python 3.9.12 ('base')",
   "language": "python",
   "name": "python3"
  },
  "language_info": {
   "codemirror_mode": {
    "name": "ipython",
    "version": 3
   },
   "file_extension": ".py",
   "mimetype": "text/x-python",
   "name": "python",
   "nbconvert_exporter": "python",
   "pygments_lexer": "ipython3",
   "version": "3.9.12"
  },
  "orig_nbformat": 4,
  "vscode": {
   "interpreter": {
    "hash": "476a13b78396884429a9e59bf86822666fa5c313319458a9e6e955588e8d0531"
   }
  }
 },
 "nbformat": 4,
 "nbformat_minor": 2
}
