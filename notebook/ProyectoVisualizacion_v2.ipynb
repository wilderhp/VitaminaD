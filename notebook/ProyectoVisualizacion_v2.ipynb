{
 "cells": [
  {
   "cell_type": "markdown",
   "metadata": {},
   "source": [
    "## Trabajo Visualización de datos UDD:\n",
    "\n",
    "Objetivos:\n",
    "\n",
    "\n",
    "Alumnos:\n",
    "\n",
    "| Alumno | Email |\n",
    "|--------|-------|\n",
    "|Carolina Hoffman | chofmman@udd.cl |\n",
    "|Wilder Prado     | wilderhp@gmail.com |\n",
    "|Effry Vigorena   | effryvg@gmail.com |\n",
    "|Felipe Guzmán    | felipeguzmanv@gmail.com|\n",
    "\n",
    "\n",
    "\n"
   ]
  },
  {
   "cell_type": "code",
   "execution_count": 30,
   "metadata": {},
   "outputs": [],
   "source": [
    "## Librerias\n",
    "\n",
    "import numpy as np\n",
    "import pandas as pd\n",
    "#import geopandas as gpd\n",
    "\n",
    "import seaborn as sns\n",
    "import matplotlib.pyplot as plt\n",
    "from matplotlib.offsetbox import (OffsetImage, AnnotationBbox)\n",
    "from matplotlib.patches import ConnectionPatch\n",
    "from matplotlib.text import OffsetFrom\n",
    "import matplotlib.image as image\n",
    "\n",
    "\n",
    "\n",
    "import plotly as px\n",
    "import plotly.graph_objs as go\n",
    "import plotly.express as px\n",
    "import ipywidgets as widgets\n",
    "from plotly.subplots import make_subplots\n",
    "\n",
    "\n",
    "import warnings\n",
    "warnings.filterwarnings('ignore')\n",
    "\n",
    "\n"
   ]
  },
  {
   "cell_type": "markdown",
   "metadata": {},
   "source": [
    "II. Visualización sunburst"
   ]
  },
  {
   "cell_type": "code",
   "execution_count": 31,
   "metadata": {},
   "outputs": [],
   "source": [
    "## Funciones a ocupar\n",
    "\n",
    "def update_treemap(zona):\n",
    "  global df_filter_T\n",
    " \n",
    "  if zona !=\"ALL\":\n",
    "    df = df_filter_T.query(f\"MACROZONA == '{zona.upper()}'\")\n",
    "  else:\n",
    "    df = df_filter_T\n",
    "\n",
    "  val='RESULTADO_VAL'\n",
    "  txt=\"GRAFICO TREEMAP - SIZE VITAMINA D\"\n",
    "\n",
    "  fig = px.treemap(df, values=val,path = [px.Constant(txt),'AÑO','MACROZONA','ESTACIONES_AÑO','VIT_D_TXT'],\n",
    "                color='VIT_D_TXT', \n",
    "                color_discrete_map={'Deficiente':'#ce281f',\n",
    "                                     'Deseable':'#8eef44'}                \n",
    "                 )\n",
    "  cm = {txt:\"#f2f6fa\"}\n",
    "\n",
    "  fig.for_each_trace(\n",
    "    lambda t: t.update(\n",
    "        marker_colors=[\n",
    "            cm[id.split(\"/\")[0]] if len(id.split(\"/\")) == 1 else c\n",
    "            for c, id in zip(t.marker.colors, t.ids)\n",
    "          ]        \n",
    "      )\n",
    "    )\n",
    "  \n",
    "  cm = {\n",
    "    \"2018\":\"#ec722e\",\n",
    "    \"2019\":\"#7dc343\",\n",
    "    \"2020\":\"#64a2d8\",\n",
    "    \"2021\":\"#eed842\"\n",
    "  }\n",
    "\n",
    "  fig.for_each_trace(\n",
    "    lambda t: t.update(\n",
    "        marker_colors=[\n",
    "            cm[id.split(\"/\")[1]] if len(id.split(\"/\")) == 2 else c\n",
    "            for c, id in zip(t.marker.colors, t.ids)\n",
    "          ]        \n",
    "      )\n",
    "    )\n",
    "\n",
    "  cm = {\n",
    "    \"NORTE\": \"#e6dc77\",\n",
    "    \"CENTRO\": \"#b8d6b1\",\n",
    "    \"SUR\": \"#64aee5\"\n",
    "  }\n",
    "\n",
    "  fig.for_each_trace(\n",
    "    lambda t: t.update(\n",
    "        marker_colors=[\n",
    "            cm[id.split(\"/\")[2]] if len(id.split(\"/\")) == 3 else c\n",
    "            for c, id in zip(t.marker.colors, t.ids)\n",
    "          ]        \n",
    "      )\n",
    "    )\n",
    "\n",
    "  cm = {\n",
    "    \"PRIMAVERA\": \"Green\",\n",
    "    \"VERANO\": \"#F5761A\",\n",
    "    \"OTOÑO\": \"Brown\",\n",
    "    \"INVIERNO\": \"#6082B6\"\n",
    "  }\n",
    "  fig.for_each_trace(\n",
    "    lambda t: t.update(\n",
    "        marker_colors=[\n",
    "            cm[id.split(\"/\")[3]] if len(id.split(\"/\")) == 4 else c\n",
    "            for c, id in zip(t.marker.colors, t.ids)\n",
    "          ]        \n",
    "      )\n",
    "    )\n",
    "\n",
    "  fig.update_layout(margin = dict(t=25, l=25, r=25, b=25)) \n",
    "\n",
    "  fig.update_layout(   \n",
    "    template=\"plotly_white\",\n",
    "    height = 900\n",
    "  )\n",
    "\n",
    "  fig.update_traces(textinfo=\"label+percent parent\") \n",
    "  fig.data[0]['textfont']['size'] = 14\n",
    "  fig.show() \n",
    "\n",
    "def update_sunburts(year):\n",
    "  global df_filter_R\n",
    "  \n",
    "  val='RESULTADO_VAL'\n",
    "  txt=\"GRAFICO TREEMAP - SIZE VITAMINA D\"\n",
    "    \n",
    "  if year !=\"ALL\":\n",
    "    df = df_filter_R.query(f\"AÑO == {year}\")\n",
    "  else:\n",
    "    df = df_filter_R\n",
    "    \n",
    "  fig2 = px.sunburst(df, path=['AÑO',\"VIT_D_TXT\", 'ADULTO_NIÑO'], values=val)\n",
    "  \n",
    "  colores={\"Adulto\":\"#caccd1\",\n",
    "  \"Niño\":\"#00a4e4\",\n",
    "  \"Deficiente\":\"#ce281f\",\n",
    "  \"Deseable\":\"#8eef44\",\n",
    "  \"2018\":\"#ec722e\",\n",
    "  \"2019\":\"#7dc343\",\n",
    "  \"2020\":\"#64a2d8\",\n",
    "  \"2021\":\"#eed842\"}\n",
    "\n",
    "  for t in fig2.data:\n",
    "    lista = t.labels\n",
    "    lista_p = t.parents\n",
    "\n",
    "  colors = []\n",
    "\n",
    "  for p in range(0,len(lista)):\n",
    "    if len(lista_p[p].split(\"/\"))==2:\n",
    "      colors.append(colores[lista_p[p].split(\"/\")[1]])\n",
    "    else: \n",
    "      colors.append(colores[lista[p]])\n",
    "\n",
    "  fig = go.Figure(go.Sunburst(\n",
    "        labels=fig2['data'][0]['labels'],\n",
    "        parents=fig2['data'][0]['parents'],\n",
    "        values=4*fig2['data'][0]['values'],\n",
    "        ids=fig2['data'][0]['ids'],\n",
    "        branchvalues='total',\n",
    "        marker=dict(colors=colors),\n",
    "        hovertemplate='<b>%{label}:</b> <br> Total : %{value} <extra></extra>',\n",
    "        maxdepth=3\n",
    "      ))\n",
    "  \n",
    "  fig.update_layout(   \n",
    "    template=\"plotly_white\",\n",
    "        title={\n",
    "        'text': \"GRAFICO SUNBURTS DISTRIBUCION VITAMINA D\"\n",
    "        },\n",
    "    height = 900     \n",
    "    )\n",
    "  fig.data[0]['textfont']['size'] = 14\n",
    "  fig.update_traces(textinfo=\"label+percent parent\") \n",
    "\n",
    "  fig.show() \n",
    "\n",
    "def agregar_proporcion(grupo):    \n",
    "    grupo[\"PROP\"] = 100 * grupo['VITAMINA D'] / grupo['VITAMINA D'].sum()\n",
    "    return grupo\n",
    "    \n",
    "def condicion(x):\n",
    "    x=int(x)\n",
    "    if x<30:\n",
    "        return \"Deficiente\"\n",
    "    else:\n",
    "        return \"Deseable\""
   ]
  },
  {
   "cell_type": "code",
   "execution_count": 32,
   "metadata": {},
   "outputs": [
    {
     "data": {
      "text/html": [
       "<div>\n",
       "<style scoped>\n",
       "    .dataframe tbody tr th:only-of-type {\n",
       "        vertical-align: middle;\n",
       "    }\n",
       "\n",
       "    .dataframe tbody tr th {\n",
       "        vertical-align: top;\n",
       "    }\n",
       "\n",
       "    .dataframe thead th {\n",
       "        text-align: right;\n",
       "    }\n",
       "</style>\n",
       "<table border=\"1\" class=\"dataframe\">\n",
       "  <thead>\n",
       "    <tr style=\"text-align: right;\">\n",
       "      <th></th>\n",
       "      <th>AÑO</th>\n",
       "      <th>MACROZONA</th>\n",
       "      <th>ESTACIONES_AÑO</th>\n",
       "      <th>ADULTO_NIÑO</th>\n",
       "      <th>VIT_D_TXT</th>\n",
       "      <th>RESULTADO_VAL</th>\n",
       "      <th>VITAMINA D</th>\n",
       "      <th>PROP</th>\n",
       "    </tr>\n",
       "  </thead>\n",
       "  <tbody>\n",
       "    <tr>\n",
       "      <th>0</th>\n",
       "      <td>2018</td>\n",
       "      <td>CENTRO</td>\n",
       "      <td>VERANO</td>\n",
       "      <td>Niño</td>\n",
       "      <td>Deficiente</td>\n",
       "      <td>1</td>\n",
       "      <td>22.87</td>\n",
       "      <td>0.018206</td>\n",
       "    </tr>\n",
       "    <tr>\n",
       "      <th>1</th>\n",
       "      <td>2018</td>\n",
       "      <td>CENTRO</td>\n",
       "      <td>VERANO</td>\n",
       "      <td>Adulto</td>\n",
       "      <td>Deficiente</td>\n",
       "      <td>1</td>\n",
       "      <td>15.04</td>\n",
       "      <td>0.011973</td>\n",
       "    </tr>\n",
       "    <tr>\n",
       "      <th>2</th>\n",
       "      <td>2018</td>\n",
       "      <td>CENTRO</td>\n",
       "      <td>VERANO</td>\n",
       "      <td>Adulto</td>\n",
       "      <td>Deficiente</td>\n",
       "      <td>1</td>\n",
       "      <td>17.17</td>\n",
       "      <td>0.013668</td>\n",
       "    </tr>\n",
       "    <tr>\n",
       "      <th>3</th>\n",
       "      <td>2018</td>\n",
       "      <td>CENTRO</td>\n",
       "      <td>VERANO</td>\n",
       "      <td>Adulto</td>\n",
       "      <td>Deficiente</td>\n",
       "      <td>1</td>\n",
       "      <td>14.44</td>\n",
       "      <td>0.011495</td>\n",
       "    </tr>\n",
       "    <tr>\n",
       "      <th>4</th>\n",
       "      <td>2018</td>\n",
       "      <td>NORTE</td>\n",
       "      <td>VERANO</td>\n",
       "      <td>Adulto</td>\n",
       "      <td>Deficiente</td>\n",
       "      <td>1</td>\n",
       "      <td>15.52</td>\n",
       "      <td>0.110638</td>\n",
       "    </tr>\n",
       "    <tr>\n",
       "      <th>...</th>\n",
       "      <td>...</td>\n",
       "      <td>...</td>\n",
       "      <td>...</td>\n",
       "      <td>...</td>\n",
       "      <td>...</td>\n",
       "      <td>...</td>\n",
       "      <td>...</td>\n",
       "      <td>...</td>\n",
       "    </tr>\n",
       "    <tr>\n",
       "      <th>212521</th>\n",
       "      <td>2021</td>\n",
       "      <td>CENTRO</td>\n",
       "      <td>PRIMAVERA</td>\n",
       "      <td>Adulto</td>\n",
       "      <td>Deficiente</td>\n",
       "      <td>1</td>\n",
       "      <td>6.62</td>\n",
       "      <td>0.001980</td>\n",
       "    </tr>\n",
       "    <tr>\n",
       "      <th>212522</th>\n",
       "      <td>2021</td>\n",
       "      <td>CENTRO</td>\n",
       "      <td>PRIMAVERA</td>\n",
       "      <td>Adulto</td>\n",
       "      <td>Deficiente</td>\n",
       "      <td>1</td>\n",
       "      <td>14.53</td>\n",
       "      <td>0.004346</td>\n",
       "    </tr>\n",
       "    <tr>\n",
       "      <th>212523</th>\n",
       "      <td>2021</td>\n",
       "      <td>CENTRO</td>\n",
       "      <td>PRIMAVERA</td>\n",
       "      <td>Niño</td>\n",
       "      <td>Deficiente</td>\n",
       "      <td>1</td>\n",
       "      <td>6.61</td>\n",
       "      <td>0.001977</td>\n",
       "    </tr>\n",
       "    <tr>\n",
       "      <th>212524</th>\n",
       "      <td>2021</td>\n",
       "      <td>CENTRO</td>\n",
       "      <td>PRIMAVERA</td>\n",
       "      <td>Adulto</td>\n",
       "      <td>Deficiente</td>\n",
       "      <td>1</td>\n",
       "      <td>18.50</td>\n",
       "      <td>0.005533</td>\n",
       "    </tr>\n",
       "    <tr>\n",
       "      <th>212525</th>\n",
       "      <td>2021</td>\n",
       "      <td>CENTRO</td>\n",
       "      <td>PRIMAVERA</td>\n",
       "      <td>Adulto</td>\n",
       "      <td>Deficiente</td>\n",
       "      <td>1</td>\n",
       "      <td>16.91</td>\n",
       "      <td>0.005057</td>\n",
       "    </tr>\n",
       "  </tbody>\n",
       "</table>\n",
       "<p>212526 rows × 8 columns</p>\n",
       "</div>"
      ],
      "text/plain": [
       "         AÑO MACROZONA ESTACIONES_AÑO ADULTO_NIÑO   VIT_D_TXT  RESULTADO_VAL  \\\n",
       "0       2018    CENTRO         VERANO        Niño  Deficiente              1   \n",
       "1       2018    CENTRO         VERANO      Adulto  Deficiente              1   \n",
       "2       2018    CENTRO         VERANO      Adulto  Deficiente              1   \n",
       "3       2018    CENTRO         VERANO      Adulto  Deficiente              1   \n",
       "4       2018     NORTE         VERANO      Adulto  Deficiente              1   \n",
       "...      ...       ...            ...         ...         ...            ...   \n",
       "212521  2021    CENTRO      PRIMAVERA      Adulto  Deficiente              1   \n",
       "212522  2021    CENTRO      PRIMAVERA      Adulto  Deficiente              1   \n",
       "212523  2021    CENTRO      PRIMAVERA        Niño  Deficiente              1   \n",
       "212524  2021    CENTRO      PRIMAVERA      Adulto  Deficiente              1   \n",
       "212525  2021    CENTRO      PRIMAVERA      Adulto  Deficiente              1   \n",
       "\n",
       "        VITAMINA D      PROP  \n",
       "0            22.87  0.018206  \n",
       "1            15.04  0.011973  \n",
       "2            17.17  0.013668  \n",
       "3            14.44  0.011495  \n",
       "4            15.52  0.110638  \n",
       "...            ...       ...  \n",
       "212521        6.62  0.001980  \n",
       "212522       14.53  0.004346  \n",
       "212523        6.61  0.001977  \n",
       "212524       18.50  0.005533  \n",
       "212525       16.91  0.005057  \n",
       "\n",
       "[212526 rows x 8 columns]"
      ]
     },
     "execution_count": 32,
     "metadata": {},
     "output_type": "execute_result"
    }
   ],
   "source": [
    "data = pd.read_csv(\"https://raw.githubusercontent.com/wilderhp/VitaminaD/main/Vitamina_D_Visualizacion_26092022.csv\",sep=';', decimal=',')\n",
    "data.columns = data.columns.str.upper()\n",
    "data['RESULTADO_VAL']= 1\n",
    "data['VIT_D_TXT'] = data['VITAMINA D'].apply(condicion)\n",
    "\n",
    "df_filter = data[['AÑO','MACROZONA','ESTACIONES_AÑO','ADULTO_NIÑO','VIT_D_TXT','RESULTADO_VAL','VITAMINA D']]\n",
    "\n",
    "df_filter_T = df_filter.groupby(['AÑO','MACROZONA','ESTACIONES_AÑO']).apply(agregar_proporcion)\n",
    "\n",
    "df_filter_T"
   ]
  },
  {
   "cell_type": "code",
   "execution_count": 33,
   "metadata": {},
   "outputs": [
    {
     "data": {
      "text/plain": [
       "AÑO   MACROZONA  ESTACIONES_AÑO  VIT_D_TXT \n",
       "2018  CENTRO     INVIERNO        Deficiente    82.218896\n",
       "                                 Deseable      17.781104\n",
       "                 OTOÑO           Deficiente    63.508004\n",
       "                                 Deseable      36.491996\n",
       "                 PRIMAVERA       Deficiente    75.997636\n",
       "                                                 ...    \n",
       "2021  SUR        OTOÑO           Deseable      20.495784\n",
       "                 PRIMAVERA       Deficiente    75.748868\n",
       "                                 Deseable      24.251132\n",
       "                 VERANO          Deficiente    72.476285\n",
       "                                 Deseable      27.523715\n",
       "Name: PROP, Length: 96, dtype: float64"
      ]
     },
     "execution_count": 33,
     "metadata": {},
     "output_type": "execute_result"
    }
   ],
   "source": [
    "df_filter_T.groupby(['AÑO','MACROZONA','ESTACIONES_AÑO','VIT_D_TXT']).PROP.sum()"
   ]
  },
  {
   "cell_type": "code",
   "execution_count": 34,
   "metadata": {},
   "outputs": [
    {
     "data": {
      "text/plain": [
       "AÑO   MACROZONA  ESTACIONES_AÑO  VIT_D_TXT \n",
       "2018  CENTRO     INVIERNO        Deficiente    5286\n",
       "                                 Deseable       423\n",
       "                 OTOÑO           Deficiente    4229\n",
       "                                 Deseable      1184\n",
       "                 PRIMAVERA       Deficiente    5869\n",
       "                                               ... \n",
       "2021  SUR        OTOÑO           Deseable       466\n",
       "                 PRIMAVERA       Deficiente    5084\n",
       "                                 Deseable       705\n",
       "                 VERANO          Deficiente    3191\n",
       "                                 Deseable       596\n",
       "Name: RESULTADO_VAL, Length: 96, dtype: int64"
      ]
     },
     "execution_count": 34,
     "metadata": {},
     "output_type": "execute_result"
    }
   ],
   "source": [
    "df_filter_T.groupby(['AÑO','MACROZONA','ESTACIONES_AÑO','VIT_D_TXT']).RESULTADO_VAL.count()"
   ]
  },
  {
   "cell_type": "code",
   "execution_count": 35,
   "metadata": {},
   "outputs": [
    {
     "data": {
      "text/html": [
       "<div>\n",
       "<style scoped>\n",
       "    .dataframe tbody tr th:only-of-type {\n",
       "        vertical-align: middle;\n",
       "    }\n",
       "\n",
       "    .dataframe tbody tr th {\n",
       "        vertical-align: top;\n",
       "    }\n",
       "\n",
       "    .dataframe thead th {\n",
       "        text-align: right;\n",
       "    }\n",
       "</style>\n",
       "<table border=\"1\" class=\"dataframe\">\n",
       "  <thead>\n",
       "    <tr style=\"text-align: right;\">\n",
       "      <th></th>\n",
       "      <th>AÑO</th>\n",
       "      <th>ADULTO_NIÑO</th>\n",
       "      <th>VIT_D_TXT</th>\n",
       "      <th>RESULTADO_VAL</th>\n",
       "      <th>VITAMINA D</th>\n",
       "      <th>PROP</th>\n",
       "    </tr>\n",
       "  </thead>\n",
       "  <tbody>\n",
       "    <tr>\n",
       "      <th>0</th>\n",
       "      <td>2018</td>\n",
       "      <td>Niño</td>\n",
       "      <td>Deficiente</td>\n",
       "      <td>1</td>\n",
       "      <td>22.87</td>\n",
       "      <td>0.005400</td>\n",
       "    </tr>\n",
       "    <tr>\n",
       "      <th>1</th>\n",
       "      <td>2018</td>\n",
       "      <td>Adulto</td>\n",
       "      <td>Deficiente</td>\n",
       "      <td>1</td>\n",
       "      <td>15.04</td>\n",
       "      <td>0.003551</td>\n",
       "    </tr>\n",
       "    <tr>\n",
       "      <th>2</th>\n",
       "      <td>2018</td>\n",
       "      <td>Adulto</td>\n",
       "      <td>Deficiente</td>\n",
       "      <td>1</td>\n",
       "      <td>17.17</td>\n",
       "      <td>0.004054</td>\n",
       "    </tr>\n",
       "    <tr>\n",
       "      <th>3</th>\n",
       "      <td>2018</td>\n",
       "      <td>Adulto</td>\n",
       "      <td>Deficiente</td>\n",
       "      <td>1</td>\n",
       "      <td>14.44</td>\n",
       "      <td>0.003410</td>\n",
       "    </tr>\n",
       "    <tr>\n",
       "      <th>4</th>\n",
       "      <td>2018</td>\n",
       "      <td>Adulto</td>\n",
       "      <td>Deficiente</td>\n",
       "      <td>1</td>\n",
       "      <td>15.52</td>\n",
       "      <td>0.003665</td>\n",
       "    </tr>\n",
       "    <tr>\n",
       "      <th>...</th>\n",
       "      <td>...</td>\n",
       "      <td>...</td>\n",
       "      <td>...</td>\n",
       "      <td>...</td>\n",
       "      <td>...</td>\n",
       "      <td>...</td>\n",
       "    </tr>\n",
       "    <tr>\n",
       "      <th>212521</th>\n",
       "      <td>2021</td>\n",
       "      <td>Adulto</td>\n",
       "      <td>Deficiente</td>\n",
       "      <td>1</td>\n",
       "      <td>6.62</td>\n",
       "      <td>0.000485</td>\n",
       "    </tr>\n",
       "    <tr>\n",
       "      <th>212522</th>\n",
       "      <td>2021</td>\n",
       "      <td>Adulto</td>\n",
       "      <td>Deficiente</td>\n",
       "      <td>1</td>\n",
       "      <td>14.53</td>\n",
       "      <td>0.001065</td>\n",
       "    </tr>\n",
       "    <tr>\n",
       "      <th>212523</th>\n",
       "      <td>2021</td>\n",
       "      <td>Niño</td>\n",
       "      <td>Deficiente</td>\n",
       "      <td>1</td>\n",
       "      <td>6.61</td>\n",
       "      <td>0.000485</td>\n",
       "    </tr>\n",
       "    <tr>\n",
       "      <th>212524</th>\n",
       "      <td>2021</td>\n",
       "      <td>Adulto</td>\n",
       "      <td>Deficiente</td>\n",
       "      <td>1</td>\n",
       "      <td>18.50</td>\n",
       "      <td>0.001356</td>\n",
       "    </tr>\n",
       "    <tr>\n",
       "      <th>212525</th>\n",
       "      <td>2021</td>\n",
       "      <td>Adulto</td>\n",
       "      <td>Deficiente</td>\n",
       "      <td>1</td>\n",
       "      <td>16.91</td>\n",
       "      <td>0.001240</td>\n",
       "    </tr>\n",
       "  </tbody>\n",
       "</table>\n",
       "<p>212526 rows × 6 columns</p>\n",
       "</div>"
      ],
      "text/plain": [
       "         AÑO ADULTO_NIÑO   VIT_D_TXT  RESULTADO_VAL  VITAMINA D      PROP\n",
       "0       2018        Niño  Deficiente              1       22.87  0.005400\n",
       "1       2018      Adulto  Deficiente              1       15.04  0.003551\n",
       "2       2018      Adulto  Deficiente              1       17.17  0.004054\n",
       "3       2018      Adulto  Deficiente              1       14.44  0.003410\n",
       "4       2018      Adulto  Deficiente              1       15.52  0.003665\n",
       "...      ...         ...         ...            ...         ...       ...\n",
       "212521  2021      Adulto  Deficiente              1        6.62  0.000485\n",
       "212522  2021      Adulto  Deficiente              1       14.53  0.001065\n",
       "212523  2021        Niño  Deficiente              1        6.61  0.000485\n",
       "212524  2021      Adulto  Deficiente              1       18.50  0.001356\n",
       "212525  2021      Adulto  Deficiente              1       16.91  0.001240\n",
       "\n",
       "[212526 rows x 6 columns]"
      ]
     },
     "execution_count": 35,
     "metadata": {},
     "output_type": "execute_result"
    }
   ],
   "source": [
    "df_filter = data[['AÑO','ADULTO_NIÑO','VIT_D_TXT','RESULTADO_VAL','VITAMINA D']]\n",
    "\n",
    "df_filter_R = df_filter.groupby(['AÑO','VIT_D_TXT']).apply(agregar_proporcion)\n",
    "\n",
    "df_filter_R"
   ]
  },
  {
   "cell_type": "code",
   "execution_count": 36,
   "metadata": {},
   "outputs": [
    {
     "data": {
      "text/plain": [
       "AÑO   VIT_D_TXT   ADULTO_NIÑO\n",
       "2018  Deficiente  Adulto         92.696259\n",
       "                  Niño            7.303741\n",
       "      Deseable    Adulto         89.502991\n",
       "                  Niño           10.497009\n",
       "2019  Deficiente  Adulto         92.488915\n",
       "                  Niño            7.511085\n",
       "      Deseable    Adulto         90.268054\n",
       "                  Niño            9.731946\n",
       "2020  Deficiente  Adulto         91.958981\n",
       "                  Niño            8.041019\n",
       "      Deseable    Adulto         91.577155\n",
       "                  Niño            8.422845\n",
       "2021  Deficiente  Adulto         90.163466\n",
       "                  Niño            9.836534\n",
       "      Deseable    Adulto         91.133852\n",
       "                  Niño            8.866148\n",
       "Name: PROP, dtype: float64"
      ]
     },
     "execution_count": 36,
     "metadata": {},
     "output_type": "execute_result"
    }
   ],
   "source": [
    "df_filter_R.groupby(['AÑO','VIT_D_TXT','ADULTO_NIÑO']).PROP.sum()"
   ]
  },
  {
   "cell_type": "code",
   "execution_count": 37,
   "metadata": {},
   "outputs": [
    {
     "data": {
      "text/plain": [
       "AÑO   VIT_D_TXT   ADULTO_NIÑO\n",
       "2018  Deficiente  Adulto         22681\n",
       "                  Niño            1630\n",
       "      Deseable    Adulto          4032\n",
       "                  Niño             465\n",
       "2019  Deficiente  Adulto         33416\n",
       "                  Niño            2534\n",
       "      Deseable    Adulto          8263\n",
       "                  Niño             885\n",
       "2020  Deficiente  Adulto         37161\n",
       "                  Niño            3183\n",
       "      Deseable    Adulto          7553\n",
       "                  Niño             712\n",
       "2021  Deficiente  Adulto         70443\n",
       "                  Niño            7873\n",
       "      Deseable    Adulto         10680\n",
       "                  Niño            1015\n",
       "Name: RESULTADO_VAL, dtype: int64"
      ]
     },
     "execution_count": 37,
     "metadata": {},
     "output_type": "execute_result"
    }
   ],
   "source": [
    "df_filter_R.groupby(['AÑO','VIT_D_TXT','ADULTO_NIÑO']).RESULTADO_VAL.count()"
   ]
  },
  {
   "cell_type": "code",
   "execution_count": 38,
   "metadata": {},
   "outputs": [
    {
     "data": {
      "application/vnd.jupyter.widget-view+json": {
       "model_id": "ae1aeaba153042149ce8a2b7d5c22240",
       "version_major": 2,
       "version_minor": 0
      },
      "text/plain": [
       "interactive(children=(Dropdown(description='Zona :', options=('ALL', 'Norte', 'Centro', 'Sur'), value='ALL'), …"
      ]
     },
     "metadata": {},
     "output_type": "display_data"
    },
    {
     "data": {
      "application/vnd.plotly.v1+json": {
       "config": {
        "plotlyServerURL": "https://plot.ly"
       },
       "data": [
        {
         "branchvalues": "total",
         "customdata": [
          [
           "Deficiente"
          ],
          [
           "(?)"
          ],
          [
           "(?)"
          ],
          [
           "(?)"
          ],
          [
           "(?)"
          ],
          [
           "(?)"
          ],
          [
           "(?)"
          ],
          [
           "(?)"
          ],
          [
           "(?)"
          ],
          [
           "(?)"
          ],
          [
           "(?)"
          ],
          [
           "(?)"
          ],
          [
           "(?)"
          ],
          [
           "(?)"
          ],
          [
           "(?)"
          ],
          [
           "(?)"
          ],
          [
           "(?)"
          ],
          [
           "(?)"
          ],
          [
           "(?)"
          ],
          [
           "Deseable"
          ],
          [
           "(?)"
          ],
          [
           "Deseable"
          ],
          [
           "Deseable"
          ],
          [
           "Deseable"
          ],
          [
           "Deseable"
          ],
          [
           "Deseable"
          ],
          [
           "Deseable"
          ],
          [
           "Deseable"
          ],
          [
           "Deseable"
          ],
          [
           "Deseable"
          ],
          [
           "Deseable"
          ],
          [
           "Deseable"
          ],
          [
           "Deseable"
          ],
          [
           "Deseable"
          ],
          [
           "Deseable"
          ],
          [
           "(?)"
          ],
          [
           "Deseable"
          ],
          [
           "(?)"
          ],
          [
           "(?)"
          ],
          [
           "(?)"
          ],
          [
           "(?)"
          ],
          [
           "(?)"
          ],
          [
           "(?)"
          ],
          [
           "(?)"
          ],
          [
           "(?)"
          ],
          [
           "(?)"
          ],
          [
           "(?)"
          ],
          [
           "(?)"
          ],
          [
           "(?)"
          ],
          [
           "(?)"
          ],
          [
           "(?)"
          ],
          [
           "(?)"
          ],
          [
           "(?)"
          ],
          [
           "(?)"
          ],
          [
           "(?)"
          ],
          [
           "(?)"
          ],
          [
           "(?)"
          ],
          [
           "(?)"
          ],
          [
           "(?)"
          ],
          [
           "(?)"
          ],
          [
           "(?)"
          ],
          [
           "(?)"
          ],
          [
           "(?)"
          ],
          [
           "(?)"
          ],
          [
           "(?)"
          ],
          [
           "(?)"
          ],
          [
           "(?)"
          ],
          [
           "(?)"
          ],
          [
           "(?)"
          ],
          [
           "(?)"
          ],
          [
           "(?)"
          ],
          [
           "(?)"
          ],
          [
           "(?)"
          ],
          [
           "(?)"
          ],
          [
           "Deseable"
          ],
          [
           "Deseable"
          ],
          [
           "Deficiente"
          ],
          [
           "Deficiente"
          ],
          [
           "Deficiente"
          ],
          [
           "Deficiente"
          ],
          [
           "Deficiente"
          ],
          [
           "Deficiente"
          ],
          [
           "Deficiente"
          ],
          [
           "Deficiente"
          ],
          [
           "Deficiente"
          ],
          [
           "Deficiente"
          ],
          [
           "Deficiente"
          ],
          [
           "Deficiente"
          ],
          [
           "Deficiente"
          ],
          [
           "Deseable"
          ],
          [
           "Deficiente"
          ],
          [
           "Deficiente"
          ],
          [
           "Deficiente"
          ],
          [
           "Deficiente"
          ],
          [
           "Deficiente"
          ],
          [
           "Deficiente"
          ],
          [
           "Deficiente"
          ],
          [
           "Deficiente"
          ],
          [
           "Deficiente"
          ],
          [
           "Deficiente"
          ],
          [
           "Deficiente"
          ],
          [
           "Deficiente"
          ],
          [
           "Deficiente"
          ],
          [
           "Deficiente"
          ],
          [
           "Deficiente"
          ],
          [
           "Deficiente"
          ],
          [
           "Deficiente"
          ],
          [
           "Deficiente"
          ],
          [
           "Deficiente"
          ],
          [
           "Deficiente"
          ],
          [
           "Deficiente"
          ],
          [
           "Deficiente"
          ],
          [
           "Deficiente"
          ],
          [
           "(?)"
          ],
          [
           "Deficiente"
          ],
          [
           "Deseable"
          ],
          [
           "Deseable"
          ],
          [
           "Deseable"
          ],
          [
           "Deseable"
          ],
          [
           "Deseable"
          ],
          [
           "Deseable"
          ],
          [
           "Deseable"
          ],
          [
           "Deseable"
          ],
          [
           "Deseable"
          ],
          [
           "Deseable"
          ],
          [
           "Deseable"
          ],
          [
           "Deseable"
          ],
          [
           "Deseable"
          ],
          [
           "Deseable"
          ],
          [
           "Deseable"
          ],
          [
           "Deseable"
          ],
          [
           "Deseable"
          ],
          [
           "Deficiente"
          ],
          [
           "Deseable"
          ],
          [
           "Deseable"
          ],
          [
           "Deseable"
          ],
          [
           "Deficiente"
          ],
          [
           "Deficiente"
          ],
          [
           "Deficiente"
          ],
          [
           "Deseable"
          ],
          [
           "Deseable"
          ],
          [
           "Deficiente"
          ],
          [
           "(?)"
          ],
          [
           "Deseable"
          ],
          [
           "(?)"
          ],
          [
           "Deseable"
          ],
          [
           "Deficiente"
          ],
          [
           "Deficiente"
          ],
          [
           "Deficiente"
          ],
          [
           "(?)"
          ],
          [
           "(?)"
          ],
          [
           "Deseable"
          ],
          [
           "(?)"
          ],
          [
           "Deseable"
          ],
          [
           "Deficiente"
          ],
          [
           "(?)"
          ],
          [
           "Deficiente"
          ],
          [
           "(?)"
          ],
          [
           "Deseable"
          ],
          [
           "Deseable"
          ],
          [
           "Deseable"
          ]
         ],
         "domain": {
          "x": [
           0,
           1
          ],
          "y": [
           0,
           1
          ]
         },
         "hovertemplate": "labels=%{label}<br>RESULTADO_VAL=%{value}<br>parent=%{parent}<br>id=%{id}<br>VIT_D_TXT=%{customdata[0]}<extra></extra>",
         "ids": [
          "GRAFICO TREEMAP - SIZE VITAMINA D/2018/CENTRO/INVIERNO/Deficiente",
          "GRAFICO TREEMAP - SIZE VITAMINA D/2021/CENTRO/INVIERNO",
          "GRAFICO TREEMAP - SIZE VITAMINA D/2018/NORTE/INVIERNO",
          "GRAFICO TREEMAP - SIZE VITAMINA D/2019/NORTE/INVIERNO",
          "GRAFICO TREEMAP - SIZE VITAMINA D/2021/NORTE/INVIERNO",
          "GRAFICO TREEMAP - SIZE VITAMINA D/2018/SUR/INVIERNO",
          "GRAFICO TREEMAP - SIZE VITAMINA D/2019/SUR/INVIERNO",
          "GRAFICO TREEMAP - SIZE VITAMINA D/2020/SUR/INVIERNO",
          "GRAFICO TREEMAP - SIZE VITAMINA D/2021/SUR/INVIERNO",
          "GRAFICO TREEMAP - SIZE VITAMINA D/2019/CENTRO/OTOÑO",
          "GRAFICO TREEMAP - SIZE VITAMINA D/2020/CENTRO/OTOÑO",
          "GRAFICO TREEMAP - SIZE VITAMINA D/2021/CENTRO/OTOÑO",
          "GRAFICO TREEMAP - SIZE VITAMINA D/2018/NORTE/OTOÑO",
          "GRAFICO TREEMAP - SIZE VITAMINA D/2019/NORTE/OTOÑO",
          "GRAFICO TREEMAP - SIZE VITAMINA D/2020/NORTE/OTOÑO",
          "GRAFICO TREEMAP - SIZE VITAMINA D/2021/NORTE/OTOÑO",
          "GRAFICO TREEMAP - SIZE VITAMINA D/2020/CENTRO/INVIERNO",
          "GRAFICO TREEMAP - SIZE VITAMINA D/2018/SUR/OTOÑO",
          "GRAFICO TREEMAP - SIZE VITAMINA D/2019/CENTRO/INVIERNO",
          "GRAFICO TREEMAP - SIZE VITAMINA D/2021/SUR/VERANO/Deseable",
          "GRAFICO TREEMAP - SIZE VITAMINA D/2021",
          "GRAFICO TREEMAP - SIZE VITAMINA D/2019/SUR/PRIMAVERA/Deseable",
          "GRAFICO TREEMAP - SIZE VITAMINA D/2020/SUR/PRIMAVERA/Deseable",
          "GRAFICO TREEMAP - SIZE VITAMINA D/2021/SUR/PRIMAVERA/Deseable",
          "GRAFICO TREEMAP - SIZE VITAMINA D/2018/CENTRO/VERANO/Deseable",
          "GRAFICO TREEMAP - SIZE VITAMINA D/2019/CENTRO/VERANO/Deseable",
          "GRAFICO TREEMAP - SIZE VITAMINA D/2020/CENTRO/VERANO/Deseable",
          "GRAFICO TREEMAP - SIZE VITAMINA D/2021/CENTRO/VERANO/Deseable",
          "GRAFICO TREEMAP - SIZE VITAMINA D/2018/NORTE/VERANO/Deseable",
          "GRAFICO TREEMAP - SIZE VITAMINA D/2019/NORTE/VERANO/Deseable",
          "GRAFICO TREEMAP - SIZE VITAMINA D/2020/NORTE/VERANO/Deseable",
          "GRAFICO TREEMAP - SIZE VITAMINA D/2021/NORTE/VERANO/Deseable",
          "GRAFICO TREEMAP - SIZE VITAMINA D/2018/SUR/VERANO/Deseable",
          "GRAFICO TREEMAP - SIZE VITAMINA D/2019/SUR/VERANO/Deseable",
          "GRAFICO TREEMAP - SIZE VITAMINA D/2020/SUR/VERANO/Deseable",
          "GRAFICO TREEMAP - SIZE VITAMINA D/2018/CENTRO/INVIERNO",
          "GRAFICO TREEMAP - SIZE VITAMINA D/2021/NORTE/PRIMAVERA/Deseable",
          "GRAFICO TREEMAP - SIZE VITAMINA D/2019/SUR/OTOÑO",
          "GRAFICO TREEMAP - SIZE VITAMINA D/2021/SUR/OTOÑO",
          "GRAFICO TREEMAP - SIZE VITAMINA D/2018/SUR/VERANO",
          "GRAFICO TREEMAP - SIZE VITAMINA D/2019/SUR/VERANO",
          "GRAFICO TREEMAP - SIZE VITAMINA D/2021/SUR/VERANO",
          "GRAFICO TREEMAP - SIZE VITAMINA D/2018/CENTRO",
          "GRAFICO TREEMAP - SIZE VITAMINA D/2019/CENTRO",
          "GRAFICO TREEMAP - SIZE VITAMINA D/2021/CENTRO",
          "GRAFICO TREEMAP - SIZE VITAMINA D/2018/NORTE",
          "GRAFICO TREEMAP - SIZE VITAMINA D/2019/NORTE",
          "GRAFICO TREEMAP - SIZE VITAMINA D/2020/NORTE",
          "GRAFICO TREEMAP - SIZE VITAMINA D/2021/NORTE",
          "GRAFICO TREEMAP - SIZE VITAMINA D/2018/SUR",
          "GRAFICO TREEMAP - SIZE VITAMINA D/2019/SUR",
          "GRAFICO TREEMAP - SIZE VITAMINA D/2020/SUR",
          "GRAFICO TREEMAP - SIZE VITAMINA D/2018",
          "GRAFICO TREEMAP - SIZE VITAMINA D/2020",
          "GRAFICO TREEMAP - SIZE VITAMINA D/2021/NORTE/VERANO",
          "GRAFICO TREEMAP - SIZE VITAMINA D/2020/SUR/OTOÑO",
          "GRAFICO TREEMAP - SIZE VITAMINA D/2019/NORTE/VERANO",
          "GRAFICO TREEMAP - SIZE VITAMINA D/2021/CENTRO/VERANO",
          "GRAFICO TREEMAP - SIZE VITAMINA D/2018/CENTRO/PRIMAVERA",
          "GRAFICO TREEMAP - SIZE VITAMINA D/2019/CENTRO/PRIMAVERA",
          "GRAFICO TREEMAP - SIZE VITAMINA D/2020/CENTRO/PRIMAVERA",
          "GRAFICO TREEMAP - SIZE VITAMINA D/2021/CENTRO/PRIMAVERA",
          "GRAFICO TREEMAP - SIZE VITAMINA D/2018/NORTE/PRIMAVERA",
          "GRAFICO TREEMAP - SIZE VITAMINA D/2019/NORTE/PRIMAVERA",
          "GRAFICO TREEMAP - SIZE VITAMINA D/2020/NORTE/PRIMAVERA",
          "GRAFICO TREEMAP - SIZE VITAMINA D/2021/NORTE/PRIMAVERA",
          "GRAFICO TREEMAP - SIZE VITAMINA D/2018/SUR/PRIMAVERA",
          "GRAFICO TREEMAP - SIZE VITAMINA D/2019/SUR/PRIMAVERA",
          "GRAFICO TREEMAP - SIZE VITAMINA D/2020/SUR/PRIMAVERA",
          "GRAFICO TREEMAP - SIZE VITAMINA D/2021/SUR/PRIMAVERA",
          "GRAFICO TREEMAP - SIZE VITAMINA D/2018/CENTRO/VERANO",
          "GRAFICO TREEMAP - SIZE VITAMINA D/2019/CENTRO/VERANO",
          "GRAFICO TREEMAP - SIZE VITAMINA D/2020/CENTRO/VERANO",
          "GRAFICO TREEMAP - SIZE VITAMINA D/2018/NORTE/VERANO",
          "GRAFICO TREEMAP - SIZE VITAMINA D/2018/NORTE/PRIMAVERA/Deseable",
          "GRAFICO TREEMAP - SIZE VITAMINA D/2018/SUR/PRIMAVERA/Deseable",
          "GRAFICO TREEMAP - SIZE VITAMINA D/2018/CENTRO/VERANO/Deficiente",
          "GRAFICO TREEMAP - SIZE VITAMINA D/2020/SUR/OTOÑO/Deficiente",
          "GRAFICO TREEMAP - SIZE VITAMINA D/2021/SUR/OTOÑO/Deficiente",
          "GRAFICO TREEMAP - SIZE VITAMINA D/2018/CENTRO/PRIMAVERA/Deficiente",
          "GRAFICO TREEMAP - SIZE VITAMINA D/2019/CENTRO/PRIMAVERA/Deficiente",
          "GRAFICO TREEMAP - SIZE VITAMINA D/2020/CENTRO/PRIMAVERA/Deficiente",
          "GRAFICO TREEMAP - SIZE VITAMINA D/2021/CENTRO/PRIMAVERA/Deficiente",
          "GRAFICO TREEMAP - SIZE VITAMINA D/2018/NORTE/PRIMAVERA/Deficiente",
          "GRAFICO TREEMAP - SIZE VITAMINA D/2019/NORTE/PRIMAVERA/Deficiente",
          "GRAFICO TREEMAP - SIZE VITAMINA D/2020/NORTE/PRIMAVERA/Deficiente",
          "GRAFICO TREEMAP - SIZE VITAMINA D/2021/NORTE/PRIMAVERA/Deficiente",
          "GRAFICO TREEMAP - SIZE VITAMINA D/2019/SUR/PRIMAVERA/Deficiente",
          "GRAFICO TREEMAP - SIZE VITAMINA D/2020/SUR/PRIMAVERA/Deficiente",
          "GRAFICO TREEMAP - SIZE VITAMINA D/2021/CENTRO/PRIMAVERA/Deseable",
          "GRAFICO TREEMAP - SIZE VITAMINA D/2020/CENTRO/VERANO/Deficiente",
          "GRAFICO TREEMAP - SIZE VITAMINA D/2021/CENTRO/VERANO/Deficiente",
          "GRAFICO TREEMAP - SIZE VITAMINA D/2019/SUR/OTOÑO/Deficiente",
          "GRAFICO TREEMAP - SIZE VITAMINA D/2018/NORTE/VERANO/Deficiente",
          "GRAFICO TREEMAP - SIZE VITAMINA D/2018/SUR/OTOÑO/Deficiente",
          "GRAFICO TREEMAP - SIZE VITAMINA D/2020/NORTE/OTOÑO/Deficiente",
          "GRAFICO TREEMAP - SIZE VITAMINA D/2019/CENTRO/INVIERNO/Deficiente",
          "GRAFICO TREEMAP - SIZE VITAMINA D/2020/CENTRO/INVIERNO/Deficiente",
          "GRAFICO TREEMAP - SIZE VITAMINA D/2021/CENTRO/INVIERNO/Deficiente",
          "GRAFICO TREEMAP - SIZE VITAMINA D/2018/NORTE/INVIERNO/Deficiente",
          "GRAFICO TREEMAP - SIZE VITAMINA D/2020/NORTE/INVIERNO/Deficiente",
          "GRAFICO TREEMAP - SIZE VITAMINA D/2021/NORTE/INVIERNO/Deficiente",
          "GRAFICO TREEMAP - SIZE VITAMINA D/2019/SUR/INVIERNO/Deficiente",
          "GRAFICO TREEMAP - SIZE VITAMINA D/2020/SUR/INVIERNO/Deficiente",
          "GRAFICO TREEMAP - SIZE VITAMINA D/2021/SUR/INVIERNO/Deficiente",
          "GRAFICO TREEMAP - SIZE VITAMINA D/2018/CENTRO/OTOÑO/Deficiente",
          "GRAFICO TREEMAP - SIZE VITAMINA D/2019/CENTRO/OTOÑO/Deficiente",
          "GRAFICO TREEMAP - SIZE VITAMINA D/2020/CENTRO/OTOÑO/Deficiente",
          "GRAFICO TREEMAP - SIZE VITAMINA D/2021/CENTRO/OTOÑO/Deficiente",
          "GRAFICO TREEMAP - SIZE VITAMINA D/2018/NORTE/OTOÑO/Deficiente",
          "GRAFICO TREEMAP - SIZE VITAMINA D/2019/NORTE/OTOÑO/Deficiente",
          "GRAFICO TREEMAP - SIZE VITAMINA D/2021/NORTE/OTOÑO/Deficiente",
          "GRAFICO TREEMAP - SIZE VITAMINA D/2019/NORTE/VERANO/Deficiente",
          "GRAFICO TREEMAP - SIZE VITAMINA D",
          "GRAFICO TREEMAP - SIZE VITAMINA D/2021/NORTE/VERANO/Deficiente",
          "GRAFICO TREEMAP - SIZE VITAMINA D/2019/CENTRO/PRIMAVERA/Deseable",
          "GRAFICO TREEMAP - SIZE VITAMINA D/2018/CENTRO/PRIMAVERA/Deseable",
          "GRAFICO TREEMAP - SIZE VITAMINA D/2020/SUR/OTOÑO/Deseable",
          "GRAFICO TREEMAP - SIZE VITAMINA D/2018/SUR/OTOÑO/Deseable",
          "GRAFICO TREEMAP - SIZE VITAMINA D/2021/NORTE/OTOÑO/Deseable",
          "GRAFICO TREEMAP - SIZE VITAMINA D/2020/NORTE/OTOÑO/Deseable",
          "GRAFICO TREEMAP - SIZE VITAMINA D/2021/CENTRO/OTOÑO/Deseable",
          "GRAFICO TREEMAP - SIZE VITAMINA D/2020/CENTRO/OTOÑO/Deseable",
          "GRAFICO TREEMAP - SIZE VITAMINA D/2018/CENTRO/OTOÑO/Deseable",
          "GRAFICO TREEMAP - SIZE VITAMINA D/2021/SUR/INVIERNO/Deseable",
          "GRAFICO TREEMAP - SIZE VITAMINA D/2020/SUR/INVIERNO/Deseable",
          "GRAFICO TREEMAP - SIZE VITAMINA D/2019/SUR/INVIERNO/Deseable",
          "GRAFICO TREEMAP - SIZE VITAMINA D/2018/SUR/INVIERNO/Deseable",
          "GRAFICO TREEMAP - SIZE VITAMINA D/2019/NORTE/INVIERNO/Deseable",
          "GRAFICO TREEMAP - SIZE VITAMINA D/2019/CENTRO/OTOÑO/Deseable",
          "GRAFICO TREEMAP - SIZE VITAMINA D/2018/NORTE/INVIERNO/Deseable",
          "GRAFICO TREEMAP - SIZE VITAMINA D/2021/CENTRO/INVIERNO/Deseable",
          "GRAFICO TREEMAP - SIZE VITAMINA D/2020/SUR/VERANO/Deficiente",
          "GRAFICO TREEMAP - SIZE VITAMINA D/2020/CENTRO/INVIERNO/Deseable",
          "GRAFICO TREEMAP - SIZE VITAMINA D/2019/CENTRO/INVIERNO/Deseable",
          "GRAFICO TREEMAP - SIZE VITAMINA D/2018/CENTRO/INVIERNO/Deseable",
          "GRAFICO TREEMAP - SIZE VITAMINA D/2018/SUR/VERANO/Deficiente",
          "GRAFICO TREEMAP - SIZE VITAMINA D/2021/SUR/VERANO/Deficiente",
          "GRAFICO TREEMAP - SIZE VITAMINA D/2019/SUR/VERANO/Deficiente",
          "GRAFICO TREEMAP - SIZE VITAMINA D/2020/NORTE/INVIERNO/Deseable",
          "GRAFICO TREEMAP - SIZE VITAMINA D/2021/SUR/OTOÑO/Deseable",
          "GRAFICO TREEMAP - SIZE VITAMINA D/2019/NORTE/INVIERNO/Deficiente",
          "GRAFICO TREEMAP - SIZE VITAMINA D/2021/SUR",
          "GRAFICO TREEMAP - SIZE VITAMINA D/2020/NORTE/PRIMAVERA/Deseable",
          "GRAFICO TREEMAP - SIZE VITAMINA D/2019",
          "GRAFICO TREEMAP - SIZE VITAMINA D/2019/NORTE/PRIMAVERA/Deseable",
          "GRAFICO TREEMAP - SIZE VITAMINA D/2019/CENTRO/VERANO/Deficiente",
          "GRAFICO TREEMAP - SIZE VITAMINA D/2018/SUR/INVIERNO/Deficiente",
          "GRAFICO TREEMAP - SIZE VITAMINA D/2021/SUR/PRIMAVERA/Deficiente",
          "GRAFICO TREEMAP - SIZE VITAMINA D/2018/CENTRO/OTOÑO",
          "GRAFICO TREEMAP - SIZE VITAMINA D/2020/CENTRO",
          "GRAFICO TREEMAP - SIZE VITAMINA D/2019/NORTE/OTOÑO/Deseable",
          "GRAFICO TREEMAP - SIZE VITAMINA D/2020/SUR/VERANO",
          "GRAFICO TREEMAP - SIZE VITAMINA D/2018/NORTE/OTOÑO/Deseable",
          "GRAFICO TREEMAP - SIZE VITAMINA D/2018/SUR/PRIMAVERA/Deficiente",
          "GRAFICO TREEMAP - SIZE VITAMINA D/2020/NORTE/VERANO",
          "GRAFICO TREEMAP - SIZE VITAMINA D/2020/NORTE/VERANO/Deficiente",
          "GRAFICO TREEMAP - SIZE VITAMINA D/2020/NORTE/INVIERNO",
          "GRAFICO TREEMAP - SIZE VITAMINA D/2021/NORTE/INVIERNO/Deseable",
          "GRAFICO TREEMAP - SIZE VITAMINA D/2019/SUR/OTOÑO/Deseable",
          "GRAFICO TREEMAP - SIZE VITAMINA D/2020/CENTRO/PRIMAVERA/Deseable"
         ],
         "labels": [
          "Deficiente",
          "INVIERNO",
          "INVIERNO",
          "INVIERNO",
          "INVIERNO",
          "INVIERNO",
          "INVIERNO",
          "INVIERNO",
          "INVIERNO",
          "OTOÑO",
          "OTOÑO",
          "OTOÑO",
          "OTOÑO",
          "OTOÑO",
          "OTOÑO",
          "OTOÑO",
          "INVIERNO",
          "OTOÑO",
          "INVIERNO",
          "Deseable",
          "2021",
          "Deseable",
          "Deseable",
          "Deseable",
          "Deseable",
          "Deseable",
          "Deseable",
          "Deseable",
          "Deseable",
          "Deseable",
          "Deseable",
          "Deseable",
          "Deseable",
          "Deseable",
          "Deseable",
          "INVIERNO",
          "Deseable",
          "OTOÑO",
          "OTOÑO",
          "VERANO",
          "VERANO",
          "VERANO",
          "CENTRO",
          "CENTRO",
          "CENTRO",
          "NORTE",
          "NORTE",
          "NORTE",
          "NORTE",
          "SUR",
          "SUR",
          "SUR",
          "2018",
          "2020",
          "VERANO",
          "OTOÑO",
          "VERANO",
          "VERANO",
          "PRIMAVERA",
          "PRIMAVERA",
          "PRIMAVERA",
          "PRIMAVERA",
          "PRIMAVERA",
          "PRIMAVERA",
          "PRIMAVERA",
          "PRIMAVERA",
          "PRIMAVERA",
          "PRIMAVERA",
          "PRIMAVERA",
          "PRIMAVERA",
          "VERANO",
          "VERANO",
          "VERANO",
          "VERANO",
          "Deseable",
          "Deseable",
          "Deficiente",
          "Deficiente",
          "Deficiente",
          "Deficiente",
          "Deficiente",
          "Deficiente",
          "Deficiente",
          "Deficiente",
          "Deficiente",
          "Deficiente",
          "Deficiente",
          "Deficiente",
          "Deficiente",
          "Deseable",
          "Deficiente",
          "Deficiente",
          "Deficiente",
          "Deficiente",
          "Deficiente",
          "Deficiente",
          "Deficiente",
          "Deficiente",
          "Deficiente",
          "Deficiente",
          "Deficiente",
          "Deficiente",
          "Deficiente",
          "Deficiente",
          "Deficiente",
          "Deficiente",
          "Deficiente",
          "Deficiente",
          "Deficiente",
          "Deficiente",
          "Deficiente",
          "Deficiente",
          "Deficiente",
          "GRAFICO TREEMAP - SIZE VITAMINA D",
          "Deficiente",
          "Deseable",
          "Deseable",
          "Deseable",
          "Deseable",
          "Deseable",
          "Deseable",
          "Deseable",
          "Deseable",
          "Deseable",
          "Deseable",
          "Deseable",
          "Deseable",
          "Deseable",
          "Deseable",
          "Deseable",
          "Deseable",
          "Deseable",
          "Deficiente",
          "Deseable",
          "Deseable",
          "Deseable",
          "Deficiente",
          "Deficiente",
          "Deficiente",
          "Deseable",
          "Deseable",
          "Deficiente",
          "SUR",
          "Deseable",
          "2019",
          "Deseable",
          "Deficiente",
          "Deficiente",
          "Deficiente",
          "OTOÑO",
          "CENTRO",
          "Deseable",
          "VERANO",
          "Deseable",
          "Deficiente",
          "VERANO",
          "Deficiente",
          "INVIERNO",
          "Deseable",
          "Deseable",
          "Deseable"
         ],
         "marker": {
          "colors": [
           "#ce281f",
           "#6082B6",
           "#6082B6",
           "#6082B6",
           "#6082B6",
           "#6082B6",
           "#6082B6",
           "#6082B6",
           "#6082B6",
           "Brown",
           "Brown",
           "Brown",
           "Brown",
           "Brown",
           "Brown",
           "Brown",
           "#6082B6",
           "Brown",
           "#6082B6",
           "#8eef44",
           "#eed842",
           "#8eef44",
           "#8eef44",
           "#8eef44",
           "#8eef44",
           "#8eef44",
           "#8eef44",
           "#8eef44",
           "#8eef44",
           "#8eef44",
           "#8eef44",
           "#8eef44",
           "#8eef44",
           "#8eef44",
           "#8eef44",
           "#6082B6",
           "#8eef44",
           "Brown",
           "Brown",
           "#F5761A",
           "#F5761A",
           "#F5761A",
           "#b8d6b1",
           "#b8d6b1",
           "#b8d6b1",
           "#e6dc77",
           "#e6dc77",
           "#e6dc77",
           "#e6dc77",
           "#64aee5",
           "#64aee5",
           "#64aee5",
           "#ec722e",
           "#64a2d8",
           "#F5761A",
           "Brown",
           "#F5761A",
           "#F5761A",
           "Green",
           "Green",
           "Green",
           "Green",
           "Green",
           "Green",
           "Green",
           "Green",
           "Green",
           "Green",
           "Green",
           "Green",
           "#F5761A",
           "#F5761A",
           "#F5761A",
           "#F5761A",
           "#8eef44",
           "#8eef44",
           "#ce281f",
           "#ce281f",
           "#ce281f",
           "#ce281f",
           "#ce281f",
           "#ce281f",
           "#ce281f",
           "#ce281f",
           "#ce281f",
           "#ce281f",
           "#ce281f",
           "#ce281f",
           "#ce281f",
           "#8eef44",
           "#ce281f",
           "#ce281f",
           "#ce281f",
           "#ce281f",
           "#ce281f",
           "#ce281f",
           "#ce281f",
           "#ce281f",
           "#ce281f",
           "#ce281f",
           "#ce281f",
           "#ce281f",
           "#ce281f",
           "#ce281f",
           "#ce281f",
           "#ce281f",
           "#ce281f",
           "#ce281f",
           "#ce281f",
           "#ce281f",
           "#ce281f",
           "#ce281f",
           "#ce281f",
           "#f2f6fa",
           "#ce281f",
           "#8eef44",
           "#8eef44",
           "#8eef44",
           "#8eef44",
           "#8eef44",
           "#8eef44",
           "#8eef44",
           "#8eef44",
           "#8eef44",
           "#8eef44",
           "#8eef44",
           "#8eef44",
           "#8eef44",
           "#8eef44",
           "#8eef44",
           "#8eef44",
           "#8eef44",
           "#ce281f",
           "#8eef44",
           "#8eef44",
           "#8eef44",
           "#ce281f",
           "#ce281f",
           "#ce281f",
           "#8eef44",
           "#8eef44",
           "#ce281f",
           "#64aee5",
           "#8eef44",
           "#7dc343",
           "#8eef44",
           "#ce281f",
           "#ce281f",
           "#ce281f",
           "Brown",
           "#b8d6b1",
           "#8eef44",
           "#F5761A",
           "#8eef44",
           "#ce281f",
           "#F5761A",
           "#ce281f",
           "#6082B6",
           "#8eef44",
           "#8eef44",
           "#8eef44"
          ]
         },
         "name": "",
         "parents": [
          "GRAFICO TREEMAP - SIZE VITAMINA D/2018/CENTRO/INVIERNO",
          "GRAFICO TREEMAP - SIZE VITAMINA D/2021/CENTRO",
          "GRAFICO TREEMAP - SIZE VITAMINA D/2018/NORTE",
          "GRAFICO TREEMAP - SIZE VITAMINA D/2019/NORTE",
          "GRAFICO TREEMAP - SIZE VITAMINA D/2021/NORTE",
          "GRAFICO TREEMAP - SIZE VITAMINA D/2018/SUR",
          "GRAFICO TREEMAP - SIZE VITAMINA D/2019/SUR",
          "GRAFICO TREEMAP - SIZE VITAMINA D/2020/SUR",
          "GRAFICO TREEMAP - SIZE VITAMINA D/2021/SUR",
          "GRAFICO TREEMAP - SIZE VITAMINA D/2019/CENTRO",
          "GRAFICO TREEMAP - SIZE VITAMINA D/2020/CENTRO",
          "GRAFICO TREEMAP - SIZE VITAMINA D/2021/CENTRO",
          "GRAFICO TREEMAP - SIZE VITAMINA D/2018/NORTE",
          "GRAFICO TREEMAP - SIZE VITAMINA D/2019/NORTE",
          "GRAFICO TREEMAP - SIZE VITAMINA D/2020/NORTE",
          "GRAFICO TREEMAP - SIZE VITAMINA D/2021/NORTE",
          "GRAFICO TREEMAP - SIZE VITAMINA D/2020/CENTRO",
          "GRAFICO TREEMAP - SIZE VITAMINA D/2018/SUR",
          "GRAFICO TREEMAP - SIZE VITAMINA D/2019/CENTRO",
          "GRAFICO TREEMAP - SIZE VITAMINA D/2021/SUR/VERANO",
          "GRAFICO TREEMAP - SIZE VITAMINA D",
          "GRAFICO TREEMAP - SIZE VITAMINA D/2019/SUR/PRIMAVERA",
          "GRAFICO TREEMAP - SIZE VITAMINA D/2020/SUR/PRIMAVERA",
          "GRAFICO TREEMAP - SIZE VITAMINA D/2021/SUR/PRIMAVERA",
          "GRAFICO TREEMAP - SIZE VITAMINA D/2018/CENTRO/VERANO",
          "GRAFICO TREEMAP - SIZE VITAMINA D/2019/CENTRO/VERANO",
          "GRAFICO TREEMAP - SIZE VITAMINA D/2020/CENTRO/VERANO",
          "GRAFICO TREEMAP - SIZE VITAMINA D/2021/CENTRO/VERANO",
          "GRAFICO TREEMAP - SIZE VITAMINA D/2018/NORTE/VERANO",
          "GRAFICO TREEMAP - SIZE VITAMINA D/2019/NORTE/VERANO",
          "GRAFICO TREEMAP - SIZE VITAMINA D/2020/NORTE/VERANO",
          "GRAFICO TREEMAP - SIZE VITAMINA D/2021/NORTE/VERANO",
          "GRAFICO TREEMAP - SIZE VITAMINA D/2018/SUR/VERANO",
          "GRAFICO TREEMAP - SIZE VITAMINA D/2019/SUR/VERANO",
          "GRAFICO TREEMAP - SIZE VITAMINA D/2020/SUR/VERANO",
          "GRAFICO TREEMAP - SIZE VITAMINA D/2018/CENTRO",
          "GRAFICO TREEMAP - SIZE VITAMINA D/2021/NORTE/PRIMAVERA",
          "GRAFICO TREEMAP - SIZE VITAMINA D/2019/SUR",
          "GRAFICO TREEMAP - SIZE VITAMINA D/2021/SUR",
          "GRAFICO TREEMAP - SIZE VITAMINA D/2018/SUR",
          "GRAFICO TREEMAP - SIZE VITAMINA D/2019/SUR",
          "GRAFICO TREEMAP - SIZE VITAMINA D/2021/SUR",
          "GRAFICO TREEMAP - SIZE VITAMINA D/2018",
          "GRAFICO TREEMAP - SIZE VITAMINA D/2019",
          "GRAFICO TREEMAP - SIZE VITAMINA D/2021",
          "GRAFICO TREEMAP - SIZE VITAMINA D/2018",
          "GRAFICO TREEMAP - SIZE VITAMINA D/2019",
          "GRAFICO TREEMAP - SIZE VITAMINA D/2020",
          "GRAFICO TREEMAP - SIZE VITAMINA D/2021",
          "GRAFICO TREEMAP - SIZE VITAMINA D/2018",
          "GRAFICO TREEMAP - SIZE VITAMINA D/2019",
          "GRAFICO TREEMAP - SIZE VITAMINA D/2020",
          "GRAFICO TREEMAP - SIZE VITAMINA D",
          "GRAFICO TREEMAP - SIZE VITAMINA D",
          "GRAFICO TREEMAP - SIZE VITAMINA D/2021/NORTE",
          "GRAFICO TREEMAP - SIZE VITAMINA D/2020/SUR",
          "GRAFICO TREEMAP - SIZE VITAMINA D/2019/NORTE",
          "GRAFICO TREEMAP - SIZE VITAMINA D/2021/CENTRO",
          "GRAFICO TREEMAP - SIZE VITAMINA D/2018/CENTRO",
          "GRAFICO TREEMAP - SIZE VITAMINA D/2019/CENTRO",
          "GRAFICO TREEMAP - SIZE VITAMINA D/2020/CENTRO",
          "GRAFICO TREEMAP - SIZE VITAMINA D/2021/CENTRO",
          "GRAFICO TREEMAP - SIZE VITAMINA D/2018/NORTE",
          "GRAFICO TREEMAP - SIZE VITAMINA D/2019/NORTE",
          "GRAFICO TREEMAP - SIZE VITAMINA D/2020/NORTE",
          "GRAFICO TREEMAP - SIZE VITAMINA D/2021/NORTE",
          "GRAFICO TREEMAP - SIZE VITAMINA D/2018/SUR",
          "GRAFICO TREEMAP - SIZE VITAMINA D/2019/SUR",
          "GRAFICO TREEMAP - SIZE VITAMINA D/2020/SUR",
          "GRAFICO TREEMAP - SIZE VITAMINA D/2021/SUR",
          "GRAFICO TREEMAP - SIZE VITAMINA D/2018/CENTRO",
          "GRAFICO TREEMAP - SIZE VITAMINA D/2019/CENTRO",
          "GRAFICO TREEMAP - SIZE VITAMINA D/2020/CENTRO",
          "GRAFICO TREEMAP - SIZE VITAMINA D/2018/NORTE",
          "GRAFICO TREEMAP - SIZE VITAMINA D/2018/NORTE/PRIMAVERA",
          "GRAFICO TREEMAP - SIZE VITAMINA D/2018/SUR/PRIMAVERA",
          "GRAFICO TREEMAP - SIZE VITAMINA D/2018/CENTRO/VERANO",
          "GRAFICO TREEMAP - SIZE VITAMINA D/2020/SUR/OTOÑO",
          "GRAFICO TREEMAP - SIZE VITAMINA D/2021/SUR/OTOÑO",
          "GRAFICO TREEMAP - SIZE VITAMINA D/2018/CENTRO/PRIMAVERA",
          "GRAFICO TREEMAP - SIZE VITAMINA D/2019/CENTRO/PRIMAVERA",
          "GRAFICO TREEMAP - SIZE VITAMINA D/2020/CENTRO/PRIMAVERA",
          "GRAFICO TREEMAP - SIZE VITAMINA D/2021/CENTRO/PRIMAVERA",
          "GRAFICO TREEMAP - SIZE VITAMINA D/2018/NORTE/PRIMAVERA",
          "GRAFICO TREEMAP - SIZE VITAMINA D/2019/NORTE/PRIMAVERA",
          "GRAFICO TREEMAP - SIZE VITAMINA D/2020/NORTE/PRIMAVERA",
          "GRAFICO TREEMAP - SIZE VITAMINA D/2021/NORTE/PRIMAVERA",
          "GRAFICO TREEMAP - SIZE VITAMINA D/2019/SUR/PRIMAVERA",
          "GRAFICO TREEMAP - SIZE VITAMINA D/2020/SUR/PRIMAVERA",
          "GRAFICO TREEMAP - SIZE VITAMINA D/2021/CENTRO/PRIMAVERA",
          "GRAFICO TREEMAP - SIZE VITAMINA D/2020/CENTRO/VERANO",
          "GRAFICO TREEMAP - SIZE VITAMINA D/2021/CENTRO/VERANO",
          "GRAFICO TREEMAP - SIZE VITAMINA D/2019/SUR/OTOÑO",
          "GRAFICO TREEMAP - SIZE VITAMINA D/2018/NORTE/VERANO",
          "GRAFICO TREEMAP - SIZE VITAMINA D/2018/SUR/OTOÑO",
          "GRAFICO TREEMAP - SIZE VITAMINA D/2020/NORTE/OTOÑO",
          "GRAFICO TREEMAP - SIZE VITAMINA D/2019/CENTRO/INVIERNO",
          "GRAFICO TREEMAP - SIZE VITAMINA D/2020/CENTRO/INVIERNO",
          "GRAFICO TREEMAP - SIZE VITAMINA D/2021/CENTRO/INVIERNO",
          "GRAFICO TREEMAP - SIZE VITAMINA D/2018/NORTE/INVIERNO",
          "GRAFICO TREEMAP - SIZE VITAMINA D/2020/NORTE/INVIERNO",
          "GRAFICO TREEMAP - SIZE VITAMINA D/2021/NORTE/INVIERNO",
          "GRAFICO TREEMAP - SIZE VITAMINA D/2019/SUR/INVIERNO",
          "GRAFICO TREEMAP - SIZE VITAMINA D/2020/SUR/INVIERNO",
          "GRAFICO TREEMAP - SIZE VITAMINA D/2021/SUR/INVIERNO",
          "GRAFICO TREEMAP - SIZE VITAMINA D/2018/CENTRO/OTOÑO",
          "GRAFICO TREEMAP - SIZE VITAMINA D/2019/CENTRO/OTOÑO",
          "GRAFICO TREEMAP - SIZE VITAMINA D/2020/CENTRO/OTOÑO",
          "GRAFICO TREEMAP - SIZE VITAMINA D/2021/CENTRO/OTOÑO",
          "GRAFICO TREEMAP - SIZE VITAMINA D/2018/NORTE/OTOÑO",
          "GRAFICO TREEMAP - SIZE VITAMINA D/2019/NORTE/OTOÑO",
          "GRAFICO TREEMAP - SIZE VITAMINA D/2021/NORTE/OTOÑO",
          "GRAFICO TREEMAP - SIZE VITAMINA D/2019/NORTE/VERANO",
          "",
          "GRAFICO TREEMAP - SIZE VITAMINA D/2021/NORTE/VERANO",
          "GRAFICO TREEMAP - SIZE VITAMINA D/2019/CENTRO/PRIMAVERA",
          "GRAFICO TREEMAP - SIZE VITAMINA D/2018/CENTRO/PRIMAVERA",
          "GRAFICO TREEMAP - SIZE VITAMINA D/2020/SUR/OTOÑO",
          "GRAFICO TREEMAP - SIZE VITAMINA D/2018/SUR/OTOÑO",
          "GRAFICO TREEMAP - SIZE VITAMINA D/2021/NORTE/OTOÑO",
          "GRAFICO TREEMAP - SIZE VITAMINA D/2020/NORTE/OTOÑO",
          "GRAFICO TREEMAP - SIZE VITAMINA D/2021/CENTRO/OTOÑO",
          "GRAFICO TREEMAP - SIZE VITAMINA D/2020/CENTRO/OTOÑO",
          "GRAFICO TREEMAP - SIZE VITAMINA D/2018/CENTRO/OTOÑO",
          "GRAFICO TREEMAP - SIZE VITAMINA D/2021/SUR/INVIERNO",
          "GRAFICO TREEMAP - SIZE VITAMINA D/2020/SUR/INVIERNO",
          "GRAFICO TREEMAP - SIZE VITAMINA D/2019/SUR/INVIERNO",
          "GRAFICO TREEMAP - SIZE VITAMINA D/2018/SUR/INVIERNO",
          "GRAFICO TREEMAP - SIZE VITAMINA D/2019/NORTE/INVIERNO",
          "GRAFICO TREEMAP - SIZE VITAMINA D/2019/CENTRO/OTOÑO",
          "GRAFICO TREEMAP - SIZE VITAMINA D/2018/NORTE/INVIERNO",
          "GRAFICO TREEMAP - SIZE VITAMINA D/2021/CENTRO/INVIERNO",
          "GRAFICO TREEMAP - SIZE VITAMINA D/2020/SUR/VERANO",
          "GRAFICO TREEMAP - SIZE VITAMINA D/2020/CENTRO/INVIERNO",
          "GRAFICO TREEMAP - SIZE VITAMINA D/2019/CENTRO/INVIERNO",
          "GRAFICO TREEMAP - SIZE VITAMINA D/2018/CENTRO/INVIERNO",
          "GRAFICO TREEMAP - SIZE VITAMINA D/2018/SUR/VERANO",
          "GRAFICO TREEMAP - SIZE VITAMINA D/2021/SUR/VERANO",
          "GRAFICO TREEMAP - SIZE VITAMINA D/2019/SUR/VERANO",
          "GRAFICO TREEMAP - SIZE VITAMINA D/2020/NORTE/INVIERNO",
          "GRAFICO TREEMAP - SIZE VITAMINA D/2021/SUR/OTOÑO",
          "GRAFICO TREEMAP - SIZE VITAMINA D/2019/NORTE/INVIERNO",
          "GRAFICO TREEMAP - SIZE VITAMINA D/2021",
          "GRAFICO TREEMAP - SIZE VITAMINA D/2020/NORTE/PRIMAVERA",
          "GRAFICO TREEMAP - SIZE VITAMINA D",
          "GRAFICO TREEMAP - SIZE VITAMINA D/2019/NORTE/PRIMAVERA",
          "GRAFICO TREEMAP - SIZE VITAMINA D/2019/CENTRO/VERANO",
          "GRAFICO TREEMAP - SIZE VITAMINA D/2018/SUR/INVIERNO",
          "GRAFICO TREEMAP - SIZE VITAMINA D/2021/SUR/PRIMAVERA",
          "GRAFICO TREEMAP - SIZE VITAMINA D/2018/CENTRO",
          "GRAFICO TREEMAP - SIZE VITAMINA D/2020",
          "GRAFICO TREEMAP - SIZE VITAMINA D/2019/NORTE/OTOÑO",
          "GRAFICO TREEMAP - SIZE VITAMINA D/2020/SUR",
          "GRAFICO TREEMAP - SIZE VITAMINA D/2018/NORTE/OTOÑO",
          "GRAFICO TREEMAP - SIZE VITAMINA D/2018/SUR/PRIMAVERA",
          "GRAFICO TREEMAP - SIZE VITAMINA D/2020/NORTE",
          "GRAFICO TREEMAP - SIZE VITAMINA D/2020/NORTE/VERANO",
          "GRAFICO TREEMAP - SIZE VITAMINA D/2020/NORTE",
          "GRAFICO TREEMAP - SIZE VITAMINA D/2021/NORTE/INVIERNO",
          "GRAFICO TREEMAP - SIZE VITAMINA D/2019/SUR/OTOÑO",
          "GRAFICO TREEMAP - SIZE VITAMINA D/2020/CENTRO/PRIMAVERA"
         ],
         "textfont": {
          "size": 14
         },
         "textinfo": "label+percent parent",
         "type": "treemap",
         "values": [
          5286,
          15060,
          684,
          1193,
          3803,
          945,
          2022,
          2388,
          5707,
          7951,
          2761,
          13327,
          652,
          1102,
          600,
          2976,
          8790,
          812,
          8980,
          596,
          90011,
          305,
          289,
          705,
          1295,
          2389,
          2841,
          2394,
          124,
          273,
          446,
          457,
          121,
          303,
          659,
          5709,
          491,
          1884,
          4847,
          635,
          1506,
          3787,
          22644,
          33079,
          56448,
          2675,
          4484,
          5299,
          13433,
          3489,
          7535,
          9103,
          28808,
          48609,
          2559,
          1106,
          1001,
          13235,
          6653,
          8375,
          13533,
          14826,
          772,
          1188,
          2225,
          4095,
          1097,
          2123,
          3241,
          5789,
          4869,
          7773,
          9123,
          567,
          71,
          69,
          3574,
          942,
          4381,
          5869,
          6605,
          11900,
          12319,
          701,
          932,
          1954,
          3604,
          1818,
          2952,
          2507,
          6282,
          10841,
          1640,
          443,
          666,
          443,
          7705,
          7928,
          13613,
          636,
          1068,
          3541,
          1794,
          2227,
          5284,
          4229,
          6252,
          2109,
          11719,
          454,
          876,
          2637,
          728,
          212526,
          2102,
          1770,
          784,
          164,
          146,
          339,
          157,
          1608,
          652,
          1184,
          423,
          161,
          228,
          34,
          180,
          1699,
          48,
          1447,
          1709,
          862,
          1275,
          423,
          514,
          3191,
          1203,
          130,
          466,
          1013,
          20130,
          271,
          45098,
          256,
          5384,
          911,
          5084,
          5413,
          34207,
          226,
          2368,
          198,
          1028,
          1276,
          830,
          1198,
          262,
          244,
          1633
         ]
        }
       ],
       "layout": {
        "height": 900,
        "legend": {
         "tracegroupgap": 0
        },
        "margin": {
         "b": 25,
         "l": 25,
         "r": 25,
         "t": 25
        },
        "template": {
         "data": {
          "bar": [
           {
            "error_x": {
             "color": "#2a3f5f"
            },
            "error_y": {
             "color": "#2a3f5f"
            },
            "marker": {
             "line": {
              "color": "white",
              "width": 0.5
             },
             "pattern": {
              "fillmode": "overlay",
              "size": 10,
              "solidity": 0.2
             }
            },
            "type": "bar"
           }
          ],
          "barpolar": [
           {
            "marker": {
             "line": {
              "color": "white",
              "width": 0.5
             },
             "pattern": {
              "fillmode": "overlay",
              "size": 10,
              "solidity": 0.2
             }
            },
            "type": "barpolar"
           }
          ],
          "carpet": [
           {
            "aaxis": {
             "endlinecolor": "#2a3f5f",
             "gridcolor": "#C8D4E3",
             "linecolor": "#C8D4E3",
             "minorgridcolor": "#C8D4E3",
             "startlinecolor": "#2a3f5f"
            },
            "baxis": {
             "endlinecolor": "#2a3f5f",
             "gridcolor": "#C8D4E3",
             "linecolor": "#C8D4E3",
             "minorgridcolor": "#C8D4E3",
             "startlinecolor": "#2a3f5f"
            },
            "type": "carpet"
           }
          ],
          "choropleth": [
           {
            "colorbar": {
             "outlinewidth": 0,
             "ticks": ""
            },
            "type": "choropleth"
           }
          ],
          "contour": [
           {
            "colorbar": {
             "outlinewidth": 0,
             "ticks": ""
            },
            "colorscale": [
             [
              0,
              "#0d0887"
             ],
             [
              0.1111111111111111,
              "#46039f"
             ],
             [
              0.2222222222222222,
              "#7201a8"
             ],
             [
              0.3333333333333333,
              "#9c179e"
             ],
             [
              0.4444444444444444,
              "#bd3786"
             ],
             [
              0.5555555555555556,
              "#d8576b"
             ],
             [
              0.6666666666666666,
              "#ed7953"
             ],
             [
              0.7777777777777778,
              "#fb9f3a"
             ],
             [
              0.8888888888888888,
              "#fdca26"
             ],
             [
              1,
              "#f0f921"
             ]
            ],
            "type": "contour"
           }
          ],
          "contourcarpet": [
           {
            "colorbar": {
             "outlinewidth": 0,
             "ticks": ""
            },
            "type": "contourcarpet"
           }
          ],
          "heatmap": [
           {
            "colorbar": {
             "outlinewidth": 0,
             "ticks": ""
            },
            "colorscale": [
             [
              0,
              "#0d0887"
             ],
             [
              0.1111111111111111,
              "#46039f"
             ],
             [
              0.2222222222222222,
              "#7201a8"
             ],
             [
              0.3333333333333333,
              "#9c179e"
             ],
             [
              0.4444444444444444,
              "#bd3786"
             ],
             [
              0.5555555555555556,
              "#d8576b"
             ],
             [
              0.6666666666666666,
              "#ed7953"
             ],
             [
              0.7777777777777778,
              "#fb9f3a"
             ],
             [
              0.8888888888888888,
              "#fdca26"
             ],
             [
              1,
              "#f0f921"
             ]
            ],
            "type": "heatmap"
           }
          ],
          "heatmapgl": [
           {
            "colorbar": {
             "outlinewidth": 0,
             "ticks": ""
            },
            "colorscale": [
             [
              0,
              "#0d0887"
             ],
             [
              0.1111111111111111,
              "#46039f"
             ],
             [
              0.2222222222222222,
              "#7201a8"
             ],
             [
              0.3333333333333333,
              "#9c179e"
             ],
             [
              0.4444444444444444,
              "#bd3786"
             ],
             [
              0.5555555555555556,
              "#d8576b"
             ],
             [
              0.6666666666666666,
              "#ed7953"
             ],
             [
              0.7777777777777778,
              "#fb9f3a"
             ],
             [
              0.8888888888888888,
              "#fdca26"
             ],
             [
              1,
              "#f0f921"
             ]
            ],
            "type": "heatmapgl"
           }
          ],
          "histogram": [
           {
            "marker": {
             "pattern": {
              "fillmode": "overlay",
              "size": 10,
              "solidity": 0.2
             }
            },
            "type": "histogram"
           }
          ],
          "histogram2d": [
           {
            "colorbar": {
             "outlinewidth": 0,
             "ticks": ""
            },
            "colorscale": [
             [
              0,
              "#0d0887"
             ],
             [
              0.1111111111111111,
              "#46039f"
             ],
             [
              0.2222222222222222,
              "#7201a8"
             ],
             [
              0.3333333333333333,
              "#9c179e"
             ],
             [
              0.4444444444444444,
              "#bd3786"
             ],
             [
              0.5555555555555556,
              "#d8576b"
             ],
             [
              0.6666666666666666,
              "#ed7953"
             ],
             [
              0.7777777777777778,
              "#fb9f3a"
             ],
             [
              0.8888888888888888,
              "#fdca26"
             ],
             [
              1,
              "#f0f921"
             ]
            ],
            "type": "histogram2d"
           }
          ],
          "histogram2dcontour": [
           {
            "colorbar": {
             "outlinewidth": 0,
             "ticks": ""
            },
            "colorscale": [
             [
              0,
              "#0d0887"
             ],
             [
              0.1111111111111111,
              "#46039f"
             ],
             [
              0.2222222222222222,
              "#7201a8"
             ],
             [
              0.3333333333333333,
              "#9c179e"
             ],
             [
              0.4444444444444444,
              "#bd3786"
             ],
             [
              0.5555555555555556,
              "#d8576b"
             ],
             [
              0.6666666666666666,
              "#ed7953"
             ],
             [
              0.7777777777777778,
              "#fb9f3a"
             ],
             [
              0.8888888888888888,
              "#fdca26"
             ],
             [
              1,
              "#f0f921"
             ]
            ],
            "type": "histogram2dcontour"
           }
          ],
          "mesh3d": [
           {
            "colorbar": {
             "outlinewidth": 0,
             "ticks": ""
            },
            "type": "mesh3d"
           }
          ],
          "parcoords": [
           {
            "line": {
             "colorbar": {
              "outlinewidth": 0,
              "ticks": ""
             }
            },
            "type": "parcoords"
           }
          ],
          "pie": [
           {
            "automargin": true,
            "type": "pie"
           }
          ],
          "scatter": [
           {
            "marker": {
             "colorbar": {
              "outlinewidth": 0,
              "ticks": ""
             }
            },
            "type": "scatter"
           }
          ],
          "scatter3d": [
           {
            "line": {
             "colorbar": {
              "outlinewidth": 0,
              "ticks": ""
             }
            },
            "marker": {
             "colorbar": {
              "outlinewidth": 0,
              "ticks": ""
             }
            },
            "type": "scatter3d"
           }
          ],
          "scattercarpet": [
           {
            "marker": {
             "colorbar": {
              "outlinewidth": 0,
              "ticks": ""
             }
            },
            "type": "scattercarpet"
           }
          ],
          "scattergeo": [
           {
            "marker": {
             "colorbar": {
              "outlinewidth": 0,
              "ticks": ""
             }
            },
            "type": "scattergeo"
           }
          ],
          "scattergl": [
           {
            "marker": {
             "colorbar": {
              "outlinewidth": 0,
              "ticks": ""
             }
            },
            "type": "scattergl"
           }
          ],
          "scattermapbox": [
           {
            "marker": {
             "colorbar": {
              "outlinewidth": 0,
              "ticks": ""
             }
            },
            "type": "scattermapbox"
           }
          ],
          "scatterpolar": [
           {
            "marker": {
             "colorbar": {
              "outlinewidth": 0,
              "ticks": ""
             }
            },
            "type": "scatterpolar"
           }
          ],
          "scatterpolargl": [
           {
            "marker": {
             "colorbar": {
              "outlinewidth": 0,
              "ticks": ""
             }
            },
            "type": "scatterpolargl"
           }
          ],
          "scatterternary": [
           {
            "marker": {
             "colorbar": {
              "outlinewidth": 0,
              "ticks": ""
             }
            },
            "type": "scatterternary"
           }
          ],
          "surface": [
           {
            "colorbar": {
             "outlinewidth": 0,
             "ticks": ""
            },
            "colorscale": [
             [
              0,
              "#0d0887"
             ],
             [
              0.1111111111111111,
              "#46039f"
             ],
             [
              0.2222222222222222,
              "#7201a8"
             ],
             [
              0.3333333333333333,
              "#9c179e"
             ],
             [
              0.4444444444444444,
              "#bd3786"
             ],
             [
              0.5555555555555556,
              "#d8576b"
             ],
             [
              0.6666666666666666,
              "#ed7953"
             ],
             [
              0.7777777777777778,
              "#fb9f3a"
             ],
             [
              0.8888888888888888,
              "#fdca26"
             ],
             [
              1,
              "#f0f921"
             ]
            ],
            "type": "surface"
           }
          ],
          "table": [
           {
            "cells": {
             "fill": {
              "color": "#EBF0F8"
             },
             "line": {
              "color": "white"
             }
            },
            "header": {
             "fill": {
              "color": "#C8D4E3"
             },
             "line": {
              "color": "white"
             }
            },
            "type": "table"
           }
          ]
         },
         "layout": {
          "annotationdefaults": {
           "arrowcolor": "#2a3f5f",
           "arrowhead": 0,
           "arrowwidth": 1
          },
          "autotypenumbers": "strict",
          "coloraxis": {
           "colorbar": {
            "outlinewidth": 0,
            "ticks": ""
           }
          },
          "colorscale": {
           "diverging": [
            [
             0,
             "#8e0152"
            ],
            [
             0.1,
             "#c51b7d"
            ],
            [
             0.2,
             "#de77ae"
            ],
            [
             0.3,
             "#f1b6da"
            ],
            [
             0.4,
             "#fde0ef"
            ],
            [
             0.5,
             "#f7f7f7"
            ],
            [
             0.6,
             "#e6f5d0"
            ],
            [
             0.7,
             "#b8e186"
            ],
            [
             0.8,
             "#7fbc41"
            ],
            [
             0.9,
             "#4d9221"
            ],
            [
             1,
             "#276419"
            ]
           ],
           "sequential": [
            [
             0,
             "#0d0887"
            ],
            [
             0.1111111111111111,
             "#46039f"
            ],
            [
             0.2222222222222222,
             "#7201a8"
            ],
            [
             0.3333333333333333,
             "#9c179e"
            ],
            [
             0.4444444444444444,
             "#bd3786"
            ],
            [
             0.5555555555555556,
             "#d8576b"
            ],
            [
             0.6666666666666666,
             "#ed7953"
            ],
            [
             0.7777777777777778,
             "#fb9f3a"
            ],
            [
             0.8888888888888888,
             "#fdca26"
            ],
            [
             1,
             "#f0f921"
            ]
           ],
           "sequentialminus": [
            [
             0,
             "#0d0887"
            ],
            [
             0.1111111111111111,
             "#46039f"
            ],
            [
             0.2222222222222222,
             "#7201a8"
            ],
            [
             0.3333333333333333,
             "#9c179e"
            ],
            [
             0.4444444444444444,
             "#bd3786"
            ],
            [
             0.5555555555555556,
             "#d8576b"
            ],
            [
             0.6666666666666666,
             "#ed7953"
            ],
            [
             0.7777777777777778,
             "#fb9f3a"
            ],
            [
             0.8888888888888888,
             "#fdca26"
            ],
            [
             1,
             "#f0f921"
            ]
           ]
          },
          "colorway": [
           "#636efa",
           "#EF553B",
           "#00cc96",
           "#ab63fa",
           "#FFA15A",
           "#19d3f3",
           "#FF6692",
           "#B6E880",
           "#FF97FF",
           "#FECB52"
          ],
          "font": {
           "color": "#2a3f5f"
          },
          "geo": {
           "bgcolor": "white",
           "lakecolor": "white",
           "landcolor": "white",
           "showlakes": true,
           "showland": true,
           "subunitcolor": "#C8D4E3"
          },
          "hoverlabel": {
           "align": "left"
          },
          "hovermode": "closest",
          "mapbox": {
           "style": "light"
          },
          "paper_bgcolor": "white",
          "plot_bgcolor": "white",
          "polar": {
           "angularaxis": {
            "gridcolor": "#EBF0F8",
            "linecolor": "#EBF0F8",
            "ticks": ""
           },
           "bgcolor": "white",
           "radialaxis": {
            "gridcolor": "#EBF0F8",
            "linecolor": "#EBF0F8",
            "ticks": ""
           }
          },
          "scene": {
           "xaxis": {
            "backgroundcolor": "white",
            "gridcolor": "#DFE8F3",
            "gridwidth": 2,
            "linecolor": "#EBF0F8",
            "showbackground": true,
            "ticks": "",
            "zerolinecolor": "#EBF0F8"
           },
           "yaxis": {
            "backgroundcolor": "white",
            "gridcolor": "#DFE8F3",
            "gridwidth": 2,
            "linecolor": "#EBF0F8",
            "showbackground": true,
            "ticks": "",
            "zerolinecolor": "#EBF0F8"
           },
           "zaxis": {
            "backgroundcolor": "white",
            "gridcolor": "#DFE8F3",
            "gridwidth": 2,
            "linecolor": "#EBF0F8",
            "showbackground": true,
            "ticks": "",
            "zerolinecolor": "#EBF0F8"
           }
          },
          "shapedefaults": {
           "line": {
            "color": "#2a3f5f"
           }
          },
          "ternary": {
           "aaxis": {
            "gridcolor": "#DFE8F3",
            "linecolor": "#A2B1C6",
            "ticks": ""
           },
           "baxis": {
            "gridcolor": "#DFE8F3",
            "linecolor": "#A2B1C6",
            "ticks": ""
           },
           "bgcolor": "white",
           "caxis": {
            "gridcolor": "#DFE8F3",
            "linecolor": "#A2B1C6",
            "ticks": ""
           }
          },
          "title": {
           "x": 0.05
          },
          "xaxis": {
           "automargin": true,
           "gridcolor": "#EBF0F8",
           "linecolor": "#EBF0F8",
           "ticks": "",
           "title": {
            "standoff": 15
           },
           "zerolinecolor": "#EBF0F8",
           "zerolinewidth": 2
          },
          "yaxis": {
           "automargin": true,
           "gridcolor": "#EBF0F8",
           "linecolor": "#EBF0F8",
           "ticks": "",
           "title": {
            "standoff": 15
           },
           "zerolinecolor": "#EBF0F8",
           "zerolinewidth": 2
          }
         }
        }
       }
      }
     },
     "metadata": {},
     "output_type": "display_data"
    },
    {
     "data": {
      "text/plain": [
       "<function __main__.update_treemap(zona)>"
      ]
     },
     "execution_count": 38,
     "metadata": {},
     "output_type": "execute_result"
    }
   ],
   "source": [
    "#Treemap\n",
    "dropdown_zona = widgets.Dropdown(\n",
    "    value='ALL', \n",
    "    options=['ALL','Norte', 'Centro', 'Sur'], \n",
    "    description='Zona :'\n",
    ")\n",
    "\n",
    "widgets.interact(update_treemap, zona=dropdown_zona) "
   ]
  },
  {
   "cell_type": "code",
   "execution_count": 39,
   "metadata": {},
   "outputs": [
    {
     "data": {
      "application/vnd.jupyter.widget-view+json": {
       "model_id": "7fb1b7fa0fb24e188e0fb477090dca01",
       "version_major": 2,
       "version_minor": 0
      },
      "text/plain": [
       "interactive(children=(Dropdown(description='Año :', options=('ALL', '2018', '2019', '2020', '2021'), value='AL…"
      ]
     },
     "metadata": {},
     "output_type": "display_data"
    },
    {
     "data": {
      "application/vnd.plotly.v1+json": {
       "config": {
        "plotlyServerURL": "https://plot.ly"
       },
       "data": [
        {
         "branchvalues": "total",
         "hovertemplate": "<b>%{label}:</b> <br> Total : %{value} <extra></extra>",
         "ids": [
          "2018/Deficiente/Adulto",
          "2019/Deficiente/Adulto",
          "2020/Deficiente/Adulto",
          "2021/Deficiente/Adulto",
          "2018/Deseable/Adulto",
          "2019/Deseable/Adulto",
          "2020/Deseable/Adulto",
          "2021/Deseable/Adulto",
          "2018/Deficiente/Niño",
          "2019/Deficiente/Niño",
          "2020/Deficiente/Niño",
          "2021/Deficiente/Niño",
          "2018/Deseable/Niño",
          "2019/Deseable/Niño",
          "2020/Deseable/Niño",
          "2021/Deseable/Niño",
          "2018/Deficiente",
          "2019/Deficiente",
          "2020/Deficiente",
          "2021/Deficiente",
          "2018/Deseable",
          "2019/Deseable",
          "2020/Deseable",
          "2021/Deseable",
          "2018",
          "2019",
          "2020",
          "2021"
         ],
         "labels": [
          "Adulto",
          "Adulto",
          "Adulto",
          "Adulto",
          "Adulto",
          "Adulto",
          "Adulto",
          "Adulto",
          "Niño",
          "Niño",
          "Niño",
          "Niño",
          "Niño",
          "Niño",
          "Niño",
          "Niño",
          "Deficiente",
          "Deficiente",
          "Deficiente",
          "Deficiente",
          "Deseable",
          "Deseable",
          "Deseable",
          "Deseable",
          "2018",
          "2019",
          "2020",
          "2021"
         ],
         "marker": {
          "colors": [
           "#ce281f",
           "#ce281f",
           "#ce281f",
           "#ce281f",
           "#8eef44",
           "#8eef44",
           "#8eef44",
           "#8eef44",
           "#ce281f",
           "#ce281f",
           "#ce281f",
           "#ce281f",
           "#8eef44",
           "#8eef44",
           "#8eef44",
           "#8eef44",
           "#ce281f",
           "#ce281f",
           "#ce281f",
           "#ce281f",
           "#8eef44",
           "#8eef44",
           "#8eef44",
           "#8eef44",
           "#ec722e",
           "#7dc343",
           "#64a2d8",
           "#eed842"
          ]
         },
         "maxdepth": 3,
         "parents": [
          "2018/Deficiente",
          "2019/Deficiente",
          "2020/Deficiente",
          "2021/Deficiente",
          "2018/Deseable",
          "2019/Deseable",
          "2020/Deseable",
          "2021/Deseable",
          "2018/Deficiente",
          "2019/Deficiente",
          "2020/Deficiente",
          "2021/Deficiente",
          "2018/Deseable",
          "2019/Deseable",
          "2020/Deseable",
          "2021/Deseable",
          "2018",
          "2019",
          "2020",
          "2021",
          "2018",
          "2019",
          "2020",
          "2021",
          "",
          "",
          "",
          ""
         ],
         "textfont": {
          "size": 14
         },
         "textinfo": "label+percent parent",
         "type": "sunburst",
         "values": [
          90724,
          133664,
          148644,
          281772,
          16128,
          33052,
          30212,
          42720,
          6520,
          10136,
          12732,
          31492,
          1860,
          3540,
          2848,
          4060,
          97244,
          143800,
          161376,
          313264,
          17988,
          36592,
          33060,
          46780,
          115232,
          180392,
          194436,
          360044
         ]
        }
       ],
       "layout": {
        "height": 900,
        "template": {
         "data": {
          "bar": [
           {
            "error_x": {
             "color": "#2a3f5f"
            },
            "error_y": {
             "color": "#2a3f5f"
            },
            "marker": {
             "line": {
              "color": "white",
              "width": 0.5
             },
             "pattern": {
              "fillmode": "overlay",
              "size": 10,
              "solidity": 0.2
             }
            },
            "type": "bar"
           }
          ],
          "barpolar": [
           {
            "marker": {
             "line": {
              "color": "white",
              "width": 0.5
             },
             "pattern": {
              "fillmode": "overlay",
              "size": 10,
              "solidity": 0.2
             }
            },
            "type": "barpolar"
           }
          ],
          "carpet": [
           {
            "aaxis": {
             "endlinecolor": "#2a3f5f",
             "gridcolor": "#C8D4E3",
             "linecolor": "#C8D4E3",
             "minorgridcolor": "#C8D4E3",
             "startlinecolor": "#2a3f5f"
            },
            "baxis": {
             "endlinecolor": "#2a3f5f",
             "gridcolor": "#C8D4E3",
             "linecolor": "#C8D4E3",
             "minorgridcolor": "#C8D4E3",
             "startlinecolor": "#2a3f5f"
            },
            "type": "carpet"
           }
          ],
          "choropleth": [
           {
            "colorbar": {
             "outlinewidth": 0,
             "ticks": ""
            },
            "type": "choropleth"
           }
          ],
          "contour": [
           {
            "colorbar": {
             "outlinewidth": 0,
             "ticks": ""
            },
            "colorscale": [
             [
              0,
              "#0d0887"
             ],
             [
              0.1111111111111111,
              "#46039f"
             ],
             [
              0.2222222222222222,
              "#7201a8"
             ],
             [
              0.3333333333333333,
              "#9c179e"
             ],
             [
              0.4444444444444444,
              "#bd3786"
             ],
             [
              0.5555555555555556,
              "#d8576b"
             ],
             [
              0.6666666666666666,
              "#ed7953"
             ],
             [
              0.7777777777777778,
              "#fb9f3a"
             ],
             [
              0.8888888888888888,
              "#fdca26"
             ],
             [
              1,
              "#f0f921"
             ]
            ],
            "type": "contour"
           }
          ],
          "contourcarpet": [
           {
            "colorbar": {
             "outlinewidth": 0,
             "ticks": ""
            },
            "type": "contourcarpet"
           }
          ],
          "heatmap": [
           {
            "colorbar": {
             "outlinewidth": 0,
             "ticks": ""
            },
            "colorscale": [
             [
              0,
              "#0d0887"
             ],
             [
              0.1111111111111111,
              "#46039f"
             ],
             [
              0.2222222222222222,
              "#7201a8"
             ],
             [
              0.3333333333333333,
              "#9c179e"
             ],
             [
              0.4444444444444444,
              "#bd3786"
             ],
             [
              0.5555555555555556,
              "#d8576b"
             ],
             [
              0.6666666666666666,
              "#ed7953"
             ],
             [
              0.7777777777777778,
              "#fb9f3a"
             ],
             [
              0.8888888888888888,
              "#fdca26"
             ],
             [
              1,
              "#f0f921"
             ]
            ],
            "type": "heatmap"
           }
          ],
          "heatmapgl": [
           {
            "colorbar": {
             "outlinewidth": 0,
             "ticks": ""
            },
            "colorscale": [
             [
              0,
              "#0d0887"
             ],
             [
              0.1111111111111111,
              "#46039f"
             ],
             [
              0.2222222222222222,
              "#7201a8"
             ],
             [
              0.3333333333333333,
              "#9c179e"
             ],
             [
              0.4444444444444444,
              "#bd3786"
             ],
             [
              0.5555555555555556,
              "#d8576b"
             ],
             [
              0.6666666666666666,
              "#ed7953"
             ],
             [
              0.7777777777777778,
              "#fb9f3a"
             ],
             [
              0.8888888888888888,
              "#fdca26"
             ],
             [
              1,
              "#f0f921"
             ]
            ],
            "type": "heatmapgl"
           }
          ],
          "histogram": [
           {
            "marker": {
             "pattern": {
              "fillmode": "overlay",
              "size": 10,
              "solidity": 0.2
             }
            },
            "type": "histogram"
           }
          ],
          "histogram2d": [
           {
            "colorbar": {
             "outlinewidth": 0,
             "ticks": ""
            },
            "colorscale": [
             [
              0,
              "#0d0887"
             ],
             [
              0.1111111111111111,
              "#46039f"
             ],
             [
              0.2222222222222222,
              "#7201a8"
             ],
             [
              0.3333333333333333,
              "#9c179e"
             ],
             [
              0.4444444444444444,
              "#bd3786"
             ],
             [
              0.5555555555555556,
              "#d8576b"
             ],
             [
              0.6666666666666666,
              "#ed7953"
             ],
             [
              0.7777777777777778,
              "#fb9f3a"
             ],
             [
              0.8888888888888888,
              "#fdca26"
             ],
             [
              1,
              "#f0f921"
             ]
            ],
            "type": "histogram2d"
           }
          ],
          "histogram2dcontour": [
           {
            "colorbar": {
             "outlinewidth": 0,
             "ticks": ""
            },
            "colorscale": [
             [
              0,
              "#0d0887"
             ],
             [
              0.1111111111111111,
              "#46039f"
             ],
             [
              0.2222222222222222,
              "#7201a8"
             ],
             [
              0.3333333333333333,
              "#9c179e"
             ],
             [
              0.4444444444444444,
              "#bd3786"
             ],
             [
              0.5555555555555556,
              "#d8576b"
             ],
             [
              0.6666666666666666,
              "#ed7953"
             ],
             [
              0.7777777777777778,
              "#fb9f3a"
             ],
             [
              0.8888888888888888,
              "#fdca26"
             ],
             [
              1,
              "#f0f921"
             ]
            ],
            "type": "histogram2dcontour"
           }
          ],
          "mesh3d": [
           {
            "colorbar": {
             "outlinewidth": 0,
             "ticks": ""
            },
            "type": "mesh3d"
           }
          ],
          "parcoords": [
           {
            "line": {
             "colorbar": {
              "outlinewidth": 0,
              "ticks": ""
             }
            },
            "type": "parcoords"
           }
          ],
          "pie": [
           {
            "automargin": true,
            "type": "pie"
           }
          ],
          "scatter": [
           {
            "marker": {
             "colorbar": {
              "outlinewidth": 0,
              "ticks": ""
             }
            },
            "type": "scatter"
           }
          ],
          "scatter3d": [
           {
            "line": {
             "colorbar": {
              "outlinewidth": 0,
              "ticks": ""
             }
            },
            "marker": {
             "colorbar": {
              "outlinewidth": 0,
              "ticks": ""
             }
            },
            "type": "scatter3d"
           }
          ],
          "scattercarpet": [
           {
            "marker": {
             "colorbar": {
              "outlinewidth": 0,
              "ticks": ""
             }
            },
            "type": "scattercarpet"
           }
          ],
          "scattergeo": [
           {
            "marker": {
             "colorbar": {
              "outlinewidth": 0,
              "ticks": ""
             }
            },
            "type": "scattergeo"
           }
          ],
          "scattergl": [
           {
            "marker": {
             "colorbar": {
              "outlinewidth": 0,
              "ticks": ""
             }
            },
            "type": "scattergl"
           }
          ],
          "scattermapbox": [
           {
            "marker": {
             "colorbar": {
              "outlinewidth": 0,
              "ticks": ""
             }
            },
            "type": "scattermapbox"
           }
          ],
          "scatterpolar": [
           {
            "marker": {
             "colorbar": {
              "outlinewidth": 0,
              "ticks": ""
             }
            },
            "type": "scatterpolar"
           }
          ],
          "scatterpolargl": [
           {
            "marker": {
             "colorbar": {
              "outlinewidth": 0,
              "ticks": ""
             }
            },
            "type": "scatterpolargl"
           }
          ],
          "scatterternary": [
           {
            "marker": {
             "colorbar": {
              "outlinewidth": 0,
              "ticks": ""
             }
            },
            "type": "scatterternary"
           }
          ],
          "surface": [
           {
            "colorbar": {
             "outlinewidth": 0,
             "ticks": ""
            },
            "colorscale": [
             [
              0,
              "#0d0887"
             ],
             [
              0.1111111111111111,
              "#46039f"
             ],
             [
              0.2222222222222222,
              "#7201a8"
             ],
             [
              0.3333333333333333,
              "#9c179e"
             ],
             [
              0.4444444444444444,
              "#bd3786"
             ],
             [
              0.5555555555555556,
              "#d8576b"
             ],
             [
              0.6666666666666666,
              "#ed7953"
             ],
             [
              0.7777777777777778,
              "#fb9f3a"
             ],
             [
              0.8888888888888888,
              "#fdca26"
             ],
             [
              1,
              "#f0f921"
             ]
            ],
            "type": "surface"
           }
          ],
          "table": [
           {
            "cells": {
             "fill": {
              "color": "#EBF0F8"
             },
             "line": {
              "color": "white"
             }
            },
            "header": {
             "fill": {
              "color": "#C8D4E3"
             },
             "line": {
              "color": "white"
             }
            },
            "type": "table"
           }
          ]
         },
         "layout": {
          "annotationdefaults": {
           "arrowcolor": "#2a3f5f",
           "arrowhead": 0,
           "arrowwidth": 1
          },
          "autotypenumbers": "strict",
          "coloraxis": {
           "colorbar": {
            "outlinewidth": 0,
            "ticks": ""
           }
          },
          "colorscale": {
           "diverging": [
            [
             0,
             "#8e0152"
            ],
            [
             0.1,
             "#c51b7d"
            ],
            [
             0.2,
             "#de77ae"
            ],
            [
             0.3,
             "#f1b6da"
            ],
            [
             0.4,
             "#fde0ef"
            ],
            [
             0.5,
             "#f7f7f7"
            ],
            [
             0.6,
             "#e6f5d0"
            ],
            [
             0.7,
             "#b8e186"
            ],
            [
             0.8,
             "#7fbc41"
            ],
            [
             0.9,
             "#4d9221"
            ],
            [
             1,
             "#276419"
            ]
           ],
           "sequential": [
            [
             0,
             "#0d0887"
            ],
            [
             0.1111111111111111,
             "#46039f"
            ],
            [
             0.2222222222222222,
             "#7201a8"
            ],
            [
             0.3333333333333333,
             "#9c179e"
            ],
            [
             0.4444444444444444,
             "#bd3786"
            ],
            [
             0.5555555555555556,
             "#d8576b"
            ],
            [
             0.6666666666666666,
             "#ed7953"
            ],
            [
             0.7777777777777778,
             "#fb9f3a"
            ],
            [
             0.8888888888888888,
             "#fdca26"
            ],
            [
             1,
             "#f0f921"
            ]
           ],
           "sequentialminus": [
            [
             0,
             "#0d0887"
            ],
            [
             0.1111111111111111,
             "#46039f"
            ],
            [
             0.2222222222222222,
             "#7201a8"
            ],
            [
             0.3333333333333333,
             "#9c179e"
            ],
            [
             0.4444444444444444,
             "#bd3786"
            ],
            [
             0.5555555555555556,
             "#d8576b"
            ],
            [
             0.6666666666666666,
             "#ed7953"
            ],
            [
             0.7777777777777778,
             "#fb9f3a"
            ],
            [
             0.8888888888888888,
             "#fdca26"
            ],
            [
             1,
             "#f0f921"
            ]
           ]
          },
          "colorway": [
           "#636efa",
           "#EF553B",
           "#00cc96",
           "#ab63fa",
           "#FFA15A",
           "#19d3f3",
           "#FF6692",
           "#B6E880",
           "#FF97FF",
           "#FECB52"
          ],
          "font": {
           "color": "#2a3f5f"
          },
          "geo": {
           "bgcolor": "white",
           "lakecolor": "white",
           "landcolor": "white",
           "showlakes": true,
           "showland": true,
           "subunitcolor": "#C8D4E3"
          },
          "hoverlabel": {
           "align": "left"
          },
          "hovermode": "closest",
          "mapbox": {
           "style": "light"
          },
          "paper_bgcolor": "white",
          "plot_bgcolor": "white",
          "polar": {
           "angularaxis": {
            "gridcolor": "#EBF0F8",
            "linecolor": "#EBF0F8",
            "ticks": ""
           },
           "bgcolor": "white",
           "radialaxis": {
            "gridcolor": "#EBF0F8",
            "linecolor": "#EBF0F8",
            "ticks": ""
           }
          },
          "scene": {
           "xaxis": {
            "backgroundcolor": "white",
            "gridcolor": "#DFE8F3",
            "gridwidth": 2,
            "linecolor": "#EBF0F8",
            "showbackground": true,
            "ticks": "",
            "zerolinecolor": "#EBF0F8"
           },
           "yaxis": {
            "backgroundcolor": "white",
            "gridcolor": "#DFE8F3",
            "gridwidth": 2,
            "linecolor": "#EBF0F8",
            "showbackground": true,
            "ticks": "",
            "zerolinecolor": "#EBF0F8"
           },
           "zaxis": {
            "backgroundcolor": "white",
            "gridcolor": "#DFE8F3",
            "gridwidth": 2,
            "linecolor": "#EBF0F8",
            "showbackground": true,
            "ticks": "",
            "zerolinecolor": "#EBF0F8"
           }
          },
          "shapedefaults": {
           "line": {
            "color": "#2a3f5f"
           }
          },
          "ternary": {
           "aaxis": {
            "gridcolor": "#DFE8F3",
            "linecolor": "#A2B1C6",
            "ticks": ""
           },
           "baxis": {
            "gridcolor": "#DFE8F3",
            "linecolor": "#A2B1C6",
            "ticks": ""
           },
           "bgcolor": "white",
           "caxis": {
            "gridcolor": "#DFE8F3",
            "linecolor": "#A2B1C6",
            "ticks": ""
           }
          },
          "title": {
           "x": 0.05
          },
          "xaxis": {
           "automargin": true,
           "gridcolor": "#EBF0F8",
           "linecolor": "#EBF0F8",
           "ticks": "",
           "title": {
            "standoff": 15
           },
           "zerolinecolor": "#EBF0F8",
           "zerolinewidth": 2
          },
          "yaxis": {
           "automargin": true,
           "gridcolor": "#EBF0F8",
           "linecolor": "#EBF0F8",
           "ticks": "",
           "title": {
            "standoff": 15
           },
           "zerolinecolor": "#EBF0F8",
           "zerolinewidth": 2
          }
         }
        },
        "title": {
         "text": "GRAFICO SUNBURTS DISTRIBUCION VITAMINA D"
        }
       }
      }
     },
     "metadata": {},
     "output_type": "display_data"
    },
    {
     "data": {
      "text/plain": [
       "<function __main__.update_sunburts(year)>"
      ]
     },
     "execution_count": 39,
     "metadata": {},
     "output_type": "execute_result"
    }
   ],
   "source": [
    "#Sunburts\n",
    "dropdown_año = widgets.Dropdown(\n",
    "    value='ALL', \n",
    "    options=['ALL','2018', '2019', '2020', '2021'], \n",
    "    description='Año :'\n",
    ")\n",
    "\n",
    "widgets.interact(update_sunburts, year = dropdown_año) "
   ]
  }
 ],
 "metadata": {
  "kernelspec": {
   "display_name": "Python 3.9.12 ('base')",
   "language": "python",
   "name": "python3"
  },
  "language_info": {
   "codemirror_mode": {
    "name": "ipython",
    "version": 3
   },
   "file_extension": ".py",
   "mimetype": "text/x-python",
   "name": "python",
   "nbconvert_exporter": "python",
   "pygments_lexer": "ipython3",
   "version": "3.9.12"
  },
  "orig_nbformat": 4,
  "vscode": {
   "interpreter": {
    "hash": "476a13b78396884429a9e59bf86822666fa5c313319458a9e6e955588e8d0531"
   }
  }
 },
 "nbformat": 4,
 "nbformat_minor": 2
}
